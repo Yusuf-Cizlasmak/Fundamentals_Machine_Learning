{
 "cells": [
  {
   "cell_type": "markdown",
   "metadata": {},
   "source": [
    "Amacımız bir müşteri bırakır mı bizim işletmeyi ? \n",
    "\n",
    "Eğer bunu anlayabilirsek, müşteriyi de kazanmış olucaz.\n",
    "\n",
    "bu durumu anlamak..\n"
   ]
  },
  {
   "cell_type": "code",
   "execution_count": 67,
   "metadata": {},
   "outputs": [],
   "source": [
    "import numpy as np\n",
    "import matplotlib.pyplot as plt\n",
    "import pandas as pd\n",
    "\n"
   ]
  },
  {
   "cell_type": "code",
   "execution_count": 68,
   "metadata": {},
   "outputs": [
    {
     "data": {
      "text/html": [
       "<div>\n",
       "<style scoped>\n",
       "    .dataframe tbody tr th:only-of-type {\n",
       "        vertical-align: middle;\n",
       "    }\n",
       "\n",
       "    .dataframe tbody tr th {\n",
       "        vertical-align: top;\n",
       "    }\n",
       "\n",
       "    .dataframe thead th {\n",
       "        text-align: right;\n",
       "    }\n",
       "</style>\n",
       "<table border=\"1\" class=\"dataframe\">\n",
       "  <thead>\n",
       "    <tr style=\"text-align: right;\">\n",
       "      <th></th>\n",
       "      <th>RowNumber</th>\n",
       "      <th>CustomerId</th>\n",
       "      <th>Surname</th>\n",
       "      <th>CreditScore</th>\n",
       "      <th>Geography</th>\n",
       "      <th>Gender</th>\n",
       "      <th>Age</th>\n",
       "      <th>Tenure</th>\n",
       "      <th>Balance</th>\n",
       "      <th>NumOfProducts</th>\n",
       "      <th>HasCrCard</th>\n",
       "      <th>IsActiveMember</th>\n",
       "      <th>EstimatedSalary</th>\n",
       "      <th>Exited</th>\n",
       "    </tr>\n",
       "  </thead>\n",
       "  <tbody>\n",
       "    <tr>\n",
       "      <th>0</th>\n",
       "      <td>1</td>\n",
       "      <td>15634602</td>\n",
       "      <td>Hargrave</td>\n",
       "      <td>619</td>\n",
       "      <td>France</td>\n",
       "      <td>Female</td>\n",
       "      <td>42</td>\n",
       "      <td>2</td>\n",
       "      <td>0.00</td>\n",
       "      <td>1</td>\n",
       "      <td>1</td>\n",
       "      <td>1</td>\n",
       "      <td>101348.88</td>\n",
       "      <td>1</td>\n",
       "    </tr>\n",
       "    <tr>\n",
       "      <th>1</th>\n",
       "      <td>2</td>\n",
       "      <td>15647311</td>\n",
       "      <td>Hill</td>\n",
       "      <td>608</td>\n",
       "      <td>Spain</td>\n",
       "      <td>Female</td>\n",
       "      <td>41</td>\n",
       "      <td>1</td>\n",
       "      <td>83807.86</td>\n",
       "      <td>1</td>\n",
       "      <td>0</td>\n",
       "      <td>1</td>\n",
       "      <td>112542.58</td>\n",
       "      <td>0</td>\n",
       "    </tr>\n",
       "    <tr>\n",
       "      <th>2</th>\n",
       "      <td>3</td>\n",
       "      <td>15619304</td>\n",
       "      <td>Onio</td>\n",
       "      <td>502</td>\n",
       "      <td>France</td>\n",
       "      <td>Female</td>\n",
       "      <td>42</td>\n",
       "      <td>8</td>\n",
       "      <td>159660.80</td>\n",
       "      <td>3</td>\n",
       "      <td>1</td>\n",
       "      <td>0</td>\n",
       "      <td>113931.57</td>\n",
       "      <td>1</td>\n",
       "    </tr>\n",
       "    <tr>\n",
       "      <th>3</th>\n",
       "      <td>4</td>\n",
       "      <td>15701354</td>\n",
       "      <td>Boni</td>\n",
       "      <td>699</td>\n",
       "      <td>France</td>\n",
       "      <td>Female</td>\n",
       "      <td>39</td>\n",
       "      <td>1</td>\n",
       "      <td>0.00</td>\n",
       "      <td>2</td>\n",
       "      <td>0</td>\n",
       "      <td>0</td>\n",
       "      <td>93826.63</td>\n",
       "      <td>0</td>\n",
       "    </tr>\n",
       "    <tr>\n",
       "      <th>4</th>\n",
       "      <td>5</td>\n",
       "      <td>15737888</td>\n",
       "      <td>Mitchell</td>\n",
       "      <td>850</td>\n",
       "      <td>Spain</td>\n",
       "      <td>Female</td>\n",
       "      <td>43</td>\n",
       "      <td>2</td>\n",
       "      <td>125510.82</td>\n",
       "      <td>1</td>\n",
       "      <td>1</td>\n",
       "      <td>1</td>\n",
       "      <td>79084.10</td>\n",
       "      <td>0</td>\n",
       "    </tr>\n",
       "    <tr>\n",
       "      <th>...</th>\n",
       "      <td>...</td>\n",
       "      <td>...</td>\n",
       "      <td>...</td>\n",
       "      <td>...</td>\n",
       "      <td>...</td>\n",
       "      <td>...</td>\n",
       "      <td>...</td>\n",
       "      <td>...</td>\n",
       "      <td>...</td>\n",
       "      <td>...</td>\n",
       "      <td>...</td>\n",
       "      <td>...</td>\n",
       "      <td>...</td>\n",
       "      <td>...</td>\n",
       "    </tr>\n",
       "    <tr>\n",
       "      <th>9995</th>\n",
       "      <td>9996</td>\n",
       "      <td>15606229</td>\n",
       "      <td>Obijiaku</td>\n",
       "      <td>771</td>\n",
       "      <td>France</td>\n",
       "      <td>Male</td>\n",
       "      <td>39</td>\n",
       "      <td>5</td>\n",
       "      <td>0.00</td>\n",
       "      <td>2</td>\n",
       "      <td>1</td>\n",
       "      <td>0</td>\n",
       "      <td>96270.64</td>\n",
       "      <td>0</td>\n",
       "    </tr>\n",
       "    <tr>\n",
       "      <th>9996</th>\n",
       "      <td>9997</td>\n",
       "      <td>15569892</td>\n",
       "      <td>Johnstone</td>\n",
       "      <td>516</td>\n",
       "      <td>France</td>\n",
       "      <td>Male</td>\n",
       "      <td>35</td>\n",
       "      <td>10</td>\n",
       "      <td>57369.61</td>\n",
       "      <td>1</td>\n",
       "      <td>1</td>\n",
       "      <td>1</td>\n",
       "      <td>101699.77</td>\n",
       "      <td>0</td>\n",
       "    </tr>\n",
       "    <tr>\n",
       "      <th>9997</th>\n",
       "      <td>9998</td>\n",
       "      <td>15584532</td>\n",
       "      <td>Liu</td>\n",
       "      <td>709</td>\n",
       "      <td>France</td>\n",
       "      <td>Female</td>\n",
       "      <td>36</td>\n",
       "      <td>7</td>\n",
       "      <td>0.00</td>\n",
       "      <td>1</td>\n",
       "      <td>0</td>\n",
       "      <td>1</td>\n",
       "      <td>42085.58</td>\n",
       "      <td>1</td>\n",
       "    </tr>\n",
       "    <tr>\n",
       "      <th>9998</th>\n",
       "      <td>9999</td>\n",
       "      <td>15682355</td>\n",
       "      <td>Sabbatini</td>\n",
       "      <td>772</td>\n",
       "      <td>Germany</td>\n",
       "      <td>Male</td>\n",
       "      <td>42</td>\n",
       "      <td>3</td>\n",
       "      <td>75075.31</td>\n",
       "      <td>2</td>\n",
       "      <td>1</td>\n",
       "      <td>0</td>\n",
       "      <td>92888.52</td>\n",
       "      <td>1</td>\n",
       "    </tr>\n",
       "    <tr>\n",
       "      <th>9999</th>\n",
       "      <td>10000</td>\n",
       "      <td>15628319</td>\n",
       "      <td>Walker</td>\n",
       "      <td>792</td>\n",
       "      <td>France</td>\n",
       "      <td>Female</td>\n",
       "      <td>28</td>\n",
       "      <td>4</td>\n",
       "      <td>130142.79</td>\n",
       "      <td>1</td>\n",
       "      <td>1</td>\n",
       "      <td>0</td>\n",
       "      <td>38190.78</td>\n",
       "      <td>0</td>\n",
       "    </tr>\n",
       "  </tbody>\n",
       "</table>\n",
       "<p>10000 rows × 14 columns</p>\n",
       "</div>"
      ],
      "text/plain": [
       "      RowNumber  CustomerId    Surname  CreditScore Geography  Gender  Age  \\\n",
       "0             1    15634602   Hargrave          619    France  Female   42   \n",
       "1             2    15647311       Hill          608     Spain  Female   41   \n",
       "2             3    15619304       Onio          502    France  Female   42   \n",
       "3             4    15701354       Boni          699    France  Female   39   \n",
       "4             5    15737888   Mitchell          850     Spain  Female   43   \n",
       "...         ...         ...        ...          ...       ...     ...  ...   \n",
       "9995       9996    15606229   Obijiaku          771    France    Male   39   \n",
       "9996       9997    15569892  Johnstone          516    France    Male   35   \n",
       "9997       9998    15584532        Liu          709    France  Female   36   \n",
       "9998       9999    15682355  Sabbatini          772   Germany    Male   42   \n",
       "9999      10000    15628319     Walker          792    France  Female   28   \n",
       "\n",
       "      Tenure    Balance  NumOfProducts  HasCrCard  IsActiveMember  \\\n",
       "0          2       0.00              1          1               1   \n",
       "1          1   83807.86              1          0               1   \n",
       "2          8  159660.80              3          1               0   \n",
       "3          1       0.00              2          0               0   \n",
       "4          2  125510.82              1          1               1   \n",
       "...      ...        ...            ...        ...             ...   \n",
       "9995       5       0.00              2          1               0   \n",
       "9996      10   57369.61              1          1               1   \n",
       "9997       7       0.00              1          0               1   \n",
       "9998       3   75075.31              2          1               0   \n",
       "9999       4  130142.79              1          1               0   \n",
       "\n",
       "      EstimatedSalary  Exited  \n",
       "0           101348.88       1  \n",
       "1           112542.58       0  \n",
       "2           113931.57       1  \n",
       "3            93826.63       0  \n",
       "4            79084.10       0  \n",
       "...               ...     ...  \n",
       "9995         96270.64       0  \n",
       "9996        101699.77       0  \n",
       "9997         42085.58       1  \n",
       "9998         92888.52       1  \n",
       "9999         38190.78       0  \n",
       "\n",
       "[10000 rows x 14 columns]"
      ]
     },
     "execution_count": 68,
     "metadata": {},
     "output_type": "execute_result"
    }
   ],
   "source": [
    "veriler=pd.read_csv(\"C:/Users/yusuf/Desktop/GOALS/MACHINE LEARNING/Basic/datas/Churn_Modelling.csv\")\n",
    "\n",
    "veriler"
   ]
  },
  {
   "cell_type": "markdown",
   "metadata": {},
   "source": [
    "Data-Preprocessing yapmadan önce bilinmesi gerekenler :\n",
    "\n",
    "RowNumber gereksizdir. Çünkü 8 numaralı müşteri bizi bıraktı 11 numaralı bırakmadı gibi bir genelleme overfitting'e yol açar.\n",
    "\n",
    "\n",
    "CustomerID sisteme herhangi bir etkiisi yok onu da kaldırıcaz.\n",
    "\n",
    "\n",
    "Surname ise Lui olanlar bırakmıyor Tu olanlar bırakıyor gibi bir genelleme istemiyoruz. Bu kolondan da kurtulucaz.\n",
    "\n",
    "\n"
   ]
  },
  {
   "cell_type": "markdown",
   "metadata": {},
   "source": [
    "## DATA PRE-PROCESSING "
   ]
  },
  {
   "cell_type": "markdown",
   "metadata": {},
   "source": [
    "X ve Y 'yi seçme..\n"
   ]
  },
  {
   "cell_type": "code",
   "execution_count": 69,
   "metadata": {},
   "outputs": [
    {
     "data": {
      "text/plain": [
       "array([[619, 'France', 'Female', ..., 1, 1, 101348.88],\n",
       "       [608, 'Spain', 'Female', ..., 0, 1, 112542.58],\n",
       "       [502, 'France', 'Female', ..., 1, 0, 113931.57],\n",
       "       ...,\n",
       "       [709, 'France', 'Female', ..., 0, 1, 42085.58],\n",
       "       [772, 'Germany', 'Male', ..., 1, 0, 92888.52],\n",
       "       [792, 'France', 'Female', ..., 1, 0, 38190.78]], dtype=object)"
      ]
     },
     "execution_count": 69,
     "metadata": {},
     "output_type": "execute_result"
    }
   ],
   "source": [
    "x=veriler.iloc[:,3:13].values\n",
    "\n",
    "y= veriler.iloc[:,-1:].values\n",
    "\n",
    "x"
   ]
  },
  {
   "cell_type": "code",
   "execution_count": 70,
   "metadata": {},
   "outputs": [
    {
     "data": {
      "text/plain": [
       "array([[1],\n",
       "       [0],\n",
       "       [1],\n",
       "       ...,\n",
       "       [1],\n",
       "       [1],\n",
       "       [0]], dtype=int64)"
      ]
     },
     "execution_count": 70,
     "metadata": {},
     "output_type": "execute_result"
    }
   ],
   "source": [
    "y"
   ]
  },
  {
   "cell_type": "markdown",
   "metadata": {},
   "source": [
    "ENCODING yapılması gereken kolonumuz var mı ? \n",
    "\n",
    "Evet.\n",
    "Gender= Cinsiyet\n",
    "Geography= Coğrafya.\n",
    "\n",
    "\n",
    "Label Encoding yöntemini kullanıcam\n",
    "\n"
   ]
  },
  {
   "cell_type": "code",
   "execution_count": 71,
   "metadata": {},
   "outputs": [
    {
     "data": {
      "text/plain": [
       "array([0, 2, 0, ..., 0, 1, 0], dtype=object)"
      ]
     },
     "execution_count": 71,
     "metadata": {},
     "output_type": "execute_result"
    }
   ],
   "source": [
    "from sklearn import preprocessing\n",
    "\n",
    "le=preprocessing.LabelEncoder()\n",
    "\n",
    "# ilk ulkeler kolonunu alıcam.\n",
    "# ulke=x[:,1]\n",
    "# ulke\n",
    "x[:,1]=le.fit_transform(x[:,1])\n",
    "x[:,1]"
   ]
  },
  {
   "cell_type": "code",
   "execution_count": 72,
   "metadata": {},
   "outputs": [
    {
     "data": {
      "text/plain": [
       "array([0, 0, 0, ..., 0, 1, 0], dtype=object)"
      ]
     },
     "execution_count": 72,
     "metadata": {},
     "output_type": "execute_result"
    }
   ],
   "source": [
    "#Sonra da cinsiyet için yapıcam.\n",
    "\n",
    "le2=preprocessing.LabelEncoder() #aslında aynı kapsülde kullanabilir. Hiç bir sorun yok ancak buradaki amacımız kodun anlaşabilirliğini arttırmak.\n",
    "\n",
    "\n",
    "# cinsiyet=x[:,2]\n",
    "# cinsiyet\n",
    "x[:,2]=le2.fit_transform(x[:,2])\n",
    "x[:,2]"
   ]
  },
  {
   "cell_type": "markdown",
   "metadata": {},
   "source": [
    "Şimdi biz artifical neural network(yapay sinir ağlarıyla) birlikte öğreneceğinden dolayı vereceğimiz features(özellikler) 0-1 arasında olmalı diğer kolonları ve buna uymayanlar için OneHotEncoder yöntemine de başvurucam. "
   ]
  },
  {
   "cell_type": "code",
   "execution_count": 73,
   "metadata": {},
   "outputs": [
    {
     "data": {
      "text/plain": [
       "array([[0.0, 0.0, 619, ..., 1, 1, 101348.88],\n",
       "       [0.0, 1.0, 608, ..., 0, 1, 112542.58],\n",
       "       [0.0, 0.0, 502, ..., 1, 0, 113931.57],\n",
       "       ...,\n",
       "       [0.0, 0.0, 709, ..., 0, 1, 42085.58],\n",
       "       [1.0, 0.0, 772, ..., 1, 0, 92888.52],\n",
       "       [0.0, 0.0, 792, ..., 1, 0, 38190.78]], dtype=object)"
      ]
     },
     "execution_count": 73,
     "metadata": {},
     "output_type": "execute_result"
    }
   ],
   "source": [
    "from sklearn.preprocessing import OneHotEncoder\n",
    "from sklearn.compose import ColumnTransformer # aynı anda ayrı ayrı dönüştürülmesi için import ettik.\n",
    "\n",
    "\n",
    "ohe=ColumnTransformer([(\"ohe\",OneHotEncoder(dtype=float),[1])],remainder=\"passthrough\") #parametreleri str olarak değişken, yöntem ve tipi, ve kaçıncı kolon olduğunu yazıyoruz.\n",
    "\n",
    "x=ohe.fit_transform(x)\n",
    "x=x[:,1:]\n",
    "\n",
    "x"
   ]
  },
  {
   "cell_type": "markdown",
   "metadata": {},
   "source": [
    "ColumnTransformer ile ilgili daha detaylı bilgiler için : \n",
    "\n",
    "https://scikit-learn.org/stable/modules/generated/sklearn.compose.ColumnTransformer.html"
   ]
  },
  {
   "cell_type": "markdown",
   "metadata": {},
   "source": [
    "DATA'NIN TEST VE TRAIN OLARAK AYRILMASI \n"
   ]
  },
  {
   "cell_type": "code",
   "execution_count": 74,
   "metadata": {},
   "outputs": [],
   "source": [
    "from sklearn.model_selection import train_test_split\n",
    "\n",
    "x_train, x_test, y_train, y_test = train_test_split(x,y,test_size=0.3,random_state=42) # Why fourty-two because The Hitchhiker's Guide to the Galaxy..\n",
    "\n",
    "\n"
   ]
  },
  {
   "cell_type": "markdown",
   "metadata": {},
   "source": [
    "Normalizasyon işlemleri"
   ]
  },
  {
   "cell_type": "code",
   "execution_count": 75,
   "metadata": {},
   "outputs": [],
   "source": [
    "from sklearn.preprocessing import StandardScaler # bu scaler konusuna daha detaylı ileriki kodlarda geleceğiz.\n",
    "\n",
    "sc=StandardScaler()\n",
    "\n",
    "x_train=sc.fit_transform(x_train)\n",
    "x_test=sc.fit_transform(x_test)\n"
   ]
  },
  {
   "cell_type": "markdown",
   "metadata": {},
   "source": [
    "## YAPAY SİNİR AĞLARI "
   ]
  },
  {
   "cell_type": "markdown",
   "metadata": {},
   "source": []
  },
  {
   "cell_type": "code",
   "execution_count": 76,
   "metadata": {},
   "outputs": [],
   "source": [
    "import keras\n",
    "\n",
    "from keras.models import Sequential\n",
    "from keras.layers import Dense #Noronları oluşturabileceğimiz kapsül"
   ]
  },
  {
   "cell_type": "code",
   "execution_count": 77,
   "metadata": {},
   "outputs": [],
   "source": [
    "classifier= Sequential() #bir model oluşturuyoruz.\n",
    "\n",
    "classifier.add(Dense(11))\n",
    "classifier.add(Dense(6,activation=\"relu\"))      \n",
    "                                                    #gizli katman\n",
    "classifier.add(Dense(6,activation=\"relu\"))\n",
    "\n",
    "classifier.add(Dense(1,activation=\"sigmoid\")) #çıkış katmanı\n",
    "\n",
    "\n",
    "classifier.compile(loss='binary_crossentropy', optimizer='adam',metrics=[\"accuracy\"])  #derlemiş olucaz bu şekilde.\n",
    "\n",
    "#neden loss function binary_crossentropy olarak seçtik hep normal de categorical seçilir?\n",
    "#TARGET KOLON hepsi 0 ila 1 arasında olduğu için, eğer başka şeyler de olsaydı onun için categorical kullanıcaz.\n",
    "\n"
   ]
  },
  {
   "cell_type": "code",
   "execution_count": 78,
   "metadata": {},
   "outputs": [
    {
     "name": "stdout",
     "output_type": "stream",
     "text": [
      "Epoch 1/55\n",
      "219/219 [==============================] - 1s 2ms/step - loss: 0.5170 - accuracy: 0.7861\n",
      "Epoch 2/55\n",
      "219/219 [==============================] - 0s 2ms/step - loss: 0.4520 - accuracy: 0.7936\n",
      "Epoch 3/55\n",
      "219/219 [==============================] - 0s 2ms/step - loss: 0.4372 - accuracy: 0.8003\n",
      "Epoch 4/55\n",
      "219/219 [==============================] - 0s 2ms/step - loss: 0.4294 - accuracy: 0.8084\n",
      "Epoch 5/55\n",
      "219/219 [==============================] - 0s 2ms/step - loss: 0.4228 - accuracy: 0.8116\n",
      "Epoch 6/55\n",
      "219/219 [==============================] - 0s 2ms/step - loss: 0.4120 - accuracy: 0.8243\n",
      "Epoch 7/55\n",
      "219/219 [==============================] - 0s 2ms/step - loss: 0.3901 - accuracy: 0.8393\n",
      "Epoch 8/55\n",
      "219/219 [==============================] - 0s 2ms/step - loss: 0.3696 - accuracy: 0.8483\n",
      "Epoch 9/55\n",
      "219/219 [==============================] - 0s 2ms/step - loss: 0.3577 - accuracy: 0.8550\n",
      "Epoch 10/55\n",
      "219/219 [==============================] - 0s 2ms/step - loss: 0.3525 - accuracy: 0.8554\n",
      "Epoch 11/55\n",
      "219/219 [==============================] - 0s 2ms/step - loss: 0.3503 - accuracy: 0.8551\n",
      "Epoch 12/55\n",
      "219/219 [==============================] - 0s 2ms/step - loss: 0.3482 - accuracy: 0.8574\n",
      "Epoch 13/55\n",
      "219/219 [==============================] - 0s 2ms/step - loss: 0.3475 - accuracy: 0.8557\n",
      "Epoch 14/55\n",
      "219/219 [==============================] - 0s 2ms/step - loss: 0.3471 - accuracy: 0.8573\n",
      "Epoch 15/55\n",
      "219/219 [==============================] - 0s 2ms/step - loss: 0.3454 - accuracy: 0.8584\n",
      "Epoch 16/55\n",
      "219/219 [==============================] - 0s 2ms/step - loss: 0.3449 - accuracy: 0.8601\n",
      "Epoch 17/55\n",
      "219/219 [==============================] - 0s 2ms/step - loss: 0.3441 - accuracy: 0.8583\n",
      "Epoch 18/55\n",
      "219/219 [==============================] - 0s 2ms/step - loss: 0.3444 - accuracy: 0.8584\n",
      "Epoch 19/55\n",
      "219/219 [==============================] - 0s 2ms/step - loss: 0.3436 - accuracy: 0.8563\n",
      "Epoch 20/55\n",
      "219/219 [==============================] - 0s 2ms/step - loss: 0.3431 - accuracy: 0.8594\n",
      "Epoch 21/55\n",
      "219/219 [==============================] - 0s 2ms/step - loss: 0.3432 - accuracy: 0.8599\n",
      "Epoch 22/55\n",
      "219/219 [==============================] - 0s 2ms/step - loss: 0.3433 - accuracy: 0.8593\n",
      "Epoch 23/55\n",
      "219/219 [==============================] - 0s 2ms/step - loss: 0.3426 - accuracy: 0.8621\n",
      "Epoch 24/55\n",
      "219/219 [==============================] - 0s 2ms/step - loss: 0.3425 - accuracy: 0.8611\n",
      "Epoch 25/55\n",
      "219/219 [==============================] - 0s 2ms/step - loss: 0.3422 - accuracy: 0.8599\n",
      "Epoch 26/55\n",
      "219/219 [==============================] - 0s 2ms/step - loss: 0.3413 - accuracy: 0.8599\n",
      "Epoch 27/55\n",
      "219/219 [==============================] - 0s 2ms/step - loss: 0.3419 - accuracy: 0.8600\n",
      "Epoch 28/55\n",
      "219/219 [==============================] - 0s 2ms/step - loss: 0.3414 - accuracy: 0.8581\n",
      "Epoch 29/55\n",
      "219/219 [==============================] - 0s 2ms/step - loss: 0.3410 - accuracy: 0.8594\n",
      "Epoch 30/55\n",
      "219/219 [==============================] - 0s 2ms/step - loss: 0.3412 - accuracy: 0.8581\n",
      "Epoch 31/55\n",
      "219/219 [==============================] - 0s 2ms/step - loss: 0.3415 - accuracy: 0.8604\n",
      "Epoch 32/55\n",
      "219/219 [==============================] - 0s 2ms/step - loss: 0.3408 - accuracy: 0.8587\n",
      "Epoch 33/55\n",
      "219/219 [==============================] - 0s 2ms/step - loss: 0.3400 - accuracy: 0.8610\n",
      "Epoch 34/55\n",
      "219/219 [==============================] - 0s 2ms/step - loss: 0.3404 - accuracy: 0.8600\n",
      "Epoch 35/55\n",
      "219/219 [==============================] - 0s 2ms/step - loss: 0.3401 - accuracy: 0.8599\n",
      "Epoch 36/55\n",
      "219/219 [==============================] - 0s 2ms/step - loss: 0.3403 - accuracy: 0.8610\n",
      "Epoch 37/55\n",
      "219/219 [==============================] - 0s 2ms/step - loss: 0.3391 - accuracy: 0.8627\n",
      "Epoch 38/55\n",
      "219/219 [==============================] - 0s 2ms/step - loss: 0.3399 - accuracy: 0.8594\n",
      "Epoch 39/55\n",
      "219/219 [==============================] - 0s 2ms/step - loss: 0.3391 - accuracy: 0.8616\n",
      "Epoch 40/55\n",
      "219/219 [==============================] - 0s 2ms/step - loss: 0.3395 - accuracy: 0.8610\n",
      "Epoch 41/55\n",
      "219/219 [==============================] - 0s 2ms/step - loss: 0.3392 - accuracy: 0.8607\n",
      "Epoch 42/55\n",
      "219/219 [==============================] - 0s 2ms/step - loss: 0.3391 - accuracy: 0.8599\n",
      "Epoch 43/55\n",
      "219/219 [==============================] - 0s 2ms/step - loss: 0.3392 - accuracy: 0.8606\n",
      "Epoch 44/55\n",
      "219/219 [==============================] - 0s 2ms/step - loss: 0.3391 - accuracy: 0.8597\n",
      "Epoch 45/55\n",
      "219/219 [==============================] - 0s 2ms/step - loss: 0.3387 - accuracy: 0.8620\n",
      "Epoch 46/55\n",
      "219/219 [==============================] - 0s 2ms/step - loss: 0.3384 - accuracy: 0.8594\n",
      "Epoch 47/55\n",
      "219/219 [==============================] - 0s 2ms/step - loss: 0.3385 - accuracy: 0.8606\n",
      "Epoch 48/55\n",
      "219/219 [==============================] - 0s 2ms/step - loss: 0.3379 - accuracy: 0.8629\n",
      "Epoch 49/55\n",
      "219/219 [==============================] - 0s 2ms/step - loss: 0.3389 - accuracy: 0.8633\n",
      "Epoch 50/55\n",
      "219/219 [==============================] - 0s 2ms/step - loss: 0.3383 - accuracy: 0.8616\n",
      "Epoch 51/55\n",
      "219/219 [==============================] - 0s 2ms/step - loss: 0.3388 - accuracy: 0.8621\n",
      "Epoch 52/55\n",
      "219/219 [==============================] - 0s 2ms/step - loss: 0.3379 - accuracy: 0.8616\n",
      "Epoch 53/55\n",
      "219/219 [==============================] - 0s 2ms/step - loss: 0.3381 - accuracy: 0.8606\n",
      "Epoch 54/55\n",
      "219/219 [==============================] - 0s 2ms/step - loss: 0.3381 - accuracy: 0.8614\n",
      "Epoch 55/55\n",
      "219/219 [==============================] - 0s 2ms/step - loss: 0.3377 - accuracy: 0.8593\n"
     ]
    },
    {
     "data": {
      "text/plain": [
       "<keras.callbacks.History at 0x2826183d400>"
      ]
     },
     "execution_count": 78,
     "metadata": {},
     "output_type": "execute_result"
    }
   ],
   "source": [
    "classifier.fit(x_train,y_train,epochs=55,batch_size=32)\n",
    "\n"
   ]
  },
  {
   "cell_type": "code",
   "execution_count": 79,
   "metadata": {},
   "outputs": [
    {
     "data": {
      "text/plain": [
       "array([[0.06034634],\n",
       "       [0.01539269],\n",
       "       [0.13660365],\n",
       "       ...,\n",
       "       [0.04374   ],\n",
       "       [0.00449875],\n",
       "       [0.1452654 ]], dtype=float32)"
      ]
     },
     "execution_count": 79,
     "metadata": {},
     "output_type": "execute_result"
    }
   ],
   "source": [
    "\n",
    "\n",
    "y_pred=classifier.predict(x_test)\n",
    "\n",
    "y_pred"
   ]
  },
  {
   "cell_type": "markdown",
   "metadata": {},
   "source": [
    "Birden veya 0'dan çok farklı rakamlardan oluşuyor bu şekilde Confusion koyamam. Bu rakamlar bu müşterilerin %80 bırakır %20 bırakır gibi ayrıştırmış..\n",
    "\n",
    "Bundan dolayı bir eşikten geçirmek zorundayım.\n",
    "\n"
   ]
  },
  {
   "cell_type": "code",
   "execution_count": 83,
   "metadata": {},
   "outputs": [
    {
     "data": {
      "text/plain": [
       "array([[False],\n",
       "       [False],\n",
       "       [False],\n",
       "       ...,\n",
       "       [False],\n",
       "       [False],\n",
       "       [False]])"
      ]
     },
     "execution_count": 83,
     "metadata": {},
     "output_type": "execute_result"
    }
   ],
   "source": [
    "y_pred=(y_pred>0.5)\n",
    "\n",
    "y_pred"
   ]
  },
  {
   "cell_type": "markdown",
   "metadata": {},
   "source": [
    "Confusion Matrix 'de doğruluğu kıyaslama..\n"
   ]
  },
  {
   "cell_type": "code",
   "execution_count": 82,
   "metadata": {},
   "outputs": [
    {
     "data": {
      "text/plain": [
       "array([[2345,  329],\n",
       "       [  71,  255]], dtype=int64)"
      ]
     },
     "execution_count": 82,
     "metadata": {},
     "output_type": "execute_result"
    }
   ],
   "source": [
    "from sklearn.metrics import confusion_matrix\n",
    "\n",
    "cm= confusion_matrix(y_pred,y_test)\n",
    "\n",
    "cm"
   ]
  },
  {
   "cell_type": "code",
   "execution_count": null,
   "metadata": {},
   "outputs": [],
   "source": []
  },
  {
   "cell_type": "code",
   "execution_count": null,
   "metadata": {},
   "outputs": [],
   "source": []
  }
 ],
 "metadata": {
  "kernelspec": {
   "display_name": "Python 3.8.8",
   "language": "python",
   "name": "python3"
  },
  "language_info": {
   "codemirror_mode": {
    "name": "ipython",
    "version": 3
   },
   "file_extension": ".py",
   "mimetype": "text/x-python",
   "name": "python",
   "nbconvert_exporter": "python",
   "pygments_lexer": "ipython3",
   "version": "3.8.8"
  },
  "orig_nbformat": 4,
  "vscode": {
   "interpreter": {
    "hash": "e26da9777431fcd98778416b583e2cb3f0c4f5515b7897587b203af2bddddd45"
   }
  }
 },
 "nbformat": 4,
 "nbformat_minor": 2
}
