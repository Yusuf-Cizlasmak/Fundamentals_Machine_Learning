{
 "cells": [
  {
   "cell_type": "markdown",
   "metadata": {},
   "source": [
    "## NLP\n",
    "\n",
    "Kodlara başlamadan önce yardım alacağımız bazı siteler ve kütüphaneler şunlardır.\n",
    "\n",
    "https://www.nltk.org\n",
    "\n",
    "https://www.w3schools.com/python/python_regex.asp#:~:text=A%20RegEx%2C%20or%20Regular%20Expression,contains%20the%20specified%20search%20pattern.\n",
    "\n",
    "\n",
    "\n",
    "https://scikit-learn.org/stable/modules/generated/sklearn.feature_extraction.text.CountVectorizer.html\n",
    "\n",
    "\n"
   ]
  },
  {
   "cell_type": "code",
   "execution_count": 570,
   "metadata": {},
   "outputs": [],
   "source": [
    "import numpy as np\n",
    "import pandas as pd\n",
    "\n"
   ]
  },
  {
   "cell_type": "code",
   "execution_count": 571,
   "metadata": {},
   "outputs": [
    {
     "name": "stderr",
     "output_type": "stream",
     "text": [
      "b'Skipping line 15: expected 2 fields, saw 4\\nSkipping line 20: expected 2 fields, saw 3\\nSkipping line 23: expected 2 fields, saw 3\\nSkipping line 29: expected 2 fields, saw 3\\nSkipping line 30: expected 2 fields, saw 3\\nSkipping line 32: expected 2 fields, saw 4\\nSkipping line 35: expected 2 fields, saw 3\\nSkipping line 36: expected 2 fields, saw 3\\nSkipping line 39: expected 2 fields, saw 3\\nSkipping line 45: expected 2 fields, saw 3\\nSkipping line 46: expected 2 fields, saw 3\\nSkipping line 49: expected 2 fields, saw 3\\nSkipping line 51: expected 2 fields, saw 3\\nSkipping line 55: expected 2 fields, saw 3\\nSkipping line 57: expected 2 fields, saw 4\\nSkipping line 60: expected 2 fields, saw 3\\nSkipping line 61: expected 2 fields, saw 3\\nSkipping line 67: expected 2 fields, saw 3\\nSkipping line 72: expected 2 fields, saw 3\\nSkipping line 75: expected 2 fields, saw 3\\nSkipping line 76: expected 2 fields, saw 4\\nSkipping line 92: expected 2 fields, saw 3\\nSkipping line 93: expected 2 fields, saw 3\\nSkipping line 94: expected 2 fields, saw 3\\nSkipping line 101: expected 2 fields, saw 3\\nSkipping line 102: expected 2 fields, saw 3\\nSkipping line 103: expected 2 fields, saw 3\\nSkipping line 104: expected 2 fields, saw 3\\nSkipping line 105: expected 2 fields, saw 4\\nSkipping line 108: expected 2 fields, saw 3\\nSkipping line 112: expected 2 fields, saw 3\\nSkipping line 113: expected 2 fields, saw 3\\nSkipping line 115: expected 2 fields, saw 3\\nSkipping line 121: expected 2 fields, saw 3\\nSkipping line 123: expected 2 fields, saw 3\\nSkipping line 125: expected 2 fields, saw 3\\nSkipping line 126: expected 2 fields, saw 3\\nSkipping line 127: expected 2 fields, saw 4\\nSkipping line 129: expected 2 fields, saw 3\\nSkipping line 131: expected 2 fields, saw 3\\nSkipping line 134: expected 2 fields, saw 4\\nSkipping line 136: expected 2 fields, saw 4\\nSkipping line 137: expected 2 fields, saw 3\\nSkipping line 140: expected 2 fields, saw 3\\nSkipping line 148: expected 2 fields, saw 3\\nSkipping line 149: expected 2 fields, saw 3\\nSkipping line 161: expected 2 fields, saw 3\\nSkipping line 164: expected 2 fields, saw 3\\nSkipping line 172: expected 2 fields, saw 3\\nSkipping line 173: expected 2 fields, saw 3\\nSkipping line 175: expected 2 fields, saw 3\\nSkipping line 177: expected 2 fields, saw 3\\nSkipping line 179: expected 2 fields, saw 3\\nSkipping line 180: expected 2 fields, saw 3\\nSkipping line 182: expected 2 fields, saw 3\\nSkipping line 186: expected 2 fields, saw 3\\nSkipping line 188: expected 2 fields, saw 3\\nSkipping line 191: expected 2 fields, saw 3\\nSkipping line 194: expected 2 fields, saw 3\\nSkipping line 195: expected 2 fields, saw 3\\nSkipping line 202: expected 2 fields, saw 3\\nSkipping line 211: expected 2 fields, saw 4\\nSkipping line 212: expected 2 fields, saw 3\\nSkipping line 213: expected 2 fields, saw 3\\nSkipping line 222: expected 2 fields, saw 4\\nSkipping line 224: expected 2 fields, saw 5\\nSkipping line 226: expected 2 fields, saw 3\\nSkipping line 233: expected 2 fields, saw 3\\nSkipping line 235: expected 2 fields, saw 3\\nSkipping line 237: expected 2 fields, saw 3\\nSkipping line 239: expected 2 fields, saw 3\\nSkipping line 241: expected 2 fields, saw 3\\nSkipping line 245: expected 2 fields, saw 3\\nSkipping line 248: expected 2 fields, saw 3\\nSkipping line 255: expected 2 fields, saw 3\\nSkipping line 263: expected 2 fields, saw 3\\nSkipping line 265: expected 2 fields, saw 5\\nSkipping line 267: expected 2 fields, saw 3\\nSkipping line 268: expected 2 fields, saw 3\\nSkipping line 269: expected 2 fields, saw 3\\nSkipping line 271: expected 2 fields, saw 3\\nSkipping line 275: expected 2 fields, saw 4\\nSkipping line 277: expected 2 fields, saw 4\\nSkipping line 285: expected 2 fields, saw 3\\nSkipping line 291: expected 2 fields, saw 3\\nSkipping line 294: expected 2 fields, saw 4\\nSkipping line 295: expected 2 fields, saw 3\\nSkipping line 297: expected 2 fields, saw 3\\nSkipping line 308: expected 2 fields, saw 3\\nSkipping line 309: expected 2 fields, saw 3\\nSkipping line 310: expected 2 fields, saw 3\\nSkipping line 316: expected 2 fields, saw 3\\nSkipping line 318: expected 2 fields, saw 3\\nSkipping line 319: expected 2 fields, saw 4\\nSkipping line 320: expected 2 fields, saw 3\\nSkipping line 323: expected 2 fields, saw 3\\nSkipping line 325: expected 2 fields, saw 3\\nSkipping line 329: expected 2 fields, saw 3\\nSkipping line 330: expected 2 fields, saw 3\\nSkipping line 333: expected 2 fields, saw 3\\nSkipping line 334: expected 2 fields, saw 3\\nSkipping line 340: expected 2 fields, saw 3\\nSkipping line 343: expected 2 fields, saw 4\\nSkipping line 348: expected 2 fields, saw 3\\nSkipping line 349: expected 2 fields, saw 4\\nSkipping line 351: expected 2 fields, saw 3\\nSkipping line 357: expected 2 fields, saw 3\\nSkipping line 358: expected 2 fields, saw 3\\nSkipping line 367: expected 2 fields, saw 3\\nSkipping line 370: expected 2 fields, saw 3\\nSkipping line 374: expected 2 fields, saw 3\\nSkipping line 375: expected 2 fields, saw 4\\nSkipping line 379: expected 2 fields, saw 3\\nSkipping line 381: expected 2 fields, saw 4\\nSkipping line 392: expected 2 fields, saw 3\\nSkipping line 394: expected 2 fields, saw 3\\nSkipping line 397: expected 2 fields, saw 4\\nSkipping line 403: expected 2 fields, saw 3\\nSkipping line 405: expected 2 fields, saw 3\\nSkipping line 413: expected 2 fields, saw 3\\nSkipping line 414: expected 2 fields, saw 3\\nSkipping line 421: expected 2 fields, saw 4\\nSkipping line 423: expected 2 fields, saw 5\\nSkipping line 424: expected 2 fields, saw 3\\nSkipping line 430: expected 2 fields, saw 3\\nSkipping line 441: expected 2 fields, saw 3\\nSkipping line 444: expected 2 fields, saw 3\\nSkipping line 447: expected 2 fields, saw 3\\nSkipping line 450: expected 2 fields, saw 3\\nSkipping line 458: expected 2 fields, saw 3\\nSkipping line 469: expected 2 fields, saw 3\\nSkipping line 470: expected 2 fields, saw 3\\nSkipping line 472: expected 2 fields, saw 3\\nSkipping line 476: expected 2 fields, saw 3\\nSkipping line 477: expected 2 fields, saw 3\\nSkipping line 483: expected 2 fields, saw 3\\nSkipping line 487: expected 2 fields, saw 3\\nSkipping line 490: expected 2 fields, saw 3\\nSkipping line 494: expected 2 fields, saw 3\\nSkipping line 499: expected 2 fields, saw 3\\nSkipping line 502: expected 2 fields, saw 4\\nSkipping line 503: expected 2 fields, saw 3\\nSkipping line 512: expected 2 fields, saw 3\\nSkipping line 513: expected 2 fields, saw 3\\nSkipping line 519: expected 2 fields, saw 4\\nSkipping line 520: expected 2 fields, saw 3\\nSkipping line 521: expected 2 fields, saw 3\\nSkipping line 522: expected 2 fields, saw 3\\nSkipping line 524: expected 2 fields, saw 3\\nSkipping line 527: expected 2 fields, saw 3\\nSkipping line 529: expected 2 fields, saw 3\\nSkipping line 534: expected 2 fields, saw 3\\nSkipping line 535: expected 2 fields, saw 4\\nSkipping line 539: expected 2 fields, saw 5\\nSkipping line 546: expected 2 fields, saw 3\\nSkipping line 552: expected 2 fields, saw 3\\nSkipping line 556: expected 2 fields, saw 3\\nSkipping line 557: expected 2 fields, saw 3\\nSkipping line 575: expected 2 fields, saw 3\\nSkipping line 577: expected 2 fields, saw 3\\nSkipping line 581: expected 2 fields, saw 3\\nSkipping line 584: expected 2 fields, saw 3\\nSkipping line 588: expected 2 fields, saw 3\\nSkipping line 590: expected 2 fields, saw 4\\nSkipping line 603: expected 2 fields, saw 5\\nSkipping line 605: expected 2 fields, saw 4\\nSkipping line 614: expected 2 fields, saw 3\\nSkipping line 615: expected 2 fields, saw 3\\nSkipping line 619: expected 2 fields, saw 3\\nSkipping line 625: expected 2 fields, saw 3\\nSkipping line 631: expected 2 fields, saw 3\\nSkipping line 634: expected 2 fields, saw 3\\nSkipping line 639: expected 2 fields, saw 5\\nSkipping line 640: expected 2 fields, saw 3\\nSkipping line 644: expected 2 fields, saw 4\\nSkipping line 655: expected 2 fields, saw 3\\nSkipping line 662: expected 2 fields, saw 5\\nSkipping line 663: expected 2 fields, saw 3\\nSkipping line 670: expected 2 fields, saw 3\\nSkipping line 682: expected 2 fields, saw 3\\nSkipping line 685: expected 2 fields, saw 3\\nSkipping line 688: expected 2 fields, saw 5\\nSkipping line 689: expected 2 fields, saw 3\\nSkipping line 691: expected 2 fields, saw 3\\nSkipping line 693: expected 2 fields, saw 3\\nSkipping line 696: expected 2 fields, saw 4\\nSkipping line 698: expected 2 fields, saw 3\\nSkipping line 700: expected 2 fields, saw 3\\nSkipping line 701: expected 2 fields, saw 4\\nSkipping line 702: expected 2 fields, saw 3\\nSkipping line 711: expected 2 fields, saw 3\\nSkipping line 712: expected 2 fields, saw 3\\nSkipping line 715: expected 2 fields, saw 3\\nSkipping line 716: expected 2 fields, saw 3\\nSkipping line 720: expected 2 fields, saw 3\\nSkipping line 722: expected 2 fields, saw 5\\nSkipping line 724: expected 2 fields, saw 3\\nSkipping line 728: expected 2 fields, saw 3\\nSkipping line 731: expected 2 fields, saw 3\\nSkipping line 732: expected 2 fields, saw 3\\nSkipping line 735: expected 2 fields, saw 3\\nSkipping line 737: expected 2 fields, saw 3\\nSkipping line 738: expected 2 fields, saw 3\\nSkipping line 739: expected 2 fields, saw 3\\nSkipping line 745: expected 2 fields, saw 4\\nSkipping line 749: expected 2 fields, saw 3\\nSkipping line 750: expected 2 fields, saw 3\\nSkipping line 752: expected 2 fields, saw 3\\nSkipping line 753: expected 2 fields, saw 4\\nSkipping line 754: expected 2 fields, saw 3\\nSkipping line 756: expected 2 fields, saw 3\\nSkipping line 757: expected 2 fields, saw 3\\nSkipping line 762: expected 2 fields, saw 4\\nSkipping line 764: expected 2 fields, saw 3\\nSkipping line 770: expected 2 fields, saw 6\\nSkipping line 775: expected 2 fields, saw 3\\nSkipping line 781: expected 2 fields, saw 3\\nSkipping line 784: expected 2 fields, saw 4\\nSkipping line 786: expected 2 fields, saw 4\\nSkipping line 789: expected 2 fields, saw 3\\nSkipping line 790: expected 2 fields, saw 4\\nSkipping line 791: expected 2 fields, saw 3\\nSkipping line 796: expected 2 fields, saw 3\\nSkipping line 798: expected 2 fields, saw 3\\nSkipping line 807: expected 2 fields, saw 4\\nSkipping line 810: expected 2 fields, saw 4\\nSkipping line 811: expected 2 fields, saw 3\\nSkipping line 814: expected 2 fields, saw 4\\nSkipping line 831: expected 2 fields, saw 4\\nSkipping line 835: expected 2 fields, saw 3\\nSkipping line 842: expected 2 fields, saw 3\\nSkipping line 844: expected 2 fields, saw 3\\nSkipping line 849: expected 2 fields, saw 3\\nSkipping line 850: expected 2 fields, saw 3\\nSkipping line 851: expected 2 fields, saw 5\\nSkipping line 856: expected 2 fields, saw 4\\nSkipping line 858: expected 2 fields, saw 3\\nSkipping line 862: expected 2 fields, saw 3\\nSkipping line 864: expected 2 fields, saw 4\\nSkipping line 867: expected 2 fields, saw 3\\nSkipping line 869: expected 2 fields, saw 3\\nSkipping line 870: expected 2 fields, saw 3\\nSkipping line 872: expected 2 fields, saw 3\\nSkipping line 874: expected 2 fields, saw 4\\nSkipping line 880: expected 2 fields, saw 3\\nSkipping line 881: expected 2 fields, saw 3\\nSkipping line 883: expected 2 fields, saw 3\\nSkipping line 886: expected 2 fields, saw 3\\nSkipping line 889: expected 2 fields, saw 3\\nSkipping line 891: expected 2 fields, saw 3\\nSkipping line 899: expected 2 fields, saw 3\\nSkipping line 901: expected 2 fields, saw 3\\nSkipping line 905: expected 2 fields, saw 3\\nSkipping line 907: expected 2 fields, saw 4\\nSkipping line 913: expected 2 fields, saw 3\\nSkipping line 914: expected 2 fields, saw 3\\nSkipping line 915: expected 2 fields, saw 3\\nSkipping line 918: expected 2 fields, saw 3\\nSkipping line 921: expected 2 fields, saw 3\\nSkipping line 922: expected 2 fields, saw 3\\nSkipping line 924: expected 2 fields, saw 3\\nSkipping line 926: expected 2 fields, saw 4\\nSkipping line 927: expected 2 fields, saw 3\\nSkipping line 928: expected 2 fields, saw 3\\nSkipping line 932: expected 2 fields, saw 4\\nSkipping line 933: expected 2 fields, saw 3\\nSkipping line 938: expected 2 fields, saw 3\\nSkipping line 940: expected 2 fields, saw 3\\nSkipping line 941: expected 2 fields, saw 4\\nSkipping line 947: expected 2 fields, saw 3\\nSkipping line 948: expected 2 fields, saw 4\\nSkipping line 951: expected 2 fields, saw 3\\nSkipping line 954: expected 2 fields, saw 3\\nSkipping line 956: expected 2 fields, saw 3\\nSkipping line 958: expected 2 fields, saw 3\\nSkipping line 962: expected 2 fields, saw 4\\nSkipping line 974: expected 2 fields, saw 3\\nSkipping line 976: expected 2 fields, saw 5\\nSkipping line 978: expected 2 fields, saw 3\\nSkipping line 981: expected 2 fields, saw 3\\nSkipping line 982: expected 2 fields, saw 3\\nSkipping line 986: expected 2 fields, saw 3\\nSkipping line 989: expected 2 fields, saw 4\\nSkipping line 1000: expected 2 fields, saw 3\\nSkipping line 1001: expected 2 fields, saw 4\\n'\n"
     ]
    },
    {
     "data": {
      "text/html": [
       "<div>\n",
       "<style scoped>\n",
       "    .dataframe tbody tr th:only-of-type {\n",
       "        vertical-align: middle;\n",
       "    }\n",
       "\n",
       "    .dataframe tbody tr th {\n",
       "        vertical-align: top;\n",
       "    }\n",
       "\n",
       "    .dataframe thead th {\n",
       "        text-align: right;\n",
       "    }\n",
       "</style>\n",
       "<table border=\"1\" class=\"dataframe\">\n",
       "  <thead>\n",
       "    <tr style=\"text-align: right;\">\n",
       "      <th></th>\n",
       "      <th>Review</th>\n",
       "      <th>Liked</th>\n",
       "    </tr>\n",
       "  </thead>\n",
       "  <tbody>\n",
       "    <tr>\n",
       "      <th>0</th>\n",
       "      <td>Wow... Loved this place.</td>\n",
       "      <td>1.0</td>\n",
       "    </tr>\n",
       "    <tr>\n",
       "      <th>1</th>\n",
       "      <td>Crust is not good.</td>\n",
       "      <td>0.0</td>\n",
       "    </tr>\n",
       "    <tr>\n",
       "      <th>2</th>\n",
       "      <td>Not tasty and the texture was just nasty.</td>\n",
       "      <td>0.0</td>\n",
       "    </tr>\n",
       "    <tr>\n",
       "      <th>3</th>\n",
       "      <td>Stopped by during the late May bank holiday of...</td>\n",
       "      <td>1.0</td>\n",
       "    </tr>\n",
       "    <tr>\n",
       "      <th>4</th>\n",
       "      <td>The selection on the menu was great and so wer...</td>\n",
       "      <td>1.0</td>\n",
       "    </tr>\n",
       "  </tbody>\n",
       "</table>\n",
       "</div>"
      ],
      "text/plain": [
       "                                              Review  Liked\n",
       "0                           Wow... Loved this place.    1.0\n",
       "1                                 Crust is not good.    0.0\n",
       "2          Not tasty and the texture was just nasty.    0.0\n",
       "3  Stopped by during the late May bank holiday of...    1.0\n",
       "4  The selection on the menu was great and so wer...    1.0"
      ]
     },
     "execution_count": 571,
     "metadata": {},
     "output_type": "execute_result"
    }
   ],
   "source": [
    "yorumlar =pd.read_csv(\"C:/Users/yusuf/Desktop/GOALS/MACHINE LEARNING/Basic/datas/Restaurant_Reviews.csv\",error_bad_lines=False)\n",
    "\n",
    "yorumlar.head()"
   ]
  },
  {
   "cell_type": "markdown",
   "metadata": {},
   "source": [
    "Kodları yazmadan önce bazı bilgileri vermek iyi olacaktır.\n",
    "\n",
    "Yapmamız ilk gereken noktalama işaretlerinden kurtulmak olacaktır. Çünkü onları birleşik olarak alacak..\n",
    "\n",
    "\n",
    "İkincisi ise Stop Words Case .. Yani and,the gibi kelimeleri belirlicez.. \n",
    "\n",
    "\n",
    "Üçüncü olarak da kelime vektörleri çıkarıcaz. Stop Words Case'e dikkatt..\n",
    "\n"
   ]
  },
  {
   "cell_type": "markdown",
   "metadata": {},
   "source": [
    "substitution kelimesinden re.sub gelir. (ikamet, yer değiştirme) anlamlarına gelir.\n",
    "\n",
    "Kullanımı: \n",
    "\n",
    "import re\n",
    "\n",
    "#Replace all white-space characters with the digit \"9\":\n",
    "\n",
    "txt = \"The rain in Spain\"\n",
    "x = re.sub(\"\\s\", \"9\", txt)\n",
    "\n",
    "The9rain9in9Spain olur"
   ]
  },
  {
   "cell_type": "code",
   "execution_count": 572,
   "metadata": {},
   "outputs": [
    {
     "data": {
      "text/plain": [
       "'Wow... Loved this place.'"
      ]
     },
     "execution_count": 572,
     "metadata": {},
     "output_type": "execute_result"
    }
   ],
   "source": [
    "yorumlar['Review'][0]"
   ]
  },
  {
   "cell_type": "code",
   "execution_count": 573,
   "metadata": {},
   "outputs": [],
   "source": [
    "import re # Regular Expression kullanmak için..\n",
    "\n",
    "yorum= re.sub('[^a-zA-Z]',\" \", yorumlar['Review'][6]) #a-zA-Z olmayanları boşluk ile değiştir dedik.."
   ]
  },
  {
   "cell_type": "markdown",
   "metadata": {},
   "source": [
    "Teker Teker yapabildikten sonra döngüye koymak kolay olacaktır.\n",
    "\n"
   ]
  },
  {
   "cell_type": "code",
   "execution_count": 574,
   "metadata": {},
   "outputs": [
    {
     "data": {
      "text/plain": [
       "'Honeslty it didn t taste THAT fresh  '"
      ]
     },
     "execution_count": 574,
     "metadata": {},
     "output_type": "execute_result"
    }
   ],
   "source": [
    "yorum"
   ]
  },
  {
   "cell_type": "markdown",
   "metadata": {},
   "source": [
    "Büyük ve Küçük Harf Problemi"
   ]
  },
  {
   "cell_type": "code",
   "execution_count": 575,
   "metadata": {},
   "outputs": [
    {
     "data": {
      "text/plain": [
       "'honeslty it didn t taste that fresh  '"
      ]
     },
     "execution_count": 575,
     "metadata": {},
     "output_type": "execute_result"
    }
   ],
   "source": [
    "yorum= yorum.lower() \n",
    "\n",
    "yorum"
   ]
  },
  {
   "cell_type": "markdown",
   "metadata": {},
   "source": [
    "Kelimeleri de listeye çevrilmesi"
   ]
  },
  {
   "cell_type": "code",
   "execution_count": 576,
   "metadata": {},
   "outputs": [
    {
     "data": {
      "text/plain": [
       "['honeslty', 'it', 'didn', 't', 'taste', 'that', 'fresh']"
      ]
     },
     "execution_count": 576,
     "metadata": {},
     "output_type": "execute_result"
    }
   ],
   "source": [
    "sozcukList=yorum.split()\n",
    "sozcukList"
   ]
  },
  {
   "cell_type": "markdown",
   "metadata": {},
   "source": [
    "STOP WORD CASE\n",
    "\n",
    "Bizim işin anlamsal ve duygusallık kutupları üzerinde çalışıyoruz. O yüzden it,and,or,that gibi ifadeler bizim işimize maalesef ki yaramıyor.\n",
    "\n",
    "\n",
    "\n",
    "Bunu yapmak için de NLTK kütüphanesinde yardım alacağız"
   ]
  },
  {
   "cell_type": "code",
   "execution_count": 577,
   "metadata": {},
   "outputs": [],
   "source": [
    "#Döngü zamanı.."
   ]
  },
  {
   "cell_type": "code",
   "execution_count": 578,
   "metadata": {},
   "outputs": [
    {
     "name": "stderr",
     "output_type": "stream",
     "text": [
      "[nltk_data] Downloading package stopwords to\n",
      "[nltk_data]     C:\\Users\\yusuf\\AppData\\Roaming\\nltk_data...\n",
      "[nltk_data]   Package stopwords is already up-to-date!\n"
     ]
    }
   ],
   "source": [
    "\n",
    "import re\n",
    "import nltk\n",
    "\n",
    "from nltk.stem.porter import PorterStemmer\n",
    "ps = PorterStemmer()\n",
    "\n",
    "nltk.download('stopwords')\n",
    "from nltk.corpus import stopwords\n",
    "\n",
    "#Preprocessing (Önişleme)\n",
    "derlem = []\n",
    "for i in range(700):\n",
    "    yorum = re.sub('[^a-zA-Z]',' ',yorumlar['Review'][i])\n",
    "    yorum = yorum.lower()\n",
    "    yorum = yorum.split()\n",
    "    yorum = [ps.stem(kelime) for kelime in yorum if not kelime in set(stopwords.words('english'))]\n",
    "    yorum = ' '.join(yorum)\n",
    "    derlem.append(yorum)\n"
   ]
  },
  {
   "cell_type": "markdown",
   "metadata": {},
   "source": [
    "Bu eşsiz kelimeleri bir vektöre çevireceğimizi söylemiştik. Bunun için de aşağıdaki işlemi yapacağız."
   ]
  },
  {
   "cell_type": "code",
   "execution_count": 579,
   "metadata": {},
   "outputs": [],
   "source": [
    "# yorum=\" \".join(yorum)\n",
    "\n",
    "# yorum"
   ]
  },
  {
   "cell_type": "markdown",
   "metadata": {},
   "source": [
    "Üstteki yazdıklarım karışık olabilir şayet asıl döngüdeki kısım önemli.."
   ]
  },
  {
   "cell_type": "markdown",
   "metadata": {},
   "source": [
    "# Şuan Feature Engineering kısmındayız<p1>\n",
    "## Şimdi defterimizde de yazdığı gibi Data Pre-processing kısmını bitirdik..<p2>\n"
   ]
  },
  {
   "cell_type": "markdown",
   "metadata": {},
   "source": [
    "Feature Engineering'te yazdığımız KELİME SAYILARI ÜZERİNDEN GİDİCEZ! "
   ]
  },
  {
   "cell_type": "markdown",
   "metadata": {},
   "source": [
    "önemli bir parametremiz var \n",
    "\n",
    "\n",
    "max_features:\n",
    "bu verilmezse tüm kelimeler(ram açısından baya sıkıntı bu durum.) için yapıyor ancak biz bir sayı verirsek ona göre sınırlama yapıyor.  \n",
    "\n",
    "Sayının amacı en çok kullanılan 2000 tanesini al demek oluyor."
   ]
  },
  {
   "cell_type": "code",
   "execution_count": null,
   "metadata": {},
   "outputs": [],
   "source": []
  },
  {
   "cell_type": "code",
   "execution_count": 580,
   "metadata": {},
   "outputs": [],
   "source": [
    "from sklearn.feature_extraction.text import CountVectorizer\n",
    "\n",
    "cv=CountVectorizer(max_features=1000) #objemizi tanımladık..\n",
    "\n",
    "x=cv.fit_transform(derlem).toarray() # x'i toarray ile diziye çevirdik. ve öncesinde de fit_transform ile hem istediğimiz şekle hem de veriyi öğretmiş olduk.\n",
    "\n",
    "#Cümlelerimiz 0 ile 1'lere dönüştü.."
   ]
  },
  {
   "cell_type": "code",
   "execution_count": 581,
   "metadata": {},
   "outputs": [
    {
     "data": {
      "text/plain": [
       "0      1.0\n",
       "1      0.0\n",
       "2      0.0\n",
       "3      1.0\n",
       "4      1.0\n",
       "      ... \n",
       "710    0.0\n",
       "711    0.0\n",
       "712    0.0\n",
       "713    0.0\n",
       "714    0.0\n",
       "Name: Liked, Length: 715, dtype: float64"
      ]
     },
     "execution_count": 581,
     "metadata": {},
     "output_type": "execute_result"
    }
   ],
   "source": [
    "yorumlar.iloc[:,-1] #bu da bizim y 'miz olacak."
   ]
  },
  {
   "cell_type": "code",
   "execution_count": 582,
   "metadata": {},
   "outputs": [],
   "source": [
    "\n",
    "y=yorumlar.iloc[0:700,-1].values\n",
    "\n",
    "#NAN VERİLER VAR DÜZELTELİM..\n",
    "y[np.isnan(y)]=0\n",
    "\n",
    "#NAN VERİLER VAR DÜZELTELİM..\n",
    "\n",
    "# print(np.any(np.isnan(y)))\n",
    "# y = np.nan_to_num(y)\n",
    "# print(y)"
   ]
  },
  {
   "cell_type": "markdown",
   "metadata": {},
   "source": [
    "ARTIK MAKİNE ÖĞRENMESİ Algoritmalarına giriyoruz buradan sonra."
   ]
  },
  {
   "cell_type": "code",
   "execution_count": 583,
   "metadata": {},
   "outputs": [
    {
     "data": {
      "text/plain": [
       "array([[0, 0, 0, ..., 0, 0, 0],\n",
       "       [0, 0, 0, ..., 0, 0, 0],\n",
       "       [0, 0, 0, ..., 0, 0, 0],\n",
       "       ...,\n",
       "       [0, 0, 0, ..., 0, 0, 0],\n",
       "       [0, 0, 0, ..., 0, 0, 0],\n",
       "       [0, 0, 0, ..., 0, 0, 0]], dtype=int64)"
      ]
     },
     "execution_count": 583,
     "metadata": {},
     "output_type": "execute_result"
    }
   ],
   "source": [
    "from sklearn.model_selection import train_test_split\n",
    "\n",
    "x_train, x_test, y_train, y_test = train_test_split(x,y,test_size=0.37,random_state=42)\n",
    "\n",
    "x_train\n"
   ]
  },
  {
   "cell_type": "markdown",
   "metadata": {},
   "source": [
    "NAIVE BAYES "
   ]
  },
  {
   "cell_type": "code",
   "execution_count": 584,
   "metadata": {},
   "outputs": [],
   "source": [
    "from sklearn.naive_bayes import GaussianNB\n",
    "\n",
    "gnb=GaussianNB()\n",
    "gnb.fit(x_train,y_train)\n",
    "\n",
    "y_pred= gnb.predict(x_test)\n",
    "\n"
   ]
  },
  {
   "cell_type": "code",
   "execution_count": 585,
   "metadata": {},
   "outputs": [
    {
     "data": {
      "text/plain": [
       "array([[ 62,  14],\n",
       "       [ 66, 117]], dtype=int64)"
      ]
     },
     "execution_count": 585,
     "metadata": {},
     "output_type": "execute_result"
    }
   ],
   "source": [
    "from sklearn.metrics import confusion_matrix\n",
    "cm=confusion_matrix(y_pred,y_test)\n",
    "cm"
   ]
  },
  {
   "cell_type": "code",
   "execution_count": 586,
   "metadata": {},
   "outputs": [],
   "source": [
    "#Başka sınıflandırma Algoritmaları da deneyebiliriz aslında."
   ]
  },
  {
   "cell_type": "markdown",
   "metadata": {},
   "source": [
    "DECISION TREE ile TAHMİN YAPILMASI"
   ]
  },
  {
   "cell_type": "code",
   "execution_count": 587,
   "metadata": {},
   "outputs": [],
   "source": [
    "from sklearn.tree import DecisionTreeClassifier\n",
    "\n",
    "dc_c= DecisionTreeClassifier(criterion=\"entropy\") \n",
    "\n",
    "dc_c.fit(x_train,y_train)\n",
    "\n",
    "dc_predict=dc_c.predict(x_test)\n"
   ]
  },
  {
   "cell_type": "markdown",
   "metadata": {},
   "source": [
    "Confusion Matrix ile DECISION TREE"
   ]
  },
  {
   "cell_type": "code",
   "execution_count": 588,
   "metadata": {},
   "outputs": [
    {
     "data": {
      "text/plain": [
       "array([[98, 30],\n",
       "       [51, 80]], dtype=int64)"
      ]
     },
     "execution_count": 588,
     "metadata": {},
     "output_type": "execute_result"
    }
   ],
   "source": [
    "confusion_dc=confusion_matrix(y_test,dc_predict)\n",
    "\n",
    "confusion_dc"
   ]
  },
  {
   "cell_type": "markdown",
   "metadata": {},
   "source": [
    "RANDOM FOREST İLE TAHMİN YAPMA"
   ]
  },
  {
   "cell_type": "code",
   "execution_count": 589,
   "metadata": {},
   "outputs": [],
   "source": [
    "from sklearn.ensemble import RandomForestClassifier\n",
    "\n",
    "rfc=RandomForestClassifier(n_estimators=3,criterion=\"entropy\") ##criterion ise bizim decision tree parametrelerinden biriydi,diğeri ise kaç tane decision tree çizeleceği olan (n_estimators=10)\n",
    "\n",
    "rfc.fit(x_train,y_train)\n",
    "\n",
    "rfc_y_predict =rfc.predict(x_test)"
   ]
  },
  {
   "cell_type": "markdown",
   "metadata": {},
   "source": [
    "Confusion Matrix ile Random Forest"
   ]
  },
  {
   "cell_type": "code",
   "execution_count": 590,
   "metadata": {},
   "outputs": [
    {
     "data": {
      "text/plain": [
       "array([[85, 43],\n",
       "       [50, 81]], dtype=int64)"
      ]
     },
     "execution_count": 590,
     "metadata": {},
     "output_type": "execute_result"
    }
   ],
   "source": [
    "cm_rf=confusion_matrix(y_test,rfc_y_predict)\n",
    "\n",
    "cm_rf"
   ]
  },
  {
   "cell_type": "markdown",
   "metadata": {},
   "source": [
    "SVM "
   ]
  },
  {
   "cell_type": "code",
   "execution_count": 591,
   "metadata": {},
   "outputs": [],
   "source": [
    "from sklearn.svm import SVC\n",
    "svc= SVC(kernel='rbf') # yukarıdakidaki sitede değişik kernel'lerin olduğunu görebilirsiniz.\n",
    "svc.fit(x_train,y_train)\n",
    "\n",
    "\n",
    "y_pred_svc=svc.predict(x_test)\n"
   ]
  },
  {
   "cell_type": "markdown",
   "metadata": {},
   "source": [
    "Confusion Matrix Support Vector Machine"
   ]
  },
  {
   "cell_type": "code",
   "execution_count": 592,
   "metadata": {},
   "outputs": [
    {
     "data": {
      "text/plain": [
       "array([[96, 32],\n",
       "       [45, 86]], dtype=int64)"
      ]
     },
     "execution_count": 592,
     "metadata": {},
     "output_type": "execute_result"
    }
   ],
   "source": [
    "cmForSvc=confusion_matrix(y_test,y_pred_svc)\n",
    "\n",
    "cmForSvc"
   ]
  },
  {
   "cell_type": "markdown",
   "metadata": {},
   "source": [
    "KNN "
   ]
  },
  {
   "cell_type": "code",
   "execution_count": 593,
   "metadata": {},
   "outputs": [],
   "source": [
    "from sklearn.neighbors import KNeighborsClassifier\n",
    "\n",
    "\n",
    "knn=KNeighborsClassifier(n_neighbors=3,metric=\"minkowski\")\n",
    "\n",
    "#Mesafesi, bir de kaç komşuya bakacağı bizim için önemli parametrelerdir.\n",
    "\n",
    "\n",
    "knn.fit(x_train,y_train)\n",
    "\n",
    "knn_y_predict= knn.predict(x_test)\n"
   ]
  },
  {
   "cell_type": "code",
   "execution_count": 594,
   "metadata": {},
   "outputs": [
    {
     "data": {
      "text/plain": [
       "array([[99, 29],\n",
       "       [51, 80]], dtype=int64)"
      ]
     },
     "execution_count": 594,
     "metadata": {},
     "output_type": "execute_result"
    }
   ],
   "source": [
    "from sklearn.metrics import confusion_matrix\n",
    "\n",
    "knn_cm=confusion_matrix(y_test,knn_y_predict) #neyle neyin matrixi alıcam o da önemli..Tabii ki de tahminler arasında(y_pred,y_test)\n",
    "\n",
    "knn_cm # ne kadar çok komşu olursa o kadar iyi sonuç verir algısı kırılmıştır. 1'deki sonuç 5'teki sonuçtan daha iyi sonuçlar vermiştir.\n"
   ]
  },
  {
   "cell_type": "markdown",
   "metadata": {},
   "source": [
    "## SIRASIYLA ALGORİTMALARIN SINIFLANDIRMADAKİ BAŞARI ORANI AŞAĞIDA VERİLMİŞTİR."
   ]
  },
  {
   "cell_type": "code",
   "execution_count": 595,
   "metadata": {},
   "outputs": [
    {
     "name": "stdout",
     "output_type": "stream",
     "text": [
      "SVM ın Sınıflandırmadaki Başarı oranı 0.7309236947791165 dur\n",
      "Random Forestın Sınıflandırmadaki Başarı oranı 0.7108433734939759 dur\n",
      "Decision Treeın Sınıflandırmadaki Başarı oranı 0.7108433734939759 dur\n",
      "Naive Bayesın Sınıflandırmadaki Başarı oranı 0.7188755020080321 dur\n",
      "KNN ın Sınıflandırmadaki Başarı oranı 0.751004016064257 dur\n"
     ]
    }
   ],
   "source": [
    "print(f'SVM ın Sınıflandırmadaki Başarı oranı {(96+86)/249} dur')\n",
    "print(f'Random Forestın Sınıflandırmadaki Başarı oranı {(93+84)/249} dur')\n",
    "print(f'Decision Treeın Sınıflandırmadaki Başarı oranı {(100+77)/249} dur')\n",
    "print(f'Naive Bayesın Sınıflandırmadaki Başarı oranı {(117+62)/249} dur')\n",
    "print(f'KNN ın Sınıflandırmadaki Başarı oranı {(99+88)/249} dur')"
   ]
  }
 ],
 "metadata": {
  "kernelspec": {
   "display_name": "Python 3.8.8",
   "language": "python",
   "name": "python3"
  },
  "language_info": {
   "codemirror_mode": {
    "name": "ipython",
    "version": 3
   },
   "file_extension": ".py",
   "mimetype": "text/x-python",
   "name": "python",
   "nbconvert_exporter": "python",
   "pygments_lexer": "ipython3",
   "version": "3.8.8"
  },
  "orig_nbformat": 4,
  "vscode": {
   "interpreter": {
    "hash": "e26da9777431fcd98778416b583e2cb3f0c4f5515b7897587b203af2bddddd45"
   }
  }
 },
 "nbformat": 4,
 "nbformat_minor": 2
}
