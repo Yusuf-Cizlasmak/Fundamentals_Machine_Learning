{
 "cells": [
  {
   "cell_type": "markdown",
   "metadata": {},
   "source": [
    "Titanic Last Project for Summer Internship\n",
    "\n",
    "Author : @YUSUF_CIZLAŞMAK\n"
   ]
  },
  {
   "cell_type": "code",
   "execution_count": 50,
   "metadata": {},
   "outputs": [],
   "source": [
    "import imp\n",
    "import numpy as np\n",
    "import pandas as pd\n",
    "\n",
    "import plotly.express as px  ###detaylı bilgi için https://plotly.com/python/line-and-scatter/ ziyaret edebilirsiniz.\n",
    "\n",
    "from Yardım.MyEDA import *"
   ]
  },
  {
   "cell_type": "markdown",
   "metadata": {},
   "source": [
    "### Titanic veriseti ve Keşfi"
   ]
  },
  {
   "cell_type": "markdown",
   "metadata": {},
   "source": [
    "Verinin çekilmesi "
   ]
  },
  {
   "cell_type": "code",
   "execution_count": 51,
   "metadata": {},
   "outputs": [
    {
     "data": {
      "text/html": [
       "<div>\n",
       "<style scoped>\n",
       "    .dataframe tbody tr th:only-of-type {\n",
       "        vertical-align: middle;\n",
       "    }\n",
       "\n",
       "    .dataframe tbody tr th {\n",
       "        vertical-align: top;\n",
       "    }\n",
       "\n",
       "    .dataframe thead th {\n",
       "        text-align: right;\n",
       "    }\n",
       "</style>\n",
       "<table border=\"1\" class=\"dataframe\">\n",
       "  <thead>\n",
       "    <tr style=\"text-align: right;\">\n",
       "      <th></th>\n",
       "      <th>PassengerId</th>\n",
       "      <th>Survived</th>\n",
       "      <th>Pclass</th>\n",
       "      <th>Name</th>\n",
       "      <th>Sex</th>\n",
       "      <th>Age</th>\n",
       "      <th>SibSp</th>\n",
       "      <th>Parch</th>\n",
       "      <th>Ticket</th>\n",
       "      <th>Fare</th>\n",
       "      <th>Cabin</th>\n",
       "      <th>Embarked</th>\n",
       "    </tr>\n",
       "  </thead>\n",
       "  <tbody>\n",
       "    <tr>\n",
       "      <th>0</th>\n",
       "      <td>1</td>\n",
       "      <td>0</td>\n",
       "      <td>3</td>\n",
       "      <td>Braund, Mr. Owen Harris</td>\n",
       "      <td>male</td>\n",
       "      <td>22.0</td>\n",
       "      <td>1</td>\n",
       "      <td>0</td>\n",
       "      <td>A/5 21171</td>\n",
       "      <td>7.2500</td>\n",
       "      <td>NaN</td>\n",
       "      <td>S</td>\n",
       "    </tr>\n",
       "    <tr>\n",
       "      <th>1</th>\n",
       "      <td>2</td>\n",
       "      <td>1</td>\n",
       "      <td>1</td>\n",
       "      <td>Cumings, Mrs. John Bradley (Florence Briggs Th...</td>\n",
       "      <td>female</td>\n",
       "      <td>38.0</td>\n",
       "      <td>1</td>\n",
       "      <td>0</td>\n",
       "      <td>PC 17599</td>\n",
       "      <td>71.2833</td>\n",
       "      <td>C85</td>\n",
       "      <td>C</td>\n",
       "    </tr>\n",
       "    <tr>\n",
       "      <th>2</th>\n",
       "      <td>3</td>\n",
       "      <td>1</td>\n",
       "      <td>3</td>\n",
       "      <td>Heikkinen, Miss. Laina</td>\n",
       "      <td>female</td>\n",
       "      <td>26.0</td>\n",
       "      <td>0</td>\n",
       "      <td>0</td>\n",
       "      <td>STON/O2. 3101282</td>\n",
       "      <td>7.9250</td>\n",
       "      <td>NaN</td>\n",
       "      <td>S</td>\n",
       "    </tr>\n",
       "    <tr>\n",
       "      <th>3</th>\n",
       "      <td>4</td>\n",
       "      <td>1</td>\n",
       "      <td>1</td>\n",
       "      <td>Futrelle, Mrs. Jacques Heath (Lily May Peel)</td>\n",
       "      <td>female</td>\n",
       "      <td>35.0</td>\n",
       "      <td>1</td>\n",
       "      <td>0</td>\n",
       "      <td>113803</td>\n",
       "      <td>53.1000</td>\n",
       "      <td>C123</td>\n",
       "      <td>S</td>\n",
       "    </tr>\n",
       "    <tr>\n",
       "      <th>4</th>\n",
       "      <td>5</td>\n",
       "      <td>0</td>\n",
       "      <td>3</td>\n",
       "      <td>Allen, Mr. William Henry</td>\n",
       "      <td>male</td>\n",
       "      <td>35.0</td>\n",
       "      <td>0</td>\n",
       "      <td>0</td>\n",
       "      <td>373450</td>\n",
       "      <td>8.0500</td>\n",
       "      <td>NaN</td>\n",
       "      <td>S</td>\n",
       "    </tr>\n",
       "  </tbody>\n",
       "</table>\n",
       "</div>"
      ],
      "text/plain": [
       "   PassengerId  Survived  Pclass  \\\n",
       "0            1         0       3   \n",
       "1            2         1       1   \n",
       "2            3         1       3   \n",
       "3            4         1       1   \n",
       "4            5         0       3   \n",
       "\n",
       "                                                Name     Sex   Age  SibSp  \\\n",
       "0                            Braund, Mr. Owen Harris    male  22.0      1   \n",
       "1  Cumings, Mrs. John Bradley (Florence Briggs Th...  female  38.0      1   \n",
       "2                             Heikkinen, Miss. Laina  female  26.0      0   \n",
       "3       Futrelle, Mrs. Jacques Heath (Lily May Peel)  female  35.0      1   \n",
       "4                           Allen, Mr. William Henry    male  35.0      0   \n",
       "\n",
       "   Parch            Ticket     Fare Cabin Embarked  \n",
       "0      0         A/5 21171   7.2500   NaN        S  \n",
       "1      0          PC 17599  71.2833   C85        C  \n",
       "2      0  STON/O2. 3101282   7.9250   NaN        S  \n",
       "3      0            113803  53.1000  C123        S  \n",
       "4      0            373450   8.0500   NaN        S  "
      ]
     },
     "execution_count": 51,
     "metadata": {},
     "output_type": "execute_result"
    }
   ],
   "source": [
    "data=pd.read_csv(\"titanic.csv\",encoding=\"utf-8\")\n",
    "\n",
    "data.head()\n",
    "\n",
    "\n",
    "#hedef target'ımız SURVIVED OLACAKTIR. BU DA Binary(0-1) şeklinden olduğundan bizi classification problemlerine götürecektir.\n"
   ]
  },
  {
   "cell_type": "code",
   "execution_count": 52,
   "metadata": {},
   "outputs": [
    {
     "name": "stdout",
     "output_type": "stream",
     "text": [
      "verimiz 891 satırdan ve 12 sutundan oluşur.\n",
      "\n",
      "Datamız kolonları hakkında bilgiler \n",
      " :        PassengerId    Survived      Pclass         Age       SibSp  \\\n",
      "count   891.000000  891.000000  891.000000  714.000000  891.000000   \n",
      "mean    446.000000    0.383838    2.308642   29.699118    0.523008   \n",
      "std     257.353842    0.486592    0.836071   14.526497    1.102743   \n",
      "min       1.000000    0.000000    1.000000    0.420000    0.000000   \n",
      "25%     223.500000    0.000000    2.000000   20.125000    0.000000   \n",
      "50%     446.000000    0.000000    3.000000   28.000000    0.000000   \n",
      "75%     668.500000    1.000000    3.000000   38.000000    1.000000   \n",
      "max     891.000000    1.000000    3.000000   80.000000    8.000000   \n",
      "\n",
      "            Parch        Fare  \n",
      "count  891.000000  891.000000  \n",
      "mean     0.381594   32.204208  \n",
      "std      0.806057   49.693429  \n",
      "min      0.000000    0.000000  \n",
      "25%      0.000000    7.910400  \n",
      "50%      0.000000   14.454200  \n",
      "75%      0.000000   31.000000  \n",
      "max      6.000000  512.329200   \n"
     ]
    }
   ],
   "source": [
    "dataBilgiler(data) #data.shape ve data.describe hakkında bilgilerimiz."
   ]
  },
  {
   "cell_type": "markdown",
   "metadata": {},
   "source": [
    "Unique değerleri yazdırma "
   ]
  },
  {
   "cell_type": "code",
   "execution_count": 53,
   "metadata": {},
   "outputs": [
    {
     "name": "stdout",
     "output_type": "stream",
     "text": [
      "Survived         2\n",
      "Sex              2\n",
      "Pclass           3\n",
      "Embarked         3\n",
      "SibSp            7\n",
      "Parch            7\n",
      "Age             88\n",
      "Cabin          147\n",
      "Fare           248\n",
      "Ticket         681\n",
      "PassengerId    891\n",
      "Name           891\n",
      "dtype: int64\n"
     ]
    }
   ],
   "source": [
    "uniqueValues(data)\n"
   ]
  },
  {
   "cell_type": "markdown",
   "metadata": {},
   "source": [
    "Null değerlerinin bulunması"
   ]
  },
  {
   "cell_type": "code",
   "execution_count": 54,
   "metadata": {},
   "outputs": [
    {
     "name": "stdout",
     "output_type": "stream",
     "text": [
      "boş değerler:\n",
      " PassengerId      0\n",
      "Survived         0\n",
      "Pclass           0\n",
      "Name             0\n",
      "Sex              0\n",
      "Age            177\n",
      "SibSp            0\n",
      "Parch            0\n",
      "Ticket           0\n",
      "Fare             0\n",
      "Cabin          687\n",
      "Embarked         2\n",
      "dtype: int64\n",
      "boş değerlerin tüm değerlere oranı : \n",
      " PassengerId    0.000000\n",
      "Survived       0.000000\n",
      "Pclass         0.000000\n",
      "Name           0.000000\n",
      "Sex            0.000000\n",
      "Age            0.198653\n",
      "SibSp          0.000000\n",
      "Parch          0.000000\n",
      "Ticket         0.000000\n",
      "Fare           0.000000\n",
      "Cabin          0.771044\n",
      "Embarked       0.002245\n",
      "dtype: float64  \n"
     ]
    },
    {
     "data": {
      "text/plain": [
       "\"\\nCabin  0.771044 == %77 'si boş demektir. oldukça fazla ve kendimiz doldurursak şayet veriyi sıkıntıya sokacaktır. O yüzden çıkarmak zorunda kalacağız.\\n\\n0.198653 Yaşı içinse Aykırı veri analizi yapıp değerleri aldıktan sonra doldurmayı düşünüyorum. \\n\\nEmbarked  ise 2 boş değerlerimiz var. Bu rastgele doldururum ikisine S eklicem.\\n\\n\""
      ]
     },
     "execution_count": 54,
     "metadata": {},
     "output_type": "execute_result"
    }
   ],
   "source": [
    "null_function(data=data)\n",
    "\n",
    "\n",
    "#Boş değerlerin tüm oranlara oranında görüldüğü üzere Cabin oldukça fazla \n",
    "\n",
    "\n",
    "\"\"\"\n",
    "Cabin  0.771044 == %77 'si boş demektir. oldukça fazla ve kendimiz doldurursak şayet veriyi sıkıntıya sokacaktır. O yüzden çıkarmak zorunda kalacağız.\n",
    "\n",
    "0.198653 Yaşı içinse Aykırı veri analizi yapıp değerleri aldıktan sonra doldurmayı düşünüyorum. \n",
    "\n",
    "Embarked  ise 2 boş değerlerimiz var. Bu rastgele doldururum ikisine S eklicem.\n",
    "\n",
    "\"\"\""
   ]
  },
  {
   "cell_type": "markdown",
   "metadata": {},
   "source": [
    "###  VERİYİ GÖRSELLEŞTİRME İŞLEMLERİ "
   ]
  },
  {
   "cell_type": "code",
   "execution_count": 55,
   "metadata": {},
   "outputs": [
    {
     "data": {
      "text/plain": [
       "<Figure size 1080x360 with 0 Axes>"
      ]
     },
     "metadata": {},
     "output_type": "display_data"
    },
    {
     "data": {
      "image/png": "[encoded data removed]",
      "text/plain": [
       "<Figure size 360x360 with 1 Axes>"
      ]
     },
     "metadata": {
      "needs_background": "light"
     },
     "output_type": "display_data"
    },
    {
     "name": "stdout",
     "output_type": "stream",
     "text": [
      "Sex\n",
      "male      577\n",
      "female    314\n",
      "dtype: int64\n"
     ]
    }
   ],
   "source": [
    "show_displot(data,\"Sex\") # görüldüğü üzere kadın ile erkek arasında bir ilginç değer var."
   ]
  },
  {
   "cell_type": "code",
   "execution_count": 56,
   "metadata": {},
   "outputs": [
    {
     "data": {
      "application/vnd.plotly.v1+json": {
       "config": {
        "plotlyServerURL": "https://plot.ly"
       },
       "data": [
        {
         "domain": {
          "x": [
           0,
           1
          ],
          "y": [
           0,
           1
          ]
         },
         "hovertemplate": "Pclass=%{value}<extra></extra>",
         "labels": [
          3,
          1,
          3,
          1,
          3,
          3,
          1,
          3,
          3,
          2,
          3,
          1,
          3,
          3,
          3,
          2,
          3,
          2,
          3,
          3,
          2,
          2,
          3,
          1,
          3,
          3,
          3,
          1,
          3,
          3,
          1,
          1,
          3,
          2,
          1,
          1,
          3,
          3,
          3,
          3,
          3,
          2,
          3,
          2,
          3,
          3,
          3,
          3,
          3,
          3,
          3,
          3,
          1,
          2,
          1,
          1,
          2,
          3,
          2,
          3,
          3,
          1,
          1,
          3,
          1,
          3,
          2,
          3,
          3,
          3,
          2,
          3,
          2,
          3,
          3,
          3,
          3,
          3,
          2,
          3,
          3,
          3,
          3,
          1,
          2,
          3,
          3,
          3,
          1,
          3,
          3,
          3,
          1,
          3,
          3,
          3,
          1,
          1,
          2,
          2,
          3,
          3,
          1,
          3,
          3,
          3,
          3,
          3,
          3,
          3,
          1,
          3,
          3,
          3,
          3,
          3,
          3,
          2,
          1,
          3,
          2,
          3,
          2,
          2,
          1,
          3,
          3,
          3,
          3,
          3,
          3,
          3,
          3,
          2,
          2,
          2,
          1,
          1,
          3,
          1,
          3,
          3,
          3,
          3,
          2,
          2,
          3,
          3,
          2,
          2,
          2,
          1,
          3,
          3,
          3,
          1,
          3,
          3,
          3,
          3,
          3,
          2,
          3,
          3,
          3,
          3,
          1,
          3,
          1,
          3,
          1,
          3,
          3,
          3,
          1,
          3,
          3,
          1,
          2,
          3,
          3,
          2,
          3,
          2,
          3,
          1,
          3,
          1,
          3,
          3,
          2,
          2,
          3,
          2,
          1,
          1,
          3,
          3,
          3,
          2,
          3,
          3,
          3,
          3,
          3,
          3,
          3,
          3,
          3,
          1,
          3,
          2,
          3,
          2,
          3,
          1,
          3,
          2,
          1,
          2,
          3,
          2,
          3,
          3,
          1,
          3,
          2,
          3,
          2,
          3,
          1,
          3,
          2,
          3,
          2,
          3,
          2,
          2,
          2,
          2,
          3,
          3,
          2,
          3,
          3,
          1,
          3,
          2,
          1,
          2,
          3,
          3,
          1,
          3,
          3,
          3,
          1,
          1,
          1,
          2,
          3,
          3,
          1,
          1,
          3,
          2,
          3,
          3,
          1,
          1,
          1,
          3,
          2,
          1,
          3,
          1,
          3,
          2,
          3,
          3,
          3,
          3,
          3,
          3,
          1,
          3,
          3,
          3,
          2,
          3,
          1,
          1,
          2,
          3,
          3,
          1,
          3,
          1,
          1,
          1,
          3,
          3,
          3,
          2,
          3,
          1,
          1,
          1,
          2,
          1,
          1,
          1,
          2,
          3,
          2,
          3,
          2,
          2,
          1,
          1,
          3,
          3,
          2,
          2,
          3,
          1,
          3,
          2,
          3,
          1,
          3,
          1,
          1,
          3,
          1,
          3,
          1,
          1,
          3,
          1,
          2,
          1,
          2,
          2,
          2,
          2,
          2,
          3,
          3,
          3,
          3,
          1,
          3,
          3,
          3,
          3,
          1,
          2,
          3,
          3,
          3,
          2,
          3,
          3,
          3,
          3,
          1,
          3,
          3,
          1,
          1,
          3,
          3,
          1,
          3,
          1,
          3,
          1,
          3,
          3,
          1,
          3,
          3,
          1,
          3,
          2,
          3,
          2,
          3,
          2,
          1,
          3,
          3,
          1,
          3,
          3,
          3,
          2,
          2,
          2,
          3,
          3,
          3,
          3,
          3,
          2,
          3,
          2,
          3,
          3,
          3,
          3,
          1,
          2,
          3,
          3,
          2,
          2,
          2,
          3,
          3,
          3,
          3,
          3,
          3,
          3,
          2,
          2,
          3,
          3,
          1,
          3,
          2,
          3,
          1,
          1,
          3,
          2,
          1,
          2,
          2,
          3,
          3,
          2,
          3,
          1,
          2,
          1,
          3,
          1,
          2,
          3,
          1,
          1,
          3,
          3,
          1,
          1,
          2,
          3,
          1,
          3,
          1,
          2,
          3,
          3,
          2,
          1,
          3,
          3,
          3,
          3,
          2,
          2,
          3,
          1,
          2,
          3,
          3,
          3,
          3,
          2,
          3,
          3,
          1,
          3,
          1,
          1,
          3,
          3,
          3,
          3,
          1,
          1,
          3,
          3,
          1,
          3,
          1,
          3,
          3,
          3,
          3,
          3,
          1,
          1,
          2,
          1,
          3,
          3,
          3,
          3,
          1,
          1,
          3,
          1,
          2,
          3,
          2,
          3,
          1,
          3,
          3,
          1,
          3,
          3,
          2,
          1,
          3,
          2,
          2,
          3,
          3,
          3,
          3,
          2,
          1,
          1,
          3,
          1,
          1,
          3,
          3,
          2,
          1,
          1,
          2,
          2,
          3,
          2,
          1,
          2,
          3,
          3,
          3,
          1,
          1,
          1,
          1,
          3,
          3,
          3,
          2,
          3,
          3,
          3,
          3,
          3,
          3,
          3,
          2,
          1,
          1,
          3,
          3,
          3,
          2,
          1,
          3,
          3,
          2,
          1,
          2,
          1,
          3,
          1,
          2,
          1,
          3,
          3,
          3,
          1,
          3,
          3,
          2,
          3,
          2,
          3,
          3,
          1,
          2,
          3,
          1,
          3,
          1,
          3,
          3,
          1,
          2,
          1,
          3,
          3,
          3,
          3,
          3,
          2,
          3,
          3,
          2,
          2,
          3,
          1,
          3,
          3,
          3,
          1,
          2,
          1,
          3,
          3,
          1,
          3,
          1,
          1,
          3,
          2,
          3,
          2,
          3,
          3,
          3,
          1,
          3,
          3,
          3,
          1,
          3,
          1,
          3,
          3,
          3,
          2,
          3,
          3,
          3,
          2,
          3,
          3,
          2,
          1,
          1,
          3,
          1,
          3,
          3,
          2,
          2,
          3,
          3,
          1,
          2,
          1,
          2,
          2,
          2,
          3,
          3,
          3,
          3,
          1,
          3,
          1,
          3,
          3,
          2,
          2,
          3,
          3,
          3,
          1,
          1,
          3,
          3,
          3,
          1,
          2,
          3,
          3,
          1,
          3,
          1,
          1,
          3,
          3,
          3,
          2,
          2,
          1,
          1,
          3,
          1,
          1,
          1,
          3,
          2,
          3,
          1,
          2,
          3,
          3,
          2,
          3,
          2,
          2,
          1,
          3,
          2,
          3,
          2,
          3,
          1,
          3,
          2,
          2,
          2,
          3,
          3,
          1,
          3,
          3,
          1,
          1,
          1,
          3,
          3,
          1,
          3,
          2,
          1,
          3,
          2,
          3,
          3,
          3,
          2,
          2,
          3,
          2,
          3,
          1,
          3,
          3,
          3,
          1,
          3,
          1,
          1,
          3,
          3,
          3,
          3,
          3,
          2,
          3,
          2,
          3,
          3,
          3,
          3,
          1,
          3,
          1,
          1,
          3,
          3,
          3,
          3,
          3,
          3,
          1,
          3,
          2,
          3,
          1,
          3,
          2,
          1,
          3,
          3,
          3,
          2,
          2,
          1,
          3,
          3,
          3,
          1,
          3,
          2,
          1,
          3,
          3,
          2,
          3,
          3,
          1,
          3,
          2,
          3,
          3,
          1,
          3,
          1,
          3,
          3,
          3,
          3,
          2,
          3,
          1,
          3,
          2,
          3,
          3,
          3,
          1,
          3,
          3,
          3,
          1,
          3,
          2,
          1,
          3,
          3,
          3,
          3,
          3,
          2,
          1,
          3,
          3,
          3,
          1,
          2,
          3,
          1,
          1,
          3,
          3,
          3,
          2,
          1,
          3,
          2,
          2,
          2,
          1,
          3,
          3,
          3,
          1,
          1,
          3,
          2,
          3,
          3,
          3,
          3,
          1,
          2,
          3,
          3,
          2,
          3,
          3,
          2,
          1,
          3,
          1,
          3
         ],
         "legendgroup": "",
         "name": "",
         "showlegend": true,
         "type": "pie",
         "values": [
          3,
          1,
          3,
          1,
          3,
          3,
          1,
          3,
          3,
          2,
          3,
          1,
          3,
          3,
          3,
          2,
          3,
          2,
          3,
          3,
          2,
          2,
          3,
          1,
          3,
          3,
          3,
          1,
          3,
          3,
          1,
          1,
          3,
          2,
          1,
          1,
          3,
          3,
          3,
          3,
          3,
          2,
          3,
          2,
          3,
          3,
          3,
          3,
          3,
          3,
          3,
          3,
          1,
          2,
          1,
          1,
          2,
          3,
          2,
          3,
          3,
          1,
          1,
          3,
          1,
          3,
          2,
          3,
          3,
          3,
          2,
          3,
          2,
          3,
          3,
          3,
          3,
          3,
          2,
          3,
          3,
          3,
          3,
          1,
          2,
          3,
          3,
          3,
          1,
          3,
          3,
          3,
          1,
          3,
          3,
          3,
          1,
          1,
          2,
          2,
          3,
          3,
          1,
          3,
          3,
          3,
          3,
          3,
          3,
          3,
          1,
          3,
          3,
          3,
          3,
          3,
          3,
          2,
          1,
          3,
          2,
          3,
          2,
          2,
          1,
          3,
          3,
          3,
          3,
          3,
          3,
          3,
          3,
          2,
          2,
          2,
          1,
          1,
          3,
          1,
          3,
          3,
          3,
          3,
          2,
          2,
          3,
          3,
          2,
          2,
          2,
          1,
          3,
          3,
          3,
          1,
          3,
          3,
          3,
          3,
          3,
          2,
          3,
          3,
          3,
          3,
          1,
          3,
          1,
          3,
          1,
          3,
          3,
          3,
          1,
          3,
          3,
          1,
          2,
          3,
          3,
          2,
          3,
          2,
          3,
          1,
          3,
          1,
          3,
          3,
          2,
          2,
          3,
          2,
          1,
          1,
          3,
          3,
          3,
          2,
          3,
          3,
          3,
          3,
          3,
          3,
          3,
          3,
          3,
          1,
          3,
          2,
          3,
          2,
          3,
          1,
          3,
          2,
          1,
          2,
          3,
          2,
          3,
          3,
          1,
          3,
          2,
          3,
          2,
          3,
          1,
          3,
          2,
          3,
          2,
          3,
          2,
          2,
          2,
          2,
          3,
          3,
          2,
          3,
          3,
          1,
          3,
          2,
          1,
          2,
          3,
          3,
          1,
          3,
          3,
          3,
          1,
          1,
          1,
          2,
          3,
          3,
          1,
          1,
          3,
          2,
          3,
          3,
          1,
          1,
          1,
          3,
          2,
          1,
          3,
          1,
          3,
          2,
          3,
          3,
          3,
          3,
          3,
          3,
          1,
          3,
          3,
          3,
          2,
          3,
          1,
          1,
          2,
          3,
          3,
          1,
          3,
          1,
          1,
          1,
          3,
          3,
          3,
          2,
          3,
          1,
          1,
          1,
          2,
          1,
          1,
          1,
          2,
          3,
          2,
          3,
          2,
          2,
          1,
          1,
          3,
          3,
          2,
          2,
          3,
          1,
          3,
          2,
          3,
          1,
          3,
          1,
          1,
          3,
          1,
          3,
          1,
          1,
          3,
          1,
          2,
          1,
          2,
          2,
          2,
          2,
          2,
          3,
          3,
          3,
          3,
          1,
          3,
          3,
          3,
          3,
          1,
          2,
          3,
          3,
          3,
          2,
          3,
          3,
          3,
          3,
          1,
          3,
          3,
          1,
          1,
          3,
          3,
          1,
          3,
          1,
          3,
          1,
          3,
          3,
          1,
          3,
          3,
          1,
          3,
          2,
          3,
          2,
          3,
          2,
          1,
          3,
          3,
          1,
          3,
          3,
          3,
          2,
          2,
          2,
          3,
          3,
          3,
          3,
          3,
          2,
          3,
          2,
          3,
          3,
          3,
          3,
          1,
          2,
          3,
          3,
          2,
          2,
          2,
          3,
          3,
          3,
          3,
          3,
          3,
          3,
          2,
          2,
          3,
          3,
          1,
          3,
          2,
          3,
          1,
          1,
          3,
          2,
          1,
          2,
          2,
          3,
          3,
          2,
          3,
          1,
          2,
          1,
          3,
          1,
          2,
          3,
          1,
          1,
          3,
          3,
          1,
          1,
          2,
          3,
          1,
          3,
          1,
          2,
          3,
          3,
          2,
          1,
          3,
          3,
          3,
          3,
          2,
          2,
          3,
          1,
          2,
          3,
          3,
          3,
          3,
          2,
          3,
          3,
          1,
          3,
          1,
          1,
          3,
          3,
          3,
          3,
          1,
          1,
          3,
          3,
          1,
          3,
          1,
          3,
          3,
          3,
          3,
          3,
          1,
          1,
          2,
          1,
          3,
          3,
          3,
          3,
          1,
          1,
          3,
          1,
          2,
          3,
          2,
          3,
          1,
          3,
          3,
          1,
          3,
          3,
          2,
          1,
          3,
          2,
          2,
          3,
          3,
          3,
          3,
          2,
          1,
          1,
          3,
          1,
          1,
          3,
          3,
          2,
          1,
          1,
          2,
          2,
          3,
          2,
          1,
          2,
          3,
          3,
          3,
          1,
          1,
          1,
          1,
          3,
          3,
          3,
          2,
          3,
          3,
          3,
          3,
          3,
          3,
          3,
          2,
          1,
          1,
          3,
          3,
          3,
          2,
          1,
          3,
          3,
          2,
          1,
          2,
          1,
          3,
          1,
          2,
          1,
          3,
          3,
          3,
          1,
          3,
          3,
          2,
          3,
          2,
          3,
          3,
          1,
          2,
          3,
          1,
          3,
          1,
          3,
          3,
          1,
          2,
          1,
          3,
          3,
          3,
          3,
          3,
          2,
          3,
          3,
          2,
          2,
          3,
          1,
          3,
          3,
          3,
          1,
          2,
          1,
          3,
          3,
          1,
          3,
          1,
          1,
          3,
          2,
          3,
          2,
          3,
          3,
          3,
          1,
          3,
          3,
          3,
          1,
          3,
          1,
          3,
          3,
          3,
          2,
          3,
          3,
          3,
          2,
          3,
          3,
          2,
          1,
          1,
          3,
          1,
          3,
          3,
          2,
          2,
          3,
          3,
          1,
          2,
          1,
          2,
          2,
          2,
          3,
          3,
          3,
          3,
          1,
          3,
          1,
          3,
          3,
          2,
          2,
          3,
          3,
          3,
          1,
          1,
          3,
          3,
          3,
          1,
          2,
          3,
          3,
          1,
          3,
          1,
          1,
          3,
          3,
          3,
          2,
          2,
          1,
          1,
          3,
          1,
          1,
          1,
          3,
          2,
          3,
          1,
          2,
          3,
          3,
          2,
          3,
          2,
          2,
          1,
          3,
          2,
          3,
          2,
          3,
          1,
          3,
          2,
          2,
          2,
          3,
          3,
          1,
          3,
          3,
          1,
          1,
          1,
          3,
          3,
          1,
          3,
          2,
          1,
          3,
          2,
          3,
          3,
          3,
          2,
          2,
          3,
          2,
          3,
          1,
          3,
          3,
          3,
          1,
          3,
          1,
          1,
          3,
          3,
          3,
          3,
          3,
          2,
          3,
          2,
          3,
          3,
          3,
          3,
          1,
          3,
          1,
          1,
          3,
          3,
          3,
          3,
          3,
          3,
          1,
          3,
          2,
          3,
          1,
          3,
          2,
          1,
          3,
          3,
          3,
          2,
          2,
          1,
          3,
          3,
          3,
          1,
          3,
          2,
          1,
          3,
          3,
          2,
          3,
          3,
          1,
          3,
          2,
          3,
          3,
          1,
          3,
          1,
          3,
          3,
          3,
          3,
          2,
          3,
          1,
          3,
          2,
          3,
          3,
          3,
          1,
          3,
          3,
          3,
          1,
          3,
          2,
          1,
          3,
          3,
          3,
          3,
          3,
          2,
          1,
          3,
          3,
          3,
          1,
          2,
          3,
          1,
          1,
          3,
          3,
          3,
          2,
          1,
          3,
          2,
          2,
          2,
          1,
          3,
          3,
          3,
          1,
          1,
          3,
          2,
          3,
          3,
          3,
          3,
          1,
          2,
          3,
          3,
          2,
          3,
          3,
          2,
          1,
          3,
          1,
          3
         ]
        }
       ],
       "layout": {
        "legend": {
         "tracegroupgap": 0
        },
        "margin": {
         "t": 60
        },
        "template": {
         "data": {
          "bar": [
           {
            "error_x": {
             "color": "#2a3f5f"
            },
            "error_y": {
             "color": "#2a3f5f"
            },
            "marker": {
             "line": {
              "color": "#E5ECF6",
              "width": 0.5
             },
             "pattern": {
              "fillmode": "overlay",
              "size": 10,
              "solidity": 0.2
             }
            },
            "type": "bar"
           }
          ],
          "barpolar": [
           {
            "marker": {
             "line": {
              "color": "#E5ECF6",
              "width": 0.5
             },
             "pattern": {
              "fillmode": "overlay",
              "size": 10,
              "solidity": 0.2
             }
            },
            "type": "barpolar"
           }
          ],
          "carpet": [
           {
            "aaxis": {
             "endlinecolor": "#2a3f5f",
             "gridcolor": "white",
             "linecolor": "white",
             "minorgridcolor": "white",
             "startlinecolor": "#2a3f5f"
            },
            "baxis": {
             "endlinecolor": "#2a3f5f",
             "gridcolor": "white",
             "linecolor": "white",
             "minorgridcolor": "white",
             "startlinecolor": "#2a3f5f"
            },
            "type": "carpet"
           }
          ],
          "choropleth": [
           {
            "colorbar": {
             "outlinewidth": 0,
             "ticks": ""
            },
            "type": "choropleth"
           }
          ],
          "contour": [
           {
            "colorbar": {
             "outlinewidth": 0,
             "ticks": ""
            },
            "colorscale": [
             [
              0,
              "#0d0887"
             ],
             [
              0.1111111111111111,
              "#46039f"
             ],
             [
              0.2222222222222222,
              "#7201a8"
             ],
             [
              0.3333333333333333,
              "#9c179e"
             ],
             [
              0.4444444444444444,
              "#bd3786"
             ],
             [
              0.5555555555555556,
              "#d8576b"
             ],
             [
              0.6666666666666666,
              "#ed7953"
             ],
             [
              0.7777777777777778,
              "#fb9f3a"
             ],
             [
              0.8888888888888888,
              "#fdca26"
             ],
             [
              1,
              "#f0f921"
             ]
            ],
            "type": "contour"
           }
          ],
          "contourcarpet": [
           {
            "colorbar": {
             "outlinewidth": 0,
             "ticks": ""
            },
            "type": "contourcarpet"
           }
          ],
          "heatmap": [
           {
            "colorbar": {
             "outlinewidth": 0,
             "ticks": ""
            },
            "colorscale": [
             [
              0,
              "#0d0887"
             ],
             [
              0.1111111111111111,
              "#46039f"
             ],
             [
              0.2222222222222222,
              "#7201a8"
             ],
             [
              0.3333333333333333,
              "#9c179e"
             ],
             [
              0.4444444444444444,
              "#bd3786"
             ],
             [
              0.5555555555555556,
              "#d8576b"
             ],
             [
              0.6666666666666666,
              "#ed7953"
             ],
             [
              0.7777777777777778,
              "#fb9f3a"
             ],
             [
              0.8888888888888888,
              "#fdca26"
             ],
             [
              1,
              "#f0f921"
             ]
            ],
            "type": "heatmap"
           }
          ],
          "heatmapgl": [
           {
            "colorbar": {
             "outlinewidth": 0,
             "ticks": ""
            },
            "colorscale": [
             [
              0,
              "#0d0887"
             ],
             [
              0.1111111111111111,
              "#46039f"
             ],
             [
              0.2222222222222222,
              "#7201a8"
             ],
             [
              0.3333333333333333,
              "#9c179e"
             ],
             [
              0.4444444444444444,
              "#bd3786"
             ],
             [
              0.5555555555555556,
              "#d8576b"
             ],
             [
              0.6666666666666666,
              "#ed7953"
             ],
             [
              0.7777777777777778,
              "#fb9f3a"
             ],
             [
              0.8888888888888888,
              "#fdca26"
             ],
             [
              1,
              "#f0f921"
             ]
            ],
            "type": "heatmapgl"
           }
          ],
          "histogram": [
           {
            "marker": {
             "pattern": {
              "fillmode": "overlay",
              "size": 10,
              "solidity": 0.2
             }
            },
            "type": "histogram"
           }
          ],
          "histogram2d": [
           {
            "colorbar": {
             "outlinewidth": 0,
             "ticks": ""
            },
            "colorscale": [
             [
              0,
              "#0d0887"
             ],
             [
              0.1111111111111111,
              "#46039f"
             ],
             [
              0.2222222222222222,
              "#7201a8"
             ],
             [
              0.3333333333333333,
              "#9c179e"
             ],
             [
              0.4444444444444444,
              "#bd3786"
             ],
             [
              0.5555555555555556,
              "#d8576b"
             ],
             [
              0.6666666666666666,
              "#ed7953"
             ],
             [
              0.7777777777777778,
              "#fb9f3a"
             ],
             [
              0.8888888888888888,
              "#fdca26"
             ],
             [
              1,
              "#f0f921"
             ]
            ],
            "type": "histogram2d"
           }
          ],
          "histogram2dcontour": [
           {
            "colorbar": {
             "outlinewidth": 0,
             "ticks": ""
            },
            "colorscale": [
             [
              0,
              "#0d0887"
             ],
             [
              0.1111111111111111,
              "#46039f"
             ],
             [
              0.2222222222222222,
              "#7201a8"
             ],
             [
              0.3333333333333333,
              "#9c179e"
             ],
             [
              0.4444444444444444,
              "#bd3786"
             ],
             [
              0.5555555555555556,
              "#d8576b"
             ],
             [
              0.6666666666666666,
              "#ed7953"
             ],
             [
              0.7777777777777778,
              "#fb9f3a"
             ],
             [
              0.8888888888888888,
              "#fdca26"
             ],
             [
              1,
              "#f0f921"
             ]
            ],
            "type": "histogram2dcontour"
           }
          ],
          "mesh3d": [
           {
            "colorbar": {
             "outlinewidth": 0,
             "ticks": ""
            },
            "type": "mesh3d"
           }
          ],
          "parcoords": [
           {
            "line": {
             "colorbar": {
              "outlinewidth": 0,
              "ticks": ""
             }
            },
            "type": "parcoords"
           }
          ],
          "pie": [
           {
            "automargin": true,
            "type": "pie"
           }
          ],
          "scatter": [
           {
            "fillpattern": {
             "fillmode": "overlay",
             "size": 10,
             "solidity": 0.2
            },
            "type": "scatter"
           }
          ],
          "scatter3d": [
           {
            "line": {
             "colorbar": {
              "outlinewidth": 0,
              "ticks": ""
             }
            },
            "marker": {
             "colorbar": {
              "outlinewidth": 0,
              "ticks": ""
             }
            },
            "type": "scatter3d"
           }
          ],
          "scattercarpet": [
           {
            "marker": {
             "colorbar": {
              "outlinewidth": 0,
              "ticks": ""
             }
            },
            "type": "scattercarpet"
           }
          ],
          "scattergeo": [
           {
            "marker": {
             "colorbar": {
              "outlinewidth": 0,
              "ticks": ""
             }
            },
            "type": "scattergeo"
           }
          ],
          "scattergl": [
           {
            "marker": {
             "colorbar": {
              "outlinewidth": 0,
              "ticks": ""
             }
            },
            "type": "scattergl"
           }
          ],
          "scattermapbox": [
           {
            "marker": {
             "colorbar": {
              "outlinewidth": 0,
              "ticks": ""
             }
            },
            "type": "scattermapbox"
           }
          ],
          "scatterpolar": [
           {
            "marker": {
             "colorbar": {
              "outlinewidth": 0,
              "ticks": ""
             }
            },
            "type": "scatterpolar"
           }
          ],
          "scatterpolargl": [
           {
            "marker": {
             "colorbar": {
              "outlinewidth": 0,
              "ticks": ""
             }
            },
            "type": "scatterpolargl"
           }
          ],
          "scatterternary": [
           {
            "marker": {
             "colorbar": {
              "outlinewidth": 0,
              "ticks": ""
             }
            },
            "type": "scatterternary"
           }
          ],
          "surface": [
           {
            "colorbar": {
             "outlinewidth": 0,
             "ticks": ""
            },
            "colorscale": [
             [
              0,
              "#0d0887"
             ],
             [
              0.1111111111111111,
              "#46039f"
             ],
             [
              0.2222222222222222,
              "#7201a8"
             ],
             [
              0.3333333333333333,
              "#9c179e"
             ],
             [
              0.4444444444444444,
              "#bd3786"
             ],
             [
              0.5555555555555556,
              "#d8576b"
             ],
             [
              0.6666666666666666,
              "#ed7953"
             ],
             [
              0.7777777777777778,
              "#fb9f3a"
             ],
             [
              0.8888888888888888,
              "#fdca26"
             ],
             [
              1,
              "#f0f921"
             ]
            ],
            "type": "surface"
           }
          ],
          "table": [
           {
            "cells": {
             "fill": {
              "color": "#EBF0F8"
             },
             "line": {
              "color": "white"
             }
            },
            "header": {
             "fill": {
              "color": "#C8D4E3"
             },
             "line": {
              "color": "white"
             }
            },
            "type": "table"
           }
          ]
         },
         "layout": {
          "annotationdefaults": {
           "arrowcolor": "#2a3f5f",
           "arrowhead": 0,
           "arrowwidth": 1
          },
          "autotypenumbers": "strict",
          "coloraxis": {
           "colorbar": {
            "outlinewidth": 0,
            "ticks": ""
           }
          },
          "colorscale": {
           "diverging": [
            [
             0,
             "#8e0152"
            ],
            [
             0.1,
             "#c51b7d"
            ],
            [
             0.2,
             "#de77ae"
            ],
            [
             0.3,
             "#f1b6da"
            ],
            [
             0.4,
             "#fde0ef"
            ],
            [
             0.5,
             "#f7f7f7"
            ],
            [
             0.6,
             "#e6f5d0"
            ],
            [
             0.7,
             "#b8e186"
            ],
            [
             0.8,
             "#7fbc41"
            ],
            [
             0.9,
             "#4d9221"
            ],
            [
             1,
             "#276419"
            ]
           ],
           "sequential": [
            [
             0,
             "#0d0887"
            ],
            [
             0.1111111111111111,
             "#46039f"
            ],
            [
             0.2222222222222222,
             "#7201a8"
            ],
            [
             0.3333333333333333,
             "#9c179e"
            ],
            [
             0.4444444444444444,
             "#bd3786"
            ],
            [
             0.5555555555555556,
             "#d8576b"
            ],
            [
             0.6666666666666666,
             "#ed7953"
            ],
            [
             0.7777777777777778,
             "#fb9f3a"
            ],
            [
             0.8888888888888888,
             "#fdca26"
            ],
            [
             1,
             "#f0f921"
            ]
           ],
           "sequentialminus": [
            [
             0,
             "#0d0887"
            ],
            [
             0.1111111111111111,
             "#46039f"
            ],
            [
             0.2222222222222222,
             "#7201a8"
            ],
            [
             0.3333333333333333,
             "#9c179e"
            ],
            [
             0.4444444444444444,
             "#bd3786"
            ],
            [
             0.5555555555555556,
             "#d8576b"
            ],
            [
             0.6666666666666666,
             "#ed7953"
            ],
            [
             0.7777777777777778,
             "#fb9f3a"
            ],
            [
             0.8888888888888888,
             "#fdca26"
            ],
            [
             1,
             "#f0f921"
            ]
           ]
          },
          "colorway": [
           "#636efa",
           "#EF553B",
           "#00cc96",
           "#ab63fa",
           "#FFA15A",
           "#19d3f3",
           "#FF6692",
           "#B6E880",
           "#FF97FF",
           "#FECB52"
          ],
          "font": {
           "color": "#2a3f5f"
          },
          "geo": {
           "bgcolor": "white",
           "lakecolor": "white",
           "landcolor": "#E5ECF6",
           "showlakes": true,
           "showland": true,
           "subunitcolor": "white"
          },
          "hoverlabel": {
           "align": "left"
          },
          "hovermode": "closest",
          "mapbox": {
           "style": "light"
          },
          "paper_bgcolor": "white",
          "plot_bgcolor": "#E5ECF6",
          "polar": {
           "angularaxis": {
            "gridcolor": "white",
            "linecolor": "white",
            "ticks": ""
           },
           "bgcolor": "#E5ECF6",
           "radialaxis": {
            "gridcolor": "white",
            "linecolor": "white",
            "ticks": ""
           }
          },
          "scene": {
           "xaxis": {
            "backgroundcolor": "#E5ECF6",
            "gridcolor": "white",
            "gridwidth": 2,
            "linecolor": "white",
            "showbackground": true,
            "ticks": "",
            "zerolinecolor": "white"
           },
           "yaxis": {
            "backgroundcolor": "#E5ECF6",
            "gridcolor": "white",
            "gridwidth": 2,
            "linecolor": "white",
            "showbackground": true,
            "ticks": "",
            "zerolinecolor": "white"
           },
           "zaxis": {
            "backgroundcolor": "#E5ECF6",
            "gridcolor": "white",
            "gridwidth": 2,
            "linecolor": "white",
            "showbackground": true,
            "ticks": "",
            "zerolinecolor": "white"
           }
          },
          "shapedefaults": {
           "line": {
            "color": "#2a3f5f"
           }
          },
          "ternary": {
           "aaxis": {
            "gridcolor": "white",
            "linecolor": "white",
            "ticks": ""
           },
           "baxis": {
            "gridcolor": "white",
            "linecolor": "white",
            "ticks": ""
           },
           "bgcolor": "#E5ECF6",
           "caxis": {
            "gridcolor": "white",
            "linecolor": "white",
            "ticks": ""
           }
          },
          "title": {
           "x": 0.05
          },
          "xaxis": {
           "automargin": true,
           "gridcolor": "white",
           "linecolor": "white",
           "ticks": "",
           "title": {
            "standoff": 15
           },
           "zerolinecolor": "white",
           "zerolinewidth": 2
          },
          "yaxis": {
           "automargin": true,
           "gridcolor": "white",
           "linecolor": "white",
           "ticks": "",
           "title": {
            "standoff": 15
           },
           "zerolinecolor": "white",
           "zerolinewidth": 2
          }
         }
        }
       }
      }
     },
     "metadata": {},
     "output_type": "display_data"
    },
    {
     "data": {
      "text/plain": [
       "' Aşağıdaki grafikte de görüldüğü üzere en çok PClass sınıfı 3 numaradadır. Ardından sınıf 2 ve sonra da 1 gelir.\\n\\nVe  '"
      ]
     },
     "execution_count": 56,
     "metadata": {},
     "output_type": "execute_result"
    }
   ],
   "source": [
    "pieChart(data,\"Pclass\") #detaylı bilgi için help(pieChart) fonksiyonun kullanabilirsiniz\n",
    "\n",
    "# help(pieChart)\n",
    "\n",
    "\n",
    "\"\"\" Aşağıdaki grafikte de görüldüğü üzere en çok PClass sınıfı 3 numaradadır. Ardından sınıf 2 ve sonra da 1 gelir.\n",
    "\n",
    "Ve  \"\"\""
   ]
  },
  {
   "cell_type": "code",
   "execution_count": 57,
   "metadata": {},
   "outputs": [
    {
     "data": {
      "application/vnd.plotly.v1+json": {
       "config": {
        "plotlyServerURL": "https://plot.ly"
       },
       "data": [
        {
         "hovertemplate": "Sex=male<br>Pclass=%{x}<br>Fare=%{y}<extra></extra>",
         "legendgroup": "male",
         "marker": {
          "color": "#636efa",
          "symbol": "circle"
         },
         "mode": "markers",
         "name": "male",
         "orientation": "v",
         "showlegend": true,
         "type": "scatter",
         "x": [
          3,
          3,
          3,
          1,
          3,
          3,
          3,
          3,
          2,
          2,
          2,
          1,
          3,
          1,
          3,
          1,
          2,
          1,
          1,
          3,
          3,
          3,
          3,
          3,
          3,
          3,
          3,
          1,
          1,
          3,
          3,
          3,
          1,
          3,
          1,
          3,
          3,
          3,
          2,
          2,
          3,
          3,
          3,
          3,
          3,
          2,
          3,
          3,
          1,
          3,
          3,
          3,
          3,
          3,
          1,
          3,
          3,
          3,
          1,
          1,
          2,
          3,
          1,
          3,
          3,
          3,
          3,
          3,
          1,
          3,
          3,
          3,
          2,
          1,
          2,
          3,
          2,
          1,
          3,
          3,
          3,
          3,
          3,
          3,
          2,
          2,
          1,
          3,
          1,
          3,
          2,
          2,
          3,
          2,
          2,
          2,
          3,
          3,
          3,
          1,
          3,
          3,
          3,
          3,
          3,
          3,
          3,
          3,
          1,
          3,
          1,
          3,
          3,
          1,
          3,
          3,
          2,
          3,
          2,
          3,
          2,
          1,
          1,
          3,
          3,
          2,
          2,
          3,
          3,
          3,
          3,
          3,
          3,
          3,
          3,
          3,
          1,
          3,
          3,
          2,
          3,
          2,
          2,
          3,
          2,
          3,
          3,
          1,
          3,
          2,
          3,
          2,
          3,
          2,
          2,
          2,
          2,
          2,
          2,
          3,
          3,
          1,
          1,
          2,
          3,
          1,
          3,
          3,
          3,
          1,
          1,
          2,
          3,
          3,
          1,
          3,
          1,
          2,
          3,
          3,
          3,
          3,
          3,
          1,
          3,
          3,
          3,
          2,
          2,
          3,
          1,
          3,
          1,
          3,
          3,
          3,
          1,
          2,
          3,
          2,
          2,
          3,
          3,
          3,
          3,
          1,
          1,
          3,
          3,
          1,
          3,
          1,
          2,
          2,
          2,
          2,
          3,
          3,
          3,
          1,
          3,
          3,
          3,
          3,
          3,
          2,
          3,
          3,
          3,
          1,
          3,
          3,
          1,
          1,
          3,
          3,
          3,
          3,
          2,
          3,
          3,
          1,
          3,
          3,
          3,
          2,
          2,
          3,
          3,
          3,
          2,
          3,
          2,
          3,
          3,
          3,
          2,
          3,
          2,
          3,
          3,
          3,
          3,
          3,
          3,
          3,
          1,
          3,
          1,
          1,
          2,
          3,
          3,
          3,
          1,
          1,
          1,
          2,
          3,
          1,
          1,
          3,
          3,
          1,
          3,
          1,
          3,
          1,
          2,
          3,
          3,
          2,
          1,
          3,
          3,
          3,
          1,
          2,
          3,
          3,
          3,
          2,
          3,
          1,
          1,
          3,
          3,
          3,
          3,
          1,
          1,
          3,
          3,
          3,
          3,
          3,
          1,
          1,
          3,
          3,
          3,
          3,
          1,
          3,
          1,
          3,
          3,
          3,
          3,
          3,
          3,
          1,
          3,
          2,
          3,
          3,
          1,
          3,
          2,
          1,
          1,
          2,
          3,
          2,
          1,
          2,
          3,
          3,
          1,
          1,
          3,
          3,
          2,
          3,
          3,
          3,
          3,
          3,
          2,
          1,
          3,
          3,
          3,
          2,
          1,
          3,
          2,
          1,
          3,
          3,
          3,
          3,
          2,
          3,
          3,
          3,
          1,
          3,
          1,
          3,
          1,
          3,
          3,
          1,
          3,
          3,
          3,
          3,
          2,
          3,
          1,
          3,
          3,
          3,
          1,
          2,
          3,
          3,
          1,
          3,
          1,
          1,
          3,
          2,
          3,
          3,
          3,
          1,
          3,
          1,
          3,
          3,
          3,
          2,
          3,
          2,
          1,
          1,
          3,
          1,
          3,
          3,
          2,
          2,
          3,
          3,
          1,
          2,
          2,
          2,
          3,
          3,
          1,
          1,
          3,
          3,
          2,
          2,
          3,
          3,
          3,
          1,
          3,
          3,
          1,
          2,
          3,
          1,
          3,
          1,
          3,
          3,
          2,
          1,
          3,
          1,
          1,
          3,
          2,
          3,
          3,
          3,
          3,
          2,
          2,
          1,
          3,
          2,
          3,
          2,
          2,
          2,
          3,
          1,
          3,
          3,
          1,
          1,
          3,
          3,
          1,
          3,
          1,
          3,
          3,
          3,
          3,
          2,
          3,
          2,
          3,
          3,
          3,
          3,
          3,
          1,
          3,
          3,
          3,
          3,
          3,
          3,
          3,
          3,
          1,
          3,
          3,
          3,
          3,
          3,
          1,
          3,
          2,
          1,
          3,
          2,
          3,
          2,
          1,
          3,
          3,
          3,
          1,
          2,
          3,
          3,
          2,
          3,
          1,
          2,
          3,
          3,
          3,
          1,
          3,
          3,
          3,
          2,
          3,
          2,
          3,
          3,
          3,
          3,
          3,
          3,
          1,
          3,
          2,
          3,
          3,
          3,
          3,
          3,
          2,
          3,
          3,
          1,
          3,
          3,
          2,
          2,
          1,
          3,
          3,
          3,
          1,
          3,
          3,
          3,
          3,
          3,
          2,
          3,
          2,
          1,
          3
         ],
         "xaxis": "x",
         "y": [
          7.25,
          8.05,
          8.4583,
          51.8625,
          21.075,
          8.05,
          31.275,
          29.125,
          13,
          26,
          13,
          35.5,
          7.225,
          263,
          7.8958,
          27.7208,
          10.5,
          82.1708,
          52,
          7.2292,
          8.05,
          7.8958,
          8.05,
          15.5,
          21.6792,
          39.6875,
          7.8,
          61.9792,
          35.5,
          7.2292,
          46.9,
          7.2292,
          83.475,
          27.9,
          27.7208,
          15.2458,
          8.1583,
          8.6625,
          10.5,
          73.5,
          14.4542,
          56.4958,
          7.65,
          7.8958,
          8.05,
          29,
          9,
          9.5,
          47.1,
          34.375,
          8.05,
          8.05,
          8.05,
          7.8542,
          61.175,
          20.575,
          7.25,
          8.05,
          34.6542,
          63.3583,
          26,
          7.8958,
          77.2875,
          8.6542,
          7.925,
          7.8958,
          7.775,
          7.8958,
          52,
          8.05,
          7.925,
          7.75,
          21,
          247.5208,
          73.5,
          8.05,
          30.0708,
          77.2875,
          11.2417,
          7.75,
          7.1417,
          6.975,
          7.8958,
          7.05,
          13,
          15.0458,
          53.1,
          9.2167,
          79.2,
          6.75,
          11.5,
          36.75,
          7.7958,
          26,
          13,
          12.525,
          8.05,
          14.5,
          7.3125,
          61.3792,
          8.05,
          8.6625,
          69.55,
          16.1,
          7.775,
          8.6625,
          39.6875,
          20.525,
          25.925,
          56.4958,
          33.5,
          29.125,
          7.925,
          30.6958,
          7.8542,
          25.4667,
          13,
          0,
          15.05,
          31.3875,
          39,
          50,
          26.55,
          15.5,
          7.8958,
          13,
          26,
          7.75,
          8.4042,
          9.5,
          69.55,
          6.4958,
          7.225,
          8.05,
          15.85,
          18.7875,
          31,
          7.05,
          7.25,
          13,
          7.75,
          27,
          10.5,
          8.05,
          13,
          8.05,
          7.8958,
          90,
          9.35,
          10.5,
          7.25,
          13,
          7.775,
          13.5,
          10.5,
          26,
          10.5,
          12.275,
          10.5,
          7.125,
          7.225,
          90,
          52.5542,
          26,
          7.25,
          26.55,
          16.1,
          7.75,
          31.3875,
          79.65,
          0,
          10.5,
          39.6875,
          7.775,
          31,
          0,
          29.7,
          0,
          29.125,
          7.75,
          7.8542,
          9.5,
          8.05,
          26,
          8.6625,
          9.5,
          7.8958,
          13,
          12.875,
          7.8958,
          27.7208,
          7.2292,
          30.5,
          23.25,
          0,
          8.05,
          151.55,
          24,
          7.8958,
          26.25,
          14,
          7.25,
          7.8958,
          69.55,
          6.2375,
          28.5,
          153.4625,
          18,
          7.8958,
          66.6,
          8.05,
          35.5,
          26,
          13,
          13,
          13,
          15.9,
          8.6625,
          9.225,
          35,
          7.2292,
          17.8,
          7.225,
          9.5,
          27.9,
          27.7208,
          7.05,
          15.5,
          7.25,
          55.4417,
          6.4958,
          8.05,
          135.6333,
          211.5,
          4.0125,
          7.775,
          7.925,
          7.8958,
          73.5,
          46.9,
          7.7292,
          120,
          7.7958,
          7.925,
          7.7958,
          26,
          10.5,
          7.925,
          8.05,
          15.85,
          21,
          7.75,
          18.75,
          7.775,
          7.8958,
          6.8583,
          0,
          7.925,
          13,
          7.8958,
          7.7333,
          7.875,
          20.2125,
          7.25,
          7.75,
          8.05,
          26.55,
          7.125,
          55.9,
          263,
          10.5,
          9.5,
          7.775,
          8.1125,
          81.8583,
          26.55,
          30.5,
          27.75,
          19.9667,
          27.75,
          89.1042,
          8.05,
          7.8958,
          26.55,
          7.75,
          26.55,
          8.05,
          38.5,
          13,
          8.05,
          7.05,
          0,
          26.55,
          7.725,
          7.25,
          8.6625,
          52,
          21,
          7.0458,
          7.5208,
          46.9,
          0,
          8.05,
          91.0792,
          29.7,
          8.05,
          15.9,
          19.9667,
          7.25,
          30.5,
          49.5042,
          8.05,
          14.4583,
          15.1,
          7.7958,
          8.6625,
          108.9,
          26.55,
          22.525,
          56.4958,
          7.75,
          8.05,
          26.2875,
          7.4958,
          34.0208,
          24.15,
          7.8958,
          7.8958,
          7.225,
          7.2292,
          7.75,
          221.7792,
          7.925,
          11.5,
          7.2292,
          7.2292,
          26.55,
          14.5,
          26,
          106.425,
          26,
          13.8625,
          20.525,
          36.75,
          110.8833,
          26,
          7.8292,
          7.225,
          26.55,
          227.525,
          7.75,
          7.8958,
          13.5,
          8.05,
          24.15,
          7.8958,
          7.2292,
          7.8542,
          10.5,
          26.3875,
          8.05,
          14.5,
          7.925,
          26,
          40.125,
          8.7125,
          15,
          79.2,
          8.05,
          8.05,
          7.125,
          7.25,
          26,
          24.15,
          0,
          7.225,
          56.9292,
          7.8958,
          42.4,
          8.05,
          26.55,
          15.55,
          7.8958,
          30.5,
          7.05,
          7.75,
          8.05,
          14.4,
          10.5,
          14.4542,
          52.5542,
          15.7417,
          7.8542,
          16.1,
          32.3208,
          12.35,
          7.8958,
          7.7333,
          30,
          7.0542,
          30.5,
          0,
          7.925,
          26.25,
          16.1,
          7.8542,
          56.4958,
          76.7292,
          7.8958,
          35.5,
          7.55,
          7.8958,
          8.4333,
          73.5,
          7.8958,
          13,
          113.275,
          133.65,
          7.225,
          25.5875,
          7.4958,
          7.925,
          73.5,
          13,
          7.775,
          8.05,
          52,
          10.5,
          13,
          0,
          7.775,
          8.05,
          512.3292,
          76.7292,
          9.225,
          46.9,
          39,
          41.5792,
          39.6875,
          10.1708,
          7.7958,
          57,
          56.4958,
          7.225,
          26.55,
          13.5,
          8.05,
          110.8833,
          7.65,
          26.2875,
          7.7417,
          7.8542,
          26,
          26.2875,
          15.2458,
          26.55,
          52,
          9.4833,
          13,
          7.65,
          15.5,
          7.775,
          7.0542,
          13,
          13,
          53.1,
          8.6625,
          26,
          18.7875,
          0,
          13,
          13,
          16.1,
          512.3292,
          7.8958,
          7.8958,
          30,
          78.85,
          16.1,
          7.925,
          71,
          20.25,
          53.1,
          7.75,
          12.475,
          9.5,
          7.8958,
          14.5,
          7.7958,
          11.5,
          8.05,
          14.5,
          7.125,
          7.2292,
          7.775,
          39.6,
          24.15,
          8.3625,
          9.5,
          7.8542,
          7.225,
          7.75,
          7.75,
          7.7375,
          30,
          23.45,
          7.05,
          7.25,
          29.125,
          20.575,
          79.2,
          7.75,
          26,
          30.6958,
          7.8958,
          13,
          7.2292,
          13,
          120,
          8.5167,
          6.975,
          7.775,
          0,
          13,
          7.8875,
          24.15,
          10.5,
          8.05,
          0,
          37.0042,
          6.45,
          27.9,
          8.6625,
          0,
          39.6875,
          6.95,
          56.4958,
          37.0042,
          7.75,
          18.75,
          7.2292,
          7.8542,
          8.3,
          8.6625,
          8.05,
          56.4958,
          29.7,
          7.925,
          10.5,
          6.4375,
          8.6625,
          7.55,
          69.55,
          7.8958,
          33,
          31.275,
          7.775,
          26.55,
          7.2292,
          14.1083,
          11.5,
          13,
          50.4958,
          9.5,
          11.1333,
          7.8958,
          5,
          9,
          9.8458,
          7.8958,
          7.8958,
          7.8958,
          10.5,
          7.05,
          13,
          30,
          7.75
         ],
         "yaxis": "y"
        },
        {
         "hovertemplate": "Sex=female<br>Pclass=%{x}<br>Fare=%{y}<extra></extra>",
         "legendgroup": "female",
         "marker": {
          "color": "#EF553B",
          "symbol": "circle"
         },
         "mode": "markers",
         "name": "female",
         "orientation": "v",
         "showlegend": true,
         "type": "scatter",
         "x": [
          1,
          3,
          1,
          3,
          2,
          3,
          1,
          3,
          2,
          3,
          3,
          3,
          3,
          3,
          3,
          1,
          3,
          3,
          3,
          3,
          2,
          2,
          3,
          3,
          3,
          1,
          2,
          2,
          2,
          1,
          2,
          3,
          3,
          3,
          3,
          2,
          3,
          1,
          2,
          3,
          3,
          3,
          3,
          3,
          3,
          3,
          2,
          3,
          3,
          2,
          1,
          3,
          3,
          3,
          3,
          1,
          3,
          2,
          1,
          3,
          3,
          1,
          3,
          3,
          3,
          2,
          3,
          1,
          1,
          3,
          2,
          3,
          3,
          2,
          1,
          3,
          1,
          3,
          1,
          3,
          3,
          2,
          3,
          3,
          3,
          2,
          3,
          3,
          3,
          1,
          1,
          1,
          2,
          3,
          1,
          1,
          2,
          3,
          1,
          3,
          3,
          3,
          1,
          1,
          3,
          1,
          1,
          3,
          2,
          1,
          1,
          1,
          1,
          1,
          2,
          3,
          2,
          1,
          1,
          2,
          2,
          1,
          2,
          3,
          1,
          3,
          1,
          1,
          1,
          2,
          2,
          3,
          1,
          2,
          3,
          3,
          3,
          1,
          3,
          3,
          1,
          3,
          1,
          3,
          1,
          3,
          1,
          2,
          2,
          1,
          3,
          3,
          2,
          3,
          3,
          3,
          1,
          3,
          2,
          2,
          3,
          3,
          2,
          2,
          3,
          2,
          1,
          3,
          2,
          2,
          2,
          2,
          3,
          1,
          2,
          3,
          2,
          2,
          3,
          3,
          3,
          3,
          1,
          1,
          1,
          3,
          3,
          3,
          1,
          2,
          1,
          2,
          2,
          1,
          1,
          2,
          2,
          3,
          3,
          2,
          1,
          1,
          1,
          3,
          3,
          2,
          3,
          1,
          1,
          3,
          3,
          3,
          1,
          3,
          2,
          1,
          3,
          2,
          1,
          1,
          1,
          3,
          2,
          2,
          2,
          1,
          3,
          3,
          2,
          3,
          2,
          1,
          3,
          2,
          3,
          1,
          3,
          3,
          3,
          2,
          3,
          3,
          3,
          1,
          2,
          3,
          3,
          3,
          1,
          3,
          3,
          1,
          3,
          2,
          1,
          1,
          1,
          2,
          2,
          2,
          3,
          3,
          1,
          3,
          1,
          2,
          2,
          2,
          1,
          1,
          1,
          3,
          2,
          2,
          3,
          1,
          3,
          1,
          3,
          3,
          1,
          3,
          3,
          2,
          3,
          1,
          3,
          3,
          1,
          3,
          1,
          3,
          1,
          1,
          1,
          3,
          1,
          2,
          3,
          1,
          3,
          1,
          3,
          2,
          2,
          1,
          2,
          3,
          1,
          2,
          3,
          3,
          1,
          3
         ],
         "xaxis": "x",
         "y": [
          71.2833,
          7.925,
          53.1,
          11.1333,
          30.0708,
          16.7,
          26.55,
          7.8542,
          16,
          18,
          7.225,
          8.0292,
          21.075,
          31.3875,
          7.8792,
          146.5208,
          7.75,
          18,
          11.2417,
          9.475,
          21,
          41.5792,
          7.8792,
          7.75,
          17.8,
          76.7292,
          26,
          10.5,
          27.75,
          80,
          10.5,
          7.925,
          46.9,
          12.475,
          7.7875,
          10.5,
          15.85,
          263,
          23,
          7.8958,
          7.65,
          24.15,
          14.4542,
          9.825,
          14.4583,
          31.275,
          13,
          22.3583,
          14.5,
          26,
          26.2833,
          15.2458,
          7.75,
          15.85,
          34.375,
          66.6,
          7.7333,
          15.75,
          55,
          27.9,
          11.1333,
          28.7125,
          69.55,
          22.025,
          15.5,
          13,
          7.8542,
          27.7208,
          146.5208,
          7.75,
          13,
          10.4625,
          7.75,
          21,
          113.275,
          7.925,
          76.2917,
          25.4667,
          83.475,
          31.3875,
          7.55,
          26.25,
          14.4542,
          15.5,
          7.775,
          14.5,
          10.4625,
          20.2125,
          15.2458,
          79.2,
          86.5,
          512.3292,
          26,
          7.75,
          153.4625,
          135.6333,
          19.5,
          7.75,
          77.9583,
          7.75,
          20.25,
          7.75,
          78.85,
          91.0792,
          8.85,
          151.55,
          247.5208,
          7.75,
          12.35,
          110.8833,
          108.9,
          56.9292,
          83.1583,
          262.375,
          26,
          7.8542,
          26,
          164.8667,
          134.5,
          12.35,
          29,
          135.6333,
          13,
          20.525,
          57.9792,
          23.25,
          133.65,
          134.5,
          263,
          13,
          13,
          16.1,
          55,
          13,
          7.8792,
          7.8792,
          14.4542,
          75.25,
          7.2292,
          7.75,
          69.3,
          21.075,
          82.1708,
          7.25,
          227.525,
          15.7417,
          52,
          13,
          12,
          113.275,
          16.7,
          7.8542,
          12.65,
          9.825,
          8.6625,
          25.4667,
          90,
          8.05,
          32.5,
          13,
          24.15,
          14.4,
          26,
          26,
          16.1,
          26,
          120,
          34.375,
          18.75,
          26.25,
          13,
          19.5,
          19.2583,
          51.8625,
          10.5,
          19.2583,
          27.75,
          13.7917,
          9.8375,
          12.2875,
          9.5875,
          25.4667,
          90,
          78.2667,
          151.55,
          7.75,
          7.6292,
          9.5875,
          86.5,
          26,
          59.4,
          10.5,
          26,
          93.5,
          57.9792,
          10.5,
          26,
          22.3583,
          8.6625,
          26.25,
          106.425,
          49.5,
          71,
          31.275,
          31.275,
          26,
          7.775,
          39.6,
          79.65,
          17.4,
          8.05,
          21.075,
          51.4792,
          7.75,
          13,
          55.9,
          14.4583,
          30,
          110.8833,
          79.65,
          78.2667,
          7.75,
          33,
          27,
          41.5792,
          153.4625,
          31.275,
          15.5,
          65,
          16.1,
          39,
          77.9583,
          27.9,
          13,
          39.6875,
          69.3,
          27.9,
          19.2583,
          7.55,
          23,
          7.8292,
          6.75,
          15.5,
          52,
          39,
          9.8417,
          46.9,
          8.1375,
          211.3375,
          13.4167,
          7.7333,
          227.525,
          14.4542,
          13.5,
          151.55,
          49.5042,
          227.525,
          10.5,
          33,
          21,
          7.7375,
          7.925,
          211.3375,
          34.375,
          262.375,
          13,
          23,
          65,
          86.5,
          120,
          77.9583,
          7.75,
          10.5,
          23,
          12.475,
          211.3375,
          7.2292,
          57,
          7.4958,
          69.55,
          25.9292,
          8.6833,
          24.15,
          26.25,
          7.775,
          53.1,
          31.275,
          7.925,
          93.5,
          12.475,
          80,
          14.4542,
          83.1583,
          31,
          89.1042,
          15.2458,
          39.4,
          26,
          9.35,
          164.8667,
          19.2583,
          25.9292,
          69.55,
          13,
          13.8583,
          52.5542,
          24,
          7.225,
          83.1583,
          26,
          10.5167,
          29.125,
          30,
          23.45
         ],
         "yaxis": "y"
        }
       ],
       "layout": {
        "legend": {
         "title": {
          "text": "Sex"
         },
         "tracegroupgap": 0
        },
        "margin": {
         "t": 60
        },
        "template": {
         "data": {
          "bar": [
           {
            "error_x": {
             "color": "#2a3f5f"
            },
            "error_y": {
             "color": "#2a3f5f"
            },
            "marker": {
             "line": {
              "color": "#E5ECF6",
              "width": 0.5
             },
             "pattern": {
              "fillmode": "overlay",
              "size": 10,
              "solidity": 0.2
             }
            },
            "type": "bar"
           }
          ],
          "barpolar": [
           {
            "marker": {
             "line": {
              "color": "#E5ECF6",
              "width": 0.5
             },
             "pattern": {
              "fillmode": "overlay",
              "size": 10,
              "solidity": 0.2
             }
            },
            "type": "barpolar"
           }
          ],
          "carpet": [
           {
            "aaxis": {
             "endlinecolor": "#2a3f5f",
             "gridcolor": "white",
             "linecolor": "white",
             "minorgridcolor": "white",
             "startlinecolor": "#2a3f5f"
            },
            "baxis": {
             "endlinecolor": "#2a3f5f",
             "gridcolor": "white",
             "linecolor": "white",
             "minorgridcolor": "white",
             "startlinecolor": "#2a3f5f"
            },
            "type": "carpet"
           }
          ],
          "choropleth": [
           {
            "colorbar": {
             "outlinewidth": 0,
             "ticks": ""
            },
            "type": "choropleth"
           }
          ],
          "contour": [
           {
            "colorbar": {
             "outlinewidth": 0,
             "ticks": ""
            },
            "colorscale": [
             [
              0,
              "#0d0887"
             ],
             [
              0.1111111111111111,
              "#46039f"
             ],
             [
              0.2222222222222222,
              "#7201a8"
             ],
             [
              0.3333333333333333,
              "#9c179e"
             ],
             [
              0.4444444444444444,
              "#bd3786"
             ],
             [
              0.5555555555555556,
              "#d8576b"
             ],
             [
              0.6666666666666666,
              "#ed7953"
             ],
             [
              0.7777777777777778,
              "#fb9f3a"
             ],
             [
              0.8888888888888888,
              "#fdca26"
             ],
             [
              1,
              "#f0f921"
             ]
            ],
            "type": "contour"
           }
          ],
          "contourcarpet": [
           {
            "colorbar": {
             "outlinewidth": 0,
             "ticks": ""
            },
            "type": "contourcarpet"
           }
          ],
          "heatmap": [
           {
            "colorbar": {
             "outlinewidth": 0,
             "ticks": ""
            },
            "colorscale": [
             [
              0,
              "#0d0887"
             ],
             [
              0.1111111111111111,
              "#46039f"
             ],
             [
              0.2222222222222222,
              "#7201a8"
             ],
             [
              0.3333333333333333,
              "#9c179e"
             ],
             [
              0.4444444444444444,
              "#bd3786"
             ],
             [
              0.5555555555555556,
              "#d8576b"
             ],
             [
              0.6666666666666666,
              "#ed7953"
             ],
             [
              0.7777777777777778,
              "#fb9f3a"
             ],
             [
              0.8888888888888888,
              "#fdca26"
             ],
             [
              1,
              "#f0f921"
             ]
            ],
            "type": "heatmap"
           }
          ],
          "heatmapgl": [
           {
            "colorbar": {
             "outlinewidth": 0,
             "ticks": ""
            },
            "colorscale": [
             [
              0,
              "#0d0887"
             ],
             [
              0.1111111111111111,
              "#46039f"
             ],
             [
              0.2222222222222222,
              "#7201a8"
             ],
             [
              0.3333333333333333,
              "#9c179e"
             ],
             [
              0.4444444444444444,
              "#bd3786"
             ],
             [
              0.5555555555555556,
              "#d8576b"
             ],
             [
              0.6666666666666666,
              "#ed7953"
             ],
             [
              0.7777777777777778,
              "#fb9f3a"
             ],
             [
              0.8888888888888888,
              "#fdca26"
             ],
             [
              1,
              "#f0f921"
             ]
            ],
            "type": "heatmapgl"
           }
          ],
          "histogram": [
           {
            "marker": {
             "pattern": {
              "fillmode": "overlay",
              "size": 10,
              "solidity": 0.2
             }
            },
            "type": "histogram"
           }
          ],
          "histogram2d": [
           {
            "colorbar": {
             "outlinewidth": 0,
             "ticks": ""
            },
            "colorscale": [
             [
              0,
              "#0d0887"
             ],
             [
              0.1111111111111111,
              "#46039f"
             ],
             [
              0.2222222222222222,
              "#7201a8"
             ],
             [
              0.3333333333333333,
              "#9c179e"
             ],
             [
              0.4444444444444444,
              "#bd3786"
             ],
             [
              0.5555555555555556,
              "#d8576b"
             ],
             [
              0.6666666666666666,
              "#ed7953"
             ],
             [
              0.7777777777777778,
              "#fb9f3a"
             ],
             [
              0.8888888888888888,
              "#fdca26"
             ],
             [
              1,
              "#f0f921"
             ]
            ],
            "type": "histogram2d"
           }
          ],
          "histogram2dcontour": [
           {
            "colorbar": {
             "outlinewidth": 0,
             "ticks": ""
            },
            "colorscale": [
             [
              0,
              "#0d0887"
             ],
             [
              0.1111111111111111,
              "#46039f"
             ],
             [
              0.2222222222222222,
              "#7201a8"
             ],
             [
              0.3333333333333333,
              "#9c179e"
             ],
             [
              0.4444444444444444,
              "#bd3786"
             ],
             [
              0.5555555555555556,
              "#d8576b"
             ],
             [
              0.6666666666666666,
              "#ed7953"
             ],
             [
              0.7777777777777778,
              "#fb9f3a"
             ],
             [
              0.8888888888888888,
              "#fdca26"
             ],
             [
              1,
              "#f0f921"
             ]
            ],
            "type": "histogram2dcontour"
           }
          ],
          "mesh3d": [
           {
            "colorbar": {
             "outlinewidth": 0,
             "ticks": ""
            },
            "type": "mesh3d"
           }
          ],
          "parcoords": [
           {
            "line": {
             "colorbar": {
              "outlinewidth": 0,
              "ticks": ""
             }
            },
            "type": "parcoords"
           }
          ],
          "pie": [
           {
            "automargin": true,
            "type": "pie"
           }
          ],
          "scatter": [
           {
            "fillpattern": {
             "fillmode": "overlay",
             "size": 10,
             "solidity": 0.2
            },
            "type": "scatter"
           }
          ],
          "scatter3d": [
           {
            "line": {
             "colorbar": {
              "outlinewidth": 0,
              "ticks": ""
             }
            },
            "marker": {
             "colorbar": {
              "outlinewidth": 0,
              "ticks": ""
             }
            },
            "type": "scatter3d"
           }
          ],
          "scattercarpet": [
           {
            "marker": {
             "colorbar": {
              "outlinewidth": 0,
              "ticks": ""
             }
            },
            "type": "scattercarpet"
           }
          ],
          "scattergeo": [
           {
            "marker": {
             "colorbar": {
              "outlinewidth": 0,
              "ticks": ""
             }
            },
            "type": "scattergeo"
           }
          ],
          "scattergl": [
           {
            "marker": {
             "colorbar": {
              "outlinewidth": 0,
              "ticks": ""
             }
            },
            "type": "scattergl"
           }
          ],
          "scattermapbox": [
           {
            "marker": {
             "colorbar": {
              "outlinewidth": 0,
              "ticks": ""
             }
            },
            "type": "scattermapbox"
           }
          ],
          "scatterpolar": [
           {
            "marker": {
             "colorbar": {
              "outlinewidth": 0,
              "ticks": ""
             }
            },
            "type": "scatterpolar"
           }
          ],
          "scatterpolargl": [
           {
            "marker": {
             "colorbar": {
              "outlinewidth": 0,
              "ticks": ""
             }
            },
            "type": "scatterpolargl"
           }
          ],
          "scatterternary": [
           {
            "marker": {
             "colorbar": {
              "outlinewidth": 0,
              "ticks": ""
             }
            },
            "type": "scatterternary"
           }
          ],
          "surface": [
           {
            "colorbar": {
             "outlinewidth": 0,
             "ticks": ""
            },
            "colorscale": [
             [
              0,
              "#0d0887"
             ],
             [
              0.1111111111111111,
              "#46039f"
             ],
             [
              0.2222222222222222,
              "#7201a8"
             ],
             [
              0.3333333333333333,
              "#9c179e"
             ],
             [
              0.4444444444444444,
              "#bd3786"
             ],
             [
              0.5555555555555556,
              "#d8576b"
             ],
             [
              0.6666666666666666,
              "#ed7953"
             ],
             [
              0.7777777777777778,
              "#fb9f3a"
             ],
             [
              0.8888888888888888,
              "#fdca26"
             ],
             [
              1,
              "#f0f921"
             ]
            ],
            "type": "surface"
           }
          ],
          "table": [
           {
            "cells": {
             "fill": {
              "color": "#EBF0F8"
             },
             "line": {
              "color": "white"
             }
            },
            "header": {
             "fill": {
              "color": "#C8D4E3"
             },
             "line": {
              "color": "white"
             }
            },
            "type": "table"
           }
          ]
         },
         "layout": {
          "annotationdefaults": {
           "arrowcolor": "#2a3f5f",
           "arrowhead": 0,
           "arrowwidth": 1
          },
          "autotypenumbers": "strict",
          "coloraxis": {
           "colorbar": {
            "outlinewidth": 0,
            "ticks": ""
           }
          },
          "colorscale": {
           "diverging": [
            [
             0,
             "#8e0152"
            ],
            [
             0.1,
             "#c51b7d"
            ],
            [
             0.2,
             "#de77ae"
            ],
            [
             0.3,
             "#f1b6da"
            ],
            [
             0.4,
             "#fde0ef"
            ],
            [
             0.5,
             "#f7f7f7"
            ],
            [
             0.6,
             "#e6f5d0"
            ],
            [
             0.7,
             "#b8e186"
            ],
            [
             0.8,
             "#7fbc41"
            ],
            [
             0.9,
             "#4d9221"
            ],
            [
             1,
             "#276419"
            ]
           ],
           "sequential": [
            [
             0,
             "#0d0887"
            ],
            [
             0.1111111111111111,
             "#46039f"
            ],
            [
             0.2222222222222222,
             "#7201a8"
            ],
            [
             0.3333333333333333,
             "#9c179e"
            ],
            [
             0.4444444444444444,
             "#bd3786"
            ],
            [
             0.5555555555555556,
             "#d8576b"
            ],
            [
             0.6666666666666666,
             "#ed7953"
            ],
            [
             0.7777777777777778,
             "#fb9f3a"
            ],
            [
             0.8888888888888888,
             "#fdca26"
            ],
            [
             1,
             "#f0f921"
            ]
           ],
           "sequentialminus": [
            [
             0,
             "#0d0887"
            ],
            [
             0.1111111111111111,
             "#46039f"
            ],
            [
             0.2222222222222222,
             "#7201a8"
            ],
            [
             0.3333333333333333,
             "#9c179e"
            ],
            [
             0.4444444444444444,
             "#bd3786"
            ],
            [
             0.5555555555555556,
             "#d8576b"
            ],
            [
             0.6666666666666666,
             "#ed7953"
            ],
            [
             0.7777777777777778,
             "#fb9f3a"
            ],
            [
             0.8888888888888888,
             "#fdca26"
            ],
            [
             1,
             "#f0f921"
            ]
           ]
          },
          "colorway": [
           "#636efa",
           "#EF553B",
           "#00cc96",
           "#ab63fa",
           "#FFA15A",
           "#19d3f3",
           "#FF6692",
           "#B6E880",
           "#FF97FF",
           "#FECB52"
          ],
          "font": {
           "color": "#2a3f5f"
          },
          "geo": {
           "bgcolor": "white",
           "lakecolor": "white",
           "landcolor": "#E5ECF6",
           "showlakes": true,
           "showland": true,
           "subunitcolor": "white"
          },
          "hoverlabel": {
           "align": "left"
          },
          "hovermode": "closest",
          "mapbox": {
           "style": "light"
          },
          "paper_bgcolor": "white",
          "plot_bgcolor": "#E5ECF6",
          "polar": {
           "angularaxis": {
            "gridcolor": "white",
            "linecolor": "white",
            "ticks": ""
           },
           "bgcolor": "#E5ECF6",
           "radialaxis": {
            "gridcolor": "white",
            "linecolor": "white",
            "ticks": ""
           }
          },
          "scene": {
           "xaxis": {
            "backgroundcolor": "#E5ECF6",
            "gridcolor": "white",
            "gridwidth": 2,
            "linecolor": "white",
            "showbackground": true,
            "ticks": "",
            "zerolinecolor": "white"
           },
           "yaxis": {
            "backgroundcolor": "#E5ECF6",
            "gridcolor": "white",
            "gridwidth": 2,
            "linecolor": "white",
            "showbackground": true,
            "ticks": "",
            "zerolinecolor": "white"
           },
           "zaxis": {
            "backgroundcolor": "#E5ECF6",
            "gridcolor": "white",
            "gridwidth": 2,
            "linecolor": "white",
            "showbackground": true,
            "ticks": "",
            "zerolinecolor": "white"
           }
          },
          "shapedefaults": {
           "line": {
            "color": "#2a3f5f"
           }
          },
          "ternary": {
           "aaxis": {
            "gridcolor": "white",
            "linecolor": "white",
            "ticks": ""
           },
           "baxis": {
            "gridcolor": "white",
            "linecolor": "white",
            "ticks": ""
           },
           "bgcolor": "#E5ECF6",
           "caxis": {
            "gridcolor": "white",
            "linecolor": "white",
            "ticks": ""
           }
          },
          "title": {
           "x": 0.05
          },
          "xaxis": {
           "automargin": true,
           "gridcolor": "white",
           "linecolor": "white",
           "ticks": "",
           "title": {
            "standoff": 15
           },
           "zerolinecolor": "white",
           "zerolinewidth": 2
          },
          "yaxis": {
           "automargin": true,
           "gridcolor": "white",
           "linecolor": "white",
           "ticks": "",
           "title": {
            "standoff": 15
           },
           "zerolinecolor": "white",
           "zerolinewidth": 2
          }
         }
        },
        "xaxis": {
         "anchor": "y",
         "domain": [
          0,
          1
         ],
         "title": {
          "text": "Pclass"
         }
        },
        "yaxis": {
         "anchor": "x",
         "domain": [
          0,
          1
         ],
         "title": {
          "text": "Fare"
         }
        }
       }
      }
     },
     "metadata": {},
     "output_type": "display_data"
    },
    {
     "data": {
      "text/plain": [
       "' \\n1. ve 3. sınıf için en çok parayı kadınlar vermiştir.\\n\\nTüm sınıflar için en az parayı erkekler vermiştir.\\n\\nEn çok para dağılımı 0 ila 100 arasındadır.\\n\\nTabloda bazı 1. sınıfta aykırı değerler görülmektedir.\\n\\n2. ve 3. sınıfın en yüksek fiyat arasında sadece 4 birimlik fark vardır.\\n'"
      ]
     },
     "execution_count": 57,
     "metadata": {},
     "output_type": "execute_result"
    }
   ],
   "source": [
    "scatterPlot(data,\"Pclass\",\"Fare\",\"Sex\") #data, ikinci parametre x sutunundaki feature, sonraki de y sutunundaki feature.\n",
    "\n",
    "\n",
    "\n",
    "#Aşağıdaki gördüğünüz outputta Pclass -Pclass ile Fare ile arasında ilişkisinde cinsiyetlerle karşılaştırmasını gördük. \n",
    "\n",
    "\"\"\" \n",
    "1. ve 3. sınıf için en çok parayı kadınlar vermiştir.\n",
    "\n",
    "Tüm sınıflar için en az parayı erkekler vermiştir.\n",
    "\n",
    "En çok para dağılımı 0 ila 100 arasındadır.\n",
    "\n",
    "Tabloda bazı 1. sınıfta aykırı değerler görülmektedir.\n",
    "\n",
    "2. ve 3. sınıfın en yüksek fiyat arasında sadece 4 birimlik fark vardır.\n",
    "\"\"\""
   ]
  },
  {
   "cell_type": "code",
   "execution_count": 58,
   "metadata": {},
   "outputs": [
    {
     "name": "stderr",
     "output_type": "stream",
     "text": [
      "c:\\Users\\yusuf\\anaconda3\\lib\\site-packages\\seaborn\\_decorators.py:36: FutureWarning:\n",
      "\n",
      "Pass the following variable as a keyword arg: x. From version 0.12, the only valid positional argument will be `data`, and passing other arguments without an explicit keyword will result in an error or misinterpretation.\n",
      "\n"
     ]
    },
    {
     "data": {
      "image/png": "[encoded data removed]",
      "text/plain": [
       "<Figure size 1080x360 with 1 Axes>"
      ]
     },
     "metadata": {
      "needs_background": "light"
     },
     "output_type": "display_data"
    },
    {
     "name": "stderr",
     "output_type": "stream",
     "text": [
      "c:\\Users\\yusuf\\anaconda3\\lib\\site-packages\\seaborn\\_decorators.py:36: FutureWarning:\n",
      "\n",
      "Pass the following variable as a keyword arg: x. From version 0.12, the only valid positional argument will be `data`, and passing other arguments without an explicit keyword will result in an error or misinterpretation.\n",
      "\n"
     ]
    },
    {
     "data": {
      "image/png": "[encoded data removed]",
      "text/plain": [
       "<Figure size 1080x360 with 1 Axes>"
      ]
     },
     "metadata": {
      "needs_background": "light"
     },
     "output_type": "display_data"
    },
    {
     "data": {
      "text/plain": [
       "\"\\nFare (ücret) de görüldüğü üzere 0'a çok yakın bir yerde oldukça çok para dağılımı 0 ila 100 arasında\\nama sağ tarafta olduğu için eğik negatif ve medyanı 100 arasında ve aykırı değerlerimiz 200 sonrası için bakabiliriz.\\n\\n\\nAge(yaş) ise aykırı değerlerimiz oldukça az ve normal bir dağılıma sahip modumuz 30 kusuratlı yaşlar olabilir. 65'ten sonrası \\nbizim için aykırı değer. Ancak unutmamamız gerekiyor ki yaş değerlerimizin %20'si boş. Ancak verilerimiz oldukça iyi dağıldığı için ortalama ile doldurulabilir.\\n\\n\\n\\n\""
      ]
     },
     "execution_count": 58,
     "metadata": {},
     "output_type": "execute_result"
    }
   ],
   "source": [
    "sutunlarimiz=[\"Fare\",\"Age\"]\n",
    "\n",
    "\n",
    "for i in sutunlarimiz:\n",
    "    boxPlot(data,i)\n",
    "\n",
    "\n",
    "\n",
    "\"\"\"\n",
    "Fare (ücret) de görüldüğü üzere 0'a çok yakın bir yerde oldukça çok para dağılımı 0 ila 100 arasında\n",
    "ama sağ tarafta olduğu için eğik negatif ve medyanı 100 arasında ve aykırı değerlerimiz 200 sonrası için bakabiliriz.\n",
    "\n",
    "\n",
    "Age(yaş) ise aykırı değerlerimiz oldukça az ve normal bir dağılıma sahip modumuz 30 kusuratlı yaşlar olabilir. 65'ten sonrası \n",
    "bizim için aykırı değer. Ancak unutmamamız gerekiyor ki yaş değerlerimizin %20'si boş. Ancak verilerimiz oldukça iyi dağıldığı için ortalama ile doldurulabilir.\n",
    "\n",
    "\n",
    "\n",
    "\"\"\""
   ]
  },
  {
   "cell_type": "markdown",
   "metadata": {},
   "source": [
    "Bazı sutunların bazı sutunlarla ilişkilerine bakalım."
   ]
  },
  {
   "cell_type": "code",
   "execution_count": 59,
   "metadata": {},
   "outputs": [
    {
     "name": "stderr",
     "output_type": "stream",
     "text": [
      "c:\\Users\\yusuf\\anaconda3\\lib\\site-packages\\seaborn\\distributions.py:2557: FutureWarning:\n",
      "\n",
      "`distplot` is a deprecated function and will be removed in a future version. Please adapt your code to use either `displot` (a figure-level function with similar flexibility) or `histplot` (an axes-level function for histograms).\n",
      "\n",
      "c:\\Users\\yusuf\\anaconda3\\lib\\site-packages\\seaborn\\distributions.py:2557: FutureWarning:\n",
      "\n",
      "`distplot` is a deprecated function and will be removed in a future version. Please adapt your code to use either `displot` (a figure-level function with similar flexibility) or `histplot` (an axes-level function for histograms).\n",
      "\n",
      "c:\\Users\\yusuf\\anaconda3\\lib\\site-packages\\seaborn\\distributions.py:2557: FutureWarning:\n",
      "\n",
      "`distplot` is a deprecated function and will be removed in a future version. Please adapt your code to use either `displot` (a figure-level function with similar flexibility) or `histplot` (an axes-level function for histograms).\n",
      "\n",
      "c:\\Users\\yusuf\\anaconda3\\lib\\site-packages\\seaborn\\distributions.py:2557: FutureWarning:\n",
      "\n",
      "`distplot` is a deprecated function and will be removed in a future version. Please adapt your code to use either `displot` (a figure-level function with similar flexibility) or `histplot` (an axes-level function for histograms).\n",
      "\n",
      "c:\\Users\\yusuf\\anaconda3\\lib\\site-packages\\seaborn\\distributions.py:2557: FutureWarning:\n",
      "\n",
      "`distplot` is a deprecated function and will be removed in a future version. Please adapt your code to use either `displot` (a figure-level function with similar flexibility) or `histplot` (an axes-level function for histograms).\n",
      "\n",
      "c:\\Users\\yusuf\\anaconda3\\lib\\site-packages\\seaborn\\distributions.py:2557: FutureWarning:\n",
      "\n",
      "`distplot` is a deprecated function and will be removed in a future version. Please adapt your code to use either `displot` (a figure-level function with similar flexibility) or `histplot` (an axes-level function for histograms).\n",
      "\n"
     ]
    },
    {
     "data": {
      "text/plain": [
       "<seaborn.axisgrid.FacetGrid at 0x20e08d988e0>"
      ]
     },
     "execution_count": 59,
     "metadata": {},
     "output_type": "execute_result"
    },
    {
     "data": {
      "image/png": "[encoded data removed]",
      "text/plain": [
       "<Figure size 648x432 with 6 Axes>"
      ]
     },
     "metadata": {
      "needs_background": "light"
     },
     "output_type": "display_data"
    }
   ],
   "source": [
    "g=sns.FacetGrid(data,row=\"Survived\",col=\"Pclass\") \n",
    "g.map(sns.distplot,\"Age\") #yukarıdan sonra hangisiyle birlikte göstermek istiyorsan onu yazıyoruz."
   ]
  },
  {
   "cell_type": "markdown",
   "metadata": {},
   "source": [
    "Yukarıdaki grafikte:\n",
    "Yaşayanlar arasında Survived =1 arasında, yaşayanların çoğu 25 yaşını geçmiş kişiler olurken \n",
    "\n",
    "Ölenler arasında yani Survived=0 arasında, PClass2 ve Pclass 3 ölenlerin çoğu 25 ve 25 küçük kişiler çoğunluğu oluşturuyor."
   ]
  },
  {
   "cell_type": "markdown",
   "metadata": {},
   "source": [
    "0 ila 1'lerden kaç tane var olduğuna bakma"
   ]
  },
  {
   "cell_type": "code",
   "execution_count": 60,
   "metadata": {},
   "outputs": [
    {
     "data": {
      "image/png": "[encoded data removed]",
      "text/plain": [
       "<Figure size 432x288 with 1 Axes>"
      ]
     },
     "metadata": {
      "needs_background": "light"
     },
     "output_type": "display_data"
    },
    {
     "name": "stdout",
     "output_type": "stream",
     "text": [
      "Survived\n",
      "0    549\n",
      "1    342\n",
      "dtype: int64\n"
     ]
    }
   ],
   "source": [
    "CountPlot(data,\"Survived\")\n",
    "\n",
    "\n",
    "\n",
    "#Target değişkenimde fark oldukça görülüyor. \n",
    "#Bu başarımı etkileyebilecek bir durum, belki de overfitting durumu var."
   ]
  },
  {
   "cell_type": "code",
   "execution_count": 61,
   "metadata": {},
   "outputs": [
    {
     "name": "stdout",
     "output_type": "stream",
     "text": [
      "                          Fare\n",
      "Embarked Sex    Age           \n",
      "C        female 0.75   19.2583\n",
      "                1.00   15.7417\n",
      "                3.00   41.5792\n",
      "                4.00   13.4167\n",
      "                5.00   19.2583\n",
      "...                        ...\n",
      "S        male   65.00  26.5500\n",
      "                66.00  10.5000\n",
      "                70.00  40.7500\n",
      "                74.00   7.7750\n",
      "                80.00  30.0000\n",
      "\n",
      "[236 rows x 1 columns]\n"
     ]
    }
   ],
   "source": [
    "YasCinsiyetBiniseFiyatOrtalaması(data,\"Embarked\",\"Sex\",\"Age\",\"mean\")\n",
    "\n",
    "\n",
    "#BU VERİ İÇİN : Binis=\"Embarked\" yazılmalı Cinsiyet=\"Sex\" yazılmalı Yas=\"Age\" yazılmalı method=\"mean\",\"max\",\"min\",\"75%\" şeklinde ifadeler yazılabili"
   ]
  },
  {
   "cell_type": "markdown",
   "metadata": {},
   "source": [
    "### Titanic Veriseti Temizleme ve DOLDURMA "
   ]
  },
  {
   "cell_type": "code",
   "execution_count": 62,
   "metadata": {},
   "outputs": [
    {
     "name": "stdout",
     "output_type": "stream",
     "text": [
      "boş değerler:\n",
      " PassengerId      0\n",
      "Survived         0\n",
      "Pclass           0\n",
      "Name             0\n",
      "Sex              0\n",
      "Age            177\n",
      "SibSp            0\n",
      "Parch            0\n",
      "Ticket           0\n",
      "Fare             0\n",
      "Cabin          687\n",
      "Embarked         2\n",
      "dtype: int64\n",
      "boş değerlerin tüm değerlere oranı : \n",
      " PassengerId    0.000000\n",
      "Survived       0.000000\n",
      "Pclass         0.000000\n",
      "Name           0.000000\n",
      "Sex            0.000000\n",
      "Age            0.198653\n",
      "SibSp          0.000000\n",
      "Parch          0.000000\n",
      "Ticket         0.000000\n",
      "Fare           0.000000\n",
      "Cabin          0.771044\n",
      "Embarked       0.002245\n",
      "dtype: float64  \n"
     ]
    }
   ],
   "source": [
    "null_function(data=data)\n",
    "\n",
    "\n",
    "#Boş değerlerin tüm oranlara oranında görüldüğü üzere Cabin oldukça fazla "
   ]
  },
  {
   "cell_type": "markdown",
   "metadata": {},
   "source": [
    "Embarked  ise 2 boş değerlerimiz var. Bu rastgele doldururum ikisine S eklicem."
   ]
  },
  {
   "cell_type": "code",
   "execution_count": 63,
   "metadata": {},
   "outputs": [
    {
     "name": "stdout",
     "output_type": "stream",
     "text": [
      "<class 'pandas.core.frame.DataFrame'>\n",
      "RangeIndex: 891 entries, 0 to 890\n",
      "Data columns (total 12 columns):\n",
      " #   Column       Non-Null Count  Dtype  \n",
      "---  ------       --------------  -----  \n",
      " 0   PassengerId  891 non-null    int64  \n",
      " 1   Survived     891 non-null    int64  \n",
      " 2   Pclass       891 non-null    int64  \n",
      " 3   Name         891 non-null    object \n",
      " 4   Sex          891 non-null    object \n",
      " 5   Age          714 non-null    float64\n",
      " 6   SibSp        891 non-null    int64  \n",
      " 7   Parch        891 non-null    int64  \n",
      " 8   Ticket       891 non-null    object \n",
      " 9   Fare         891 non-null    float64\n",
      " 10  Cabin        204 non-null    object \n",
      " 11  Embarked     891 non-null    object \n",
      "dtypes: float64(2), int64(5), object(5)\n",
      "memory usage: 83.7+ KB\n"
     ]
    }
   ],
   "source": [
    "values={\"Embarked\":\"S\"} #değerlerimi buradan belirliyorum.\n",
    "\n",
    "data.fillna(value=values,inplace=True) #inplace kalıcı olmasını sağlar\n",
    "\n",
    "\n",
    "data.info() # kontrol işlemi"
   ]
  },
  {
   "cell_type": "markdown",
   "metadata": {},
   "source": [
    "Cabin  0.771044 == %77 'si boş demektir. oldukça fazla ve kendimiz doldurursak şayet veriyi sıkıntıya sokacaktır. O yüzden çıkarmak zorunda kalacağız."
   ]
  },
  {
   "cell_type": "code",
   "execution_count": 64,
   "metadata": {},
   "outputs": [
    {
     "name": "stdout",
     "output_type": "stream",
     "text": [
      "<class 'pandas.core.frame.DataFrame'>\n",
      "RangeIndex: 891 entries, 0 to 890\n",
      "Data columns (total 11 columns):\n",
      " #   Column       Non-Null Count  Dtype  \n",
      "---  ------       --------------  -----  \n",
      " 0   PassengerId  891 non-null    int64  \n",
      " 1   Survived     891 non-null    int64  \n",
      " 2   Pclass       891 non-null    int64  \n",
      " 3   Name         891 non-null    object \n",
      " 4   Sex          891 non-null    object \n",
      " 5   Age          714 non-null    float64\n",
      " 6   SibSp        891 non-null    int64  \n",
      " 7   Parch        891 non-null    int64  \n",
      " 8   Ticket       891 non-null    object \n",
      " 9   Fare         891 non-null    float64\n",
      " 10  Embarked     891 non-null    object \n",
      "dtypes: float64(2), int64(5), object(4)\n",
      "memory usage: 76.7+ KB\n",
      "None\n"
     ]
    }
   ],
   "source": [
    "out_feature(data,\"Cabin\") # LÜTFEN 1'E BASINIZ # SUTUN OLARAK KALDIRACAKTIR.\n",
    "\n",
    "\n",
    "# gördüğünüz ise artık Cabin sutunu yok"
   ]
  },
  {
   "cell_type": "markdown",
   "metadata": {},
   "source": [
    "YAŞ İÇİN AYKIRI DEĞER ANALİZİ VE %20'lik kısmını MEDYAN ile doldurma işlemi "
   ]
  },
  {
   "cell_type": "markdown",
   "metadata": {},
   "source": [
    "Age için boxplot çizdirme"
   ]
  },
  {
   "cell_type": "code",
   "execution_count": 65,
   "metadata": {},
   "outputs": [
    {
     "data": {
      "text/plain": [
       "<bound method NDFrame.describe of 0      22.0\n",
       "1      38.0\n",
       "2      26.0\n",
       "3      35.0\n",
       "4      35.0\n",
       "       ... \n",
       "886    27.0\n",
       "887    19.0\n",
       "888     NaN\n",
       "889    26.0\n",
       "890    32.0\n",
       "Name: Age, Length: 891, dtype: float64>"
      ]
     },
     "execution_count": 65,
     "metadata": {},
     "output_type": "execute_result"
    }
   ],
   "source": [
    "data[\"Age\"].describe"
   ]
  },
  {
   "cell_type": "code",
   "execution_count": 66,
   "metadata": {},
   "outputs": [
    {
     "name": "stderr",
     "output_type": "stream",
     "text": [
      "c:\\Users\\yusuf\\anaconda3\\lib\\site-packages\\seaborn\\_decorators.py:36: FutureWarning:\n",
      "\n",
      "Pass the following variable as a keyword arg: x. From version 0.12, the only valid positional argument will be `data`, and passing other arguments without an explicit keyword will result in an error or misinterpretation.\n",
      "\n"
     ]
    },
    {
     "data": {
      "image/png": "[encoded data removed]",
      "text/plain": [
       "<Figure size 1080x360 with 1 Axes>"
      ]
     },
     "metadata": {
      "needs_background": "light"
     },
     "output_type": "display_data"
    }
   ],
   "source": [
    "boxPlot(data,\"Age\")"
   ]
  },
  {
   "cell_type": "code",
   "execution_count": 67,
   "metadata": {},
   "outputs": [
    {
     "name": "stdout",
     "output_type": "stream",
     "text": [
      "<class 'pandas.core.frame.DataFrame'>\n",
      "RangeIndex: 891 entries, 0 to 890\n",
      "Data columns (total 11 columns):\n",
      " #   Column       Non-Null Count  Dtype  \n",
      "---  ------       --------------  -----  \n",
      " 0   PassengerId  891 non-null    int64  \n",
      " 1   Survived     891 non-null    int64  \n",
      " 2   Pclass       891 non-null    int64  \n",
      " 3   Name         891 non-null    object \n",
      " 4   Sex          891 non-null    object \n",
      " 5   Age          891 non-null    float64\n",
      " 6   SibSp        891 non-null    int64  \n",
      " 7   Parch        891 non-null    int64  \n",
      " 8   Ticket       891 non-null    object \n",
      " 9   Fare         891 non-null    float64\n",
      " 10  Embarked     891 non-null    object \n",
      "dtypes: float64(2), int64(5), object(4)\n",
      "memory usage: 76.7+ KB\n",
      "None\n"
     ]
    },
    {
     "data": {
      "text/plain": [
       "\"\\nÇünkü diğer kullandığımız methodlar veriyi eğik negatif ve eğik pozitif şeklinde hale sokuyordu ve aynı aykırı değer aralıklarındaydı\\n\\nBundan dolayı median'ı tercih ettik.\\n\\n\\nbunu kodun yanında gönderdiğim sunuda da atacağım.\\n\\n\""
      ]
     },
     "execution_count": 67,
     "metadata": {},
     "output_type": "execute_result"
    }
   ],
   "source": [
    "AgeNaDoldurma(data,\"Age\",\"median\") #medyan ile tercih ettik\n",
    "\n",
    "\n",
    "\"\"\"\n",
    "Çünkü diğer kullandığımız methodlar veriyi eğik negatif ve eğik pozitif şeklinde hale sokuyordu ve aynı aykırı değer aralıklarındaydı\n",
    "\n",
    "Bundan dolayı median'ı tercih ettik.\n",
    "\n",
    "\n",
    "bunu kodun yanında gönderdiğim sunuda da atacağım.\n",
    "\n",
    "\"\"\""
   ]
  },
  {
   "cell_type": "code",
   "execution_count": 68,
   "metadata": {},
   "outputs": [
    {
     "name": "stdout",
     "output_type": "stream",
     "text": [
      "verilerimizin :  100.0 kadarı kaldı\n"
     ]
    }
   ],
   "source": [
    "AynıDegerleriBulma(data,\"Name\")\n",
    "# Tekrarlanan verileri bulmak için kullandığımız fonksiyon verimizin kaçta kaçı gittiği hakkında da bilgi veriyor.\n"
   ]
  },
  {
   "cell_type": "code",
   "execution_count": 69,
   "metadata": {},
   "outputs": [
    {
     "name": "stderr",
     "output_type": "stream",
     "text": [
      "c:\\Users\\yusuf\\anaconda3\\lib\\site-packages\\seaborn\\_decorators.py:36: FutureWarning:\n",
      "\n",
      "Pass the following variable as a keyword arg: x. From version 0.12, the only valid positional argument will be `data`, and passing other arguments without an explicit keyword will result in an error or misinterpretation.\n",
      "\n"
     ]
    },
    {
     "data": {
      "image/png": "[encoded data removed]",
      "text/plain": [
       "<Figure size 1080x360 with 1 Axes>"
      ]
     },
     "metadata": {
      "needs_background": "light"
     },
     "output_type": "display_data"
    },
    {
     "data": {
      "text/plain": [
       "'\\nAşağıdada görüldüğü üzere bazı aykırı görülüyor bununla işlemler yapmamız lazım.\\n\\n'"
      ]
     },
     "execution_count": 69,
     "metadata": {},
     "output_type": "execute_result"
    }
   ],
   "source": [
    "boxPlot(data,\"Age\")\n",
    "\n",
    "\n",
    "\"\"\"\n",
    "Aşağıdada görüldüğü üzere bazı aykırı görülüyor bununla işlemler yapmamız lazım.\n",
    "\n",
    "\"\"\""
   ]
  },
  {
   "cell_type": "markdown",
   "metadata": {},
   "source": [
    "##### Yas için Aykırı Değer analizi \n",
    "\n",
    "\n",
    "\n"
   ]
  },
  {
   "cell_type": "code",
   "execution_count": 70,
   "metadata": {},
   "outputs": [
    {
     "name": "stdout",
     "output_type": "stream",
     "text": [
      "alt sınırımız yaş için : 2.5\n",
      "üst sınırımız yaş için : 54.5\n",
      "\n",
      " [7       2.00\n",
      "11     58.00\n",
      "15     55.00\n",
      "16      2.00\n",
      "33     66.00\n",
      "       ...  \n",
      "827     1.00\n",
      "829    62.00\n",
      "831     0.83\n",
      "851    74.00\n",
      "879    56.00\n",
      "Name: Age, Length: 66, dtype: float64]\n"
     ]
    }
   ],
   "source": [
    "AykırıDegerAnalizi(data,\"Age\") #3 çeyreklik 83 seçildi çünkü 55-65 kadar kadar sürekli bir verimiz bütünlüğü var. \n",
    "\n",
    "##Length de yazdığı gibi 11 adet Aykırı değerlerimiz var. \n",
    "\n",
    "\n",
    "#alt sınır 0 ve üst sınırım 64 yaş olarak belirlenmiş.\n",
    "\n"
   ]
  },
  {
   "cell_type": "code",
   "execution_count": 71,
   "metadata": {},
   "outputs": [
    {
     "name": "stderr",
     "output_type": "stream",
     "text": [
      "c:\\Users\\yusuf\\Desktop\\GOALS\\SUBU_AI_STAJ\\MACHINE_LEARNING\\BITIRME_PROJESI_YUSUF_CIZLASMAK\\Yardım\\MyEDA.py:226: SettingWithCopyWarning:\n",
      "\n",
      "\n",
      "A value is trying to be set on a copy of a slice from a DataFrame\n",
      "\n",
      "See the caveats in the documentation: https://pandas.pydata.org/pandas-docs/stable/user_guide/indexing.html#returning-a-view-versus-a-copy\n",
      "\n",
      "c:\\Users\\yusuf\\Desktop\\GOALS\\SUBU_AI_STAJ\\MACHINE_LEARNING\\BITIRME_PROJESI_YUSUF_CIZLASMAK\\Yardım\\MyEDA.py:227: SettingWithCopyWarning:\n",
      "\n",
      "\n",
      "A value is trying to be set on a copy of a slice from a DataFrame\n",
      "\n",
      "See the caveats in the documentation: https://pandas.pydata.org/pandas-docs/stable/user_guide/indexing.html#returning-a-view-versus-a-copy\n",
      "\n"
     ]
    },
    {
     "data": {
      "text/plain": [
       "'AYKIRI DEĞER DOLDURMADA ALT SINIR VE ÜST SINIR BAZ ALINARAK DOLDURMA İŞLEMİ GERÇEKLEŞTİRİLMİŞTİR.'"
      ]
     },
     "execution_count": 71,
     "metadata": {},
     "output_type": "execute_result"
    }
   ],
   "source": [
    "AykırıDeğerleriDoldurma(data)\n",
    "\n",
    "\n",
    "\n",
    "\"\"\"AYKIRI DEĞER DOLDURMADA ALT SINIR VE ÜST SINIR BAZ ALINARAK DOLDURMA İŞLEMİ GERÇEKLEŞTİRİLMİŞTİR.\"\"\"\n"
   ]
  },
  {
   "cell_type": "code",
   "execution_count": 72,
   "metadata": {},
   "outputs": [
    {
     "name": "stderr",
     "output_type": "stream",
     "text": [
      "c:\\Users\\yusuf\\anaconda3\\lib\\site-packages\\seaborn\\_decorators.py:36: FutureWarning:\n",
      "\n",
      "Pass the following variable as a keyword arg: x. From version 0.12, the only valid positional argument will be `data`, and passing other arguments without an explicit keyword will result in an error or misinterpretation.\n",
      "\n"
     ]
    },
    {
     "name": "stdout",
     "output_type": "stream",
     "text": [
      "alt sınırımız yaş için : 2.5\n",
      "üst sınırımız yaş için : 54.5\n",
      "\n",
      " [Series([], Name: Age, dtype: float64)]\n",
      "None\n"
     ]
    },
    {
     "data": {
      "image/png": "[encoded data removed]",
      "text/plain": [
       "<Figure size 1080x360 with 1 Axes>"
      ]
     },
     "metadata": {
      "needs_background": "light"
     },
     "output_type": "display_data"
    }
   ],
   "source": [
    "#CHECK İŞLEMİ\n",
    "\n",
    "print(AykırıDegerAnalizi(data,\"Age\"))\n",
    "\n",
    "boxPlot(data,\"Age\")"
   ]
  },
  {
   "cell_type": "markdown",
   "metadata": {},
   "source": [
    "\n",
    "YUKARIDAKİ AGE KOLONUNU CHECK İŞLEMİ VE AYKIRI DEĞER OLMADIĞINI GÖSTERMEK İÇİN UYGULANMIŞTIR "
   ]
  },
  {
   "cell_type": "code",
   "execution_count": 73,
   "metadata": {},
   "outputs": [
    {
     "name": "stdout",
     "output_type": "stream",
     "text": [
      "<class 'pandas.core.frame.DataFrame'>\n",
      "Int64Index: 891 entries, 0 to 890\n",
      "Data columns (total 10 columns):\n",
      " #   Column    Non-Null Count  Dtype  \n",
      "---  ------    --------------  -----  \n",
      " 0   Survived  891 non-null    int64  \n",
      " 1   Pclass    891 non-null    int64  \n",
      " 2   Name      891 non-null    object \n",
      " 3   Sex       891 non-null    object \n",
      " 4   Age       891 non-null    float64\n",
      " 5   SibSp     891 non-null    int64  \n",
      " 6   Parch     891 non-null    int64  \n",
      " 7   Ticket    891 non-null    object \n",
      " 8   Fare      891 non-null    float64\n",
      " 9   Embarked  891 non-null    object \n",
      "dtypes: float64(2), int64(4), object(4)\n",
      "memory usage: 76.6+ KB\n",
      "None\n",
      "<class 'pandas.core.frame.DataFrame'>\n",
      "Int64Index: 891 entries, 0 to 890\n",
      "Data columns (total 9 columns):\n",
      " #   Column    Non-Null Count  Dtype  \n",
      "---  ------    --------------  -----  \n",
      " 0   Survived  891 non-null    int64  \n",
      " 1   Pclass    891 non-null    int64  \n",
      " 2   Name      891 non-null    object \n",
      " 3   Sex       891 non-null    object \n",
      " 4   Age       891 non-null    float64\n",
      " 5   SibSp     891 non-null    int64  \n",
      " 6   Parch     891 non-null    int64  \n",
      " 7   Fare      891 non-null    float64\n",
      " 8   Embarked  891 non-null    object \n",
      "dtypes: float64(2), int64(4), object(3)\n",
      "memory usage: 69.6+ KB\n",
      "None\n"
     ]
    }
   ],
   "source": [
    "out_feature(data,\"PassengerId\") # 1 'e basınız\n",
    "\n",
    "data.head()\n",
    "\n",
    "# PassengerID bizim modelimiz için gereksiz bir kolon. \n",
    "\n",
    "out_feature(data,\"Ticket\") #1'e basın\n",
    "\n",
    "#burada ticket'da gereksiz bir kolon bize herhangi bir anlam ifade etmiyor.\n",
    "\n",
    "#Herhangi bir düzen sıra yok. Farklı farklı sayılardan oluşuyor. TicketID gibi. bu tarz bilgilerin model'e zarar vereceği aşikar."
   ]
  },
  {
   "cell_type": "markdown",
   "metadata": {},
   "source": [
    "### Titanic Future Engineering"
   ]
  },
  {
   "cell_type": "markdown",
   "metadata": {},
   "source": [
    "SIRADA NAME KOLONUMUZLA İLGİLİ BİR İŞLEMİMİZ VAR \n",
    ";"
   ]
  },
  {
   "cell_type": "code",
   "execution_count": 74,
   "metadata": {},
   "outputs": [
    {
     "name": "stdout",
     "output_type": "stream",
     "text": [
      "<class 'pandas.core.frame.DataFrame'>\n",
      "Int64Index: 891 entries, 0 to 890\n",
      "Data columns (total 9 columns):\n",
      " #   Column    Non-Null Count  Dtype  \n",
      "---  ------    --------------  -----  \n",
      " 0   Survived  891 non-null    int64  \n",
      " 1   Pclass    891 non-null    int64  \n",
      " 2   Sex       891 non-null    object \n",
      " 3   Age       891 non-null    float64\n",
      " 4   SibSp     891 non-null    int64  \n",
      " 5   Parch     891 non-null    int64  \n",
      " 6   Fare      891 non-null    float64\n",
      " 7   Embarked  891 non-null    object \n",
      " 8   Title     891 non-null    int64  \n",
      "dtypes: float64(2), int64(5), object(2)\n",
      "memory usage: 69.6+ KB\n",
      "None\n",
      "[1 3 2 0 4]\n"
     ]
    }
   ],
   "source": [
    "group_titles(data) #group titles işlemi Mr,Mrs. Cap, Miss gibi Ordinal değerleri KATEGORİK VERİLERİ DÖNÜŞTÜRME İŞLEMİ\n",
    "\n",
    "print(data[\"Title\"].unique()) # Title sutununda dönüştürülen kategorik verilerin kategorik değerleri ."
   ]
  },
  {
   "cell_type": "markdown",
   "metadata": {},
   "source": [
    "SIRADA CİNSİYET KOLONUMUZLA İLGİLİ BİR İŞLEMİMİZ VAR \n"
   ]
  },
  {
   "cell_type": "code",
   "execution_count": 75,
   "metadata": {},
   "outputs": [],
   "source": [
    "\"\"\" Burada cinsiyet kolonunu makinenin anlayacağı dile getirmek olacaktır.  Kadınlara 0 ve erkeklere 1 rakamını verip \"Survived\" kolonu ile corr'larına bakabilir hale gelebileceğiz artık.\"\"\"\n",
    "\n",
    "CinsiyetKolonu(data)"
   ]
  },
  {
   "cell_type": "markdown",
   "metadata": {},
   "source": [
    "DUMMY VARIABLE EKLEME (5 Tane)"
   ]
  },
  {
   "cell_type": "code",
   "execution_count": 76,
   "metadata": {},
   "outputs": [
    {
     "data": {
      "text/html": [
       "<div>\n",
       "<style scoped>\n",
       "    .dataframe tbody tr th:only-of-type {\n",
       "        vertical-align: middle;\n",
       "    }\n",
       "\n",
       "    .dataframe tbody tr th {\n",
       "        vertical-align: top;\n",
       "    }\n",
       "\n",
       "    .dataframe thead th {\n",
       "        text-align: right;\n",
       "    }\n",
       "</style>\n",
       "<table border=\"1\" class=\"dataframe\">\n",
       "  <thead>\n",
       "    <tr style=\"text-align: right;\">\n",
       "      <th></th>\n",
       "      <th>Survived</th>\n",
       "      <th>Pclass</th>\n",
       "      <th>Sex</th>\n",
       "      <th>Age</th>\n",
       "      <th>SibSp</th>\n",
       "      <th>Parch</th>\n",
       "      <th>Fare</th>\n",
       "      <th>Embarked</th>\n",
       "      <th>Title</th>\n",
       "      <th>Embarked_C</th>\n",
       "      <th>Embarked_Q</th>\n",
       "      <th>Embarked_S</th>\n",
       "      <th>Pclass_1</th>\n",
       "      <th>Pclass_2</th>\n",
       "      <th>Pclass_3</th>\n",
       "    </tr>\n",
       "  </thead>\n",
       "  <tbody>\n",
       "    <tr>\n",
       "      <th>0</th>\n",
       "      <td>0</td>\n",
       "      <td>3</td>\n",
       "      <td>1</td>\n",
       "      <td>22.0</td>\n",
       "      <td>1</td>\n",
       "      <td>0</td>\n",
       "      <td>7.2500</td>\n",
       "      <td>S</td>\n",
       "      <td>1</td>\n",
       "      <td>0</td>\n",
       "      <td>0</td>\n",
       "      <td>1</td>\n",
       "      <td>0</td>\n",
       "      <td>0</td>\n",
       "      <td>1</td>\n",
       "    </tr>\n",
       "    <tr>\n",
       "      <th>1</th>\n",
       "      <td>1</td>\n",
       "      <td>1</td>\n",
       "      <td>0</td>\n",
       "      <td>38.0</td>\n",
       "      <td>1</td>\n",
       "      <td>0</td>\n",
       "      <td>71.2833</td>\n",
       "      <td>C</td>\n",
       "      <td>3</td>\n",
       "      <td>1</td>\n",
       "      <td>0</td>\n",
       "      <td>0</td>\n",
       "      <td>1</td>\n",
       "      <td>0</td>\n",
       "      <td>0</td>\n",
       "    </tr>\n",
       "    <tr>\n",
       "      <th>2</th>\n",
       "      <td>1</td>\n",
       "      <td>3</td>\n",
       "      <td>0</td>\n",
       "      <td>26.0</td>\n",
       "      <td>0</td>\n",
       "      <td>0</td>\n",
       "      <td>7.9250</td>\n",
       "      <td>S</td>\n",
       "      <td>2</td>\n",
       "      <td>0</td>\n",
       "      <td>0</td>\n",
       "      <td>1</td>\n",
       "      <td>0</td>\n",
       "      <td>0</td>\n",
       "      <td>1</td>\n",
       "    </tr>\n",
       "    <tr>\n",
       "      <th>3</th>\n",
       "      <td>1</td>\n",
       "      <td>1</td>\n",
       "      <td>0</td>\n",
       "      <td>35.0</td>\n",
       "      <td>1</td>\n",
       "      <td>0</td>\n",
       "      <td>53.1000</td>\n",
       "      <td>S</td>\n",
       "      <td>3</td>\n",
       "      <td>0</td>\n",
       "      <td>0</td>\n",
       "      <td>1</td>\n",
       "      <td>1</td>\n",
       "      <td>0</td>\n",
       "      <td>0</td>\n",
       "    </tr>\n",
       "    <tr>\n",
       "      <th>4</th>\n",
       "      <td>0</td>\n",
       "      <td>3</td>\n",
       "      <td>1</td>\n",
       "      <td>35.0</td>\n",
       "      <td>0</td>\n",
       "      <td>0</td>\n",
       "      <td>8.0500</td>\n",
       "      <td>S</td>\n",
       "      <td>1</td>\n",
       "      <td>0</td>\n",
       "      <td>0</td>\n",
       "      <td>1</td>\n",
       "      <td>0</td>\n",
       "      <td>0</td>\n",
       "      <td>1</td>\n",
       "    </tr>\n",
       "    <tr>\n",
       "      <th>...</th>\n",
       "      <td>...</td>\n",
       "      <td>...</td>\n",
       "      <td>...</td>\n",
       "      <td>...</td>\n",
       "      <td>...</td>\n",
       "      <td>...</td>\n",
       "      <td>...</td>\n",
       "      <td>...</td>\n",
       "      <td>...</td>\n",
       "      <td>...</td>\n",
       "      <td>...</td>\n",
       "      <td>...</td>\n",
       "      <td>...</td>\n",
       "      <td>...</td>\n",
       "      <td>...</td>\n",
       "    </tr>\n",
       "    <tr>\n",
       "      <th>886</th>\n",
       "      <td>0</td>\n",
       "      <td>2</td>\n",
       "      <td>1</td>\n",
       "      <td>27.0</td>\n",
       "      <td>0</td>\n",
       "      <td>0</td>\n",
       "      <td>13.0000</td>\n",
       "      <td>S</td>\n",
       "      <td>4</td>\n",
       "      <td>0</td>\n",
       "      <td>0</td>\n",
       "      <td>1</td>\n",
       "      <td>0</td>\n",
       "      <td>1</td>\n",
       "      <td>0</td>\n",
       "    </tr>\n",
       "    <tr>\n",
       "      <th>887</th>\n",
       "      <td>1</td>\n",
       "      <td>1</td>\n",
       "      <td>0</td>\n",
       "      <td>19.0</td>\n",
       "      <td>0</td>\n",
       "      <td>0</td>\n",
       "      <td>30.0000</td>\n",
       "      <td>S</td>\n",
       "      <td>2</td>\n",
       "      <td>0</td>\n",
       "      <td>0</td>\n",
       "      <td>1</td>\n",
       "      <td>1</td>\n",
       "      <td>0</td>\n",
       "      <td>0</td>\n",
       "    </tr>\n",
       "    <tr>\n",
       "      <th>888</th>\n",
       "      <td>0</td>\n",
       "      <td>3</td>\n",
       "      <td>0</td>\n",
       "      <td>28.0</td>\n",
       "      <td>1</td>\n",
       "      <td>2</td>\n",
       "      <td>23.4500</td>\n",
       "      <td>S</td>\n",
       "      <td>2</td>\n",
       "      <td>0</td>\n",
       "      <td>0</td>\n",
       "      <td>1</td>\n",
       "      <td>0</td>\n",
       "      <td>0</td>\n",
       "      <td>1</td>\n",
       "    </tr>\n",
       "    <tr>\n",
       "      <th>889</th>\n",
       "      <td>1</td>\n",
       "      <td>1</td>\n",
       "      <td>1</td>\n",
       "      <td>26.0</td>\n",
       "      <td>0</td>\n",
       "      <td>0</td>\n",
       "      <td>30.0000</td>\n",
       "      <td>C</td>\n",
       "      <td>1</td>\n",
       "      <td>1</td>\n",
       "      <td>0</td>\n",
       "      <td>0</td>\n",
       "      <td>1</td>\n",
       "      <td>0</td>\n",
       "      <td>0</td>\n",
       "    </tr>\n",
       "    <tr>\n",
       "      <th>890</th>\n",
       "      <td>0</td>\n",
       "      <td>3</td>\n",
       "      <td>1</td>\n",
       "      <td>32.0</td>\n",
       "      <td>0</td>\n",
       "      <td>0</td>\n",
       "      <td>7.7500</td>\n",
       "      <td>Q</td>\n",
       "      <td>1</td>\n",
       "      <td>0</td>\n",
       "      <td>1</td>\n",
       "      <td>0</td>\n",
       "      <td>0</td>\n",
       "      <td>0</td>\n",
       "      <td>1</td>\n",
       "    </tr>\n",
       "  </tbody>\n",
       "</table>\n",
       "<p>891 rows × 15 columns</p>\n",
       "</div>"
      ],
      "text/plain": [
       "     Survived  Pclass  Sex   Age  SibSp  Parch     Fare Embarked  Title  \\\n",
       "0           0       3    1  22.0      1      0   7.2500        S      1   \n",
       "1           1       1    0  38.0      1      0  71.2833        C      3   \n",
       "2           1       3    0  26.0      0      0   7.9250        S      2   \n",
       "3           1       1    0  35.0      1      0  53.1000        S      3   \n",
       "4           0       3    1  35.0      0      0   8.0500        S      1   \n",
       "..        ...     ...  ...   ...    ...    ...      ...      ...    ...   \n",
       "886         0       2    1  27.0      0      0  13.0000        S      4   \n",
       "887         1       1    0  19.0      0      0  30.0000        S      2   \n",
       "888         0       3    0  28.0      1      2  23.4500        S      2   \n",
       "889         1       1    1  26.0      0      0  30.0000        C      1   \n",
       "890         0       3    1  32.0      0      0   7.7500        Q      1   \n",
       "\n",
       "     Embarked_C  Embarked_Q  Embarked_S  Pclass_1  Pclass_2  Pclass_3  \n",
       "0             0           0           1         0         0         1  \n",
       "1             1           0           0         1         0         0  \n",
       "2             0           0           1         0         0         1  \n",
       "3             0           0           1         1         0         0  \n",
       "4             0           0           1         0         0         1  \n",
       "..          ...         ...         ...       ...       ...       ...  \n",
       "886           0           0           1         0         1         0  \n",
       "887           0           0           1         1         0         0  \n",
       "888           0           0           1         0         0         1  \n",
       "889           1           0           0         1         0         0  \n",
       "890           0           1           0         0         0         1  \n",
       "\n",
       "[891 rows x 15 columns]"
      ]
     },
     "execution_count": 76,
     "metadata": {},
     "output_type": "execute_result"
    }
   ],
   "source": [
    "#İlk olarak EMBARKED OLANLARI EKLEDİK ondan sonra Pclass için dummy variable eklicez.\n",
    "\n",
    "def AddDummyVariablesforEmbarked(data):\n",
    "    \"\"\"data=data\"\"\"\n",
    "dummies = pd.get_dummies(data.Embarked, prefix=\"Embarked\").iloc[:, 0:] #içerdiği value kadar dummy variable oluşturma işlemi\n",
    "data=pd.concat([data, dummies], axis=1,) # 1. parametrem data'nın üstüne  dummy variable eklemiş oluyoruz. axis=1 sutun olarak ekler,\n",
    "\n",
    "\n",
    "\n",
    "def AddDummyVariablesforPclass(data):\n",
    "    \"\"\"data=data\"\"\"\n",
    "dummies = pd.get_dummies(data.Pclass, prefix=\"Pclass\").iloc[:, 0:] #içerdiği value kadar dummy variable oluşturma işlemi\n",
    "data=pd.concat([data, dummies], axis=1) # 1. parametrem data'nın üstüne  dummy variable eklemiş oluyoruz. axis=1 sutun olarak ekler,\n",
    "\n",
    "\n",
    "\n",
    "AddDummyVariablesforEmbarked(data) #Embarked sutunu ile Dummy variable eklemek\n",
    "    \n",
    "\n",
    "AddDummyVariablesforPclass(data) #Pclass sutunu ile Dummy variable eklemek\n",
    "\n",
    "\n",
    "\n",
    "\n",
    "#Toplamda 6 dummy variable eklenmiştir.\n",
    "\n",
    "data"
   ]
  },
  {
   "cell_type": "markdown",
   "metadata": {},
   "source": [
    "Şimdi de Binilen Şehirler olan (Embarked) olan şehirler hakkında işlemimiz var."
   ]
  },
  {
   "cell_type": "code",
   "execution_count": 77,
   "metadata": {},
   "outputs": [],
   "source": [
    "EmbarkedtoLabelEncoding(data)\n",
    "\n",
    "\n",
    "# \"\"\"\"\n",
    "# Burada binilen şehirleri yukarıdaki değişkenimizle kategorize ediyoruz. \n",
    "# Örneğin S=1\n",
    "# C=2\n",
    "# Q=3 \n",
    "\n",
    "# şeklinde. \n",
    "# \"\"\""
   ]
  },
  {
   "cell_type": "markdown",
   "metadata": {},
   "source": [
    "Dummy Variable'lardan kurtulma"
   ]
  },
  {
   "cell_type": "code",
   "execution_count": 78,
   "metadata": {},
   "outputs": [
    {
     "data": {
      "text/html": [
       "<div>\n",
       "<style scoped>\n",
       "    .dataframe tbody tr th:only-of-type {\n",
       "        vertical-align: middle;\n",
       "    }\n",
       "\n",
       "    .dataframe tbody tr th {\n",
       "        vertical-align: top;\n",
       "    }\n",
       "\n",
       "    .dataframe thead th {\n",
       "        text-align: right;\n",
       "    }\n",
       "</style>\n",
       "<table border=\"1\" class=\"dataframe\">\n",
       "  <thead>\n",
       "    <tr style=\"text-align: right;\">\n",
       "      <th></th>\n",
       "      <th>Survived</th>\n",
       "      <th>Pclass</th>\n",
       "      <th>Sex</th>\n",
       "      <th>Age</th>\n",
       "      <th>SibSp</th>\n",
       "      <th>Parch</th>\n",
       "      <th>Fare</th>\n",
       "      <th>Embarked</th>\n",
       "      <th>Title</th>\n",
       "    </tr>\n",
       "  </thead>\n",
       "  <tbody>\n",
       "    <tr>\n",
       "      <th>0</th>\n",
       "      <td>0</td>\n",
       "      <td>3</td>\n",
       "      <td>1</td>\n",
       "      <td>22.0</td>\n",
       "      <td>1</td>\n",
       "      <td>0</td>\n",
       "      <td>7.2500</td>\n",
       "      <td>1</td>\n",
       "      <td>1</td>\n",
       "    </tr>\n",
       "    <tr>\n",
       "      <th>1</th>\n",
       "      <td>1</td>\n",
       "      <td>1</td>\n",
       "      <td>0</td>\n",
       "      <td>38.0</td>\n",
       "      <td>1</td>\n",
       "      <td>0</td>\n",
       "      <td>71.2833</td>\n",
       "      <td>2</td>\n",
       "      <td>3</td>\n",
       "    </tr>\n",
       "    <tr>\n",
       "      <th>2</th>\n",
       "      <td>1</td>\n",
       "      <td>3</td>\n",
       "      <td>0</td>\n",
       "      <td>26.0</td>\n",
       "      <td>0</td>\n",
       "      <td>0</td>\n",
       "      <td>7.9250</td>\n",
       "      <td>1</td>\n",
       "      <td>2</td>\n",
       "    </tr>\n",
       "    <tr>\n",
       "      <th>3</th>\n",
       "      <td>1</td>\n",
       "      <td>1</td>\n",
       "      <td>0</td>\n",
       "      <td>35.0</td>\n",
       "      <td>1</td>\n",
       "      <td>0</td>\n",
       "      <td>53.1000</td>\n",
       "      <td>1</td>\n",
       "      <td>3</td>\n",
       "    </tr>\n",
       "    <tr>\n",
       "      <th>4</th>\n",
       "      <td>0</td>\n",
       "      <td>3</td>\n",
       "      <td>1</td>\n",
       "      <td>35.0</td>\n",
       "      <td>0</td>\n",
       "      <td>0</td>\n",
       "      <td>8.0500</td>\n",
       "      <td>1</td>\n",
       "      <td>1</td>\n",
       "    </tr>\n",
       "  </tbody>\n",
       "</table>\n",
       "</div>"
      ],
      "text/plain": [
       "   Survived  Pclass  Sex   Age  SibSp  Parch     Fare  Embarked  Title\n",
       "0         0       3    1  22.0      1      0   7.2500         1      1\n",
       "1         1       1    0  38.0      1      0  71.2833         2      3\n",
       "2         1       3    0  26.0      0      0   7.9250         1      2\n",
       "3         1       1    0  35.0      1      0  53.1000         1      3\n",
       "4         0       3    1  35.0      0      0   8.0500         1      1"
      ]
     },
     "execution_count": 78,
     "metadata": {},
     "output_type": "execute_result"
    }
   ],
   "source": [
    "data_prepared=data.iloc[:,0:9] # DUMMY VARIBABLE'ları almıyoruz\n",
    "data_prepared.head() # Gösterme işlemi"
   ]
  },
  {
   "cell_type": "markdown",
   "metadata": {},
   "source": [
    "Artık TÜM KOLONLARIMIZI MODELİN ANLAYACAĞI (dtype'ı object olmayan) tipe getirdik ve bunların Korelasyonda gösterelim."
   ]
  },
  {
   "cell_type": "code",
   "execution_count": 79,
   "metadata": {},
   "outputs": [
    {
     "data": {
      "image/png": "[encoded data removed]",
      "text/plain": [
       "<Figure size 1152x432 with 2 Axes>"
      ]
     },
     "metadata": {
      "needs_background": "light"
     },
     "output_type": "display_data"
    },
    {
     "data": {
      "text/plain": [
       "'\"\\nKorelasyon Analizi:\\n\\n\\nPOSITIVE KORELASYON :\\n-İlk dikkat edilmesi gereken nokta Survived ile olan ilişkileri:\\n-Title\\'ın 0.4 ile positive ilişkisi dikkat çekiyor.\\n\\n-Diğerleri arasında (Sibling-Sister) veya Parents-Child kolonları arasındaki ilişkisi de dikkat çekiyor. Gemide oldukça çok aile varmış diyebiliriz.\\n\\n\\n\\nNEGATIVE KORELASYON:\\nİlk dikkat edilmesi gereken nokta Survived ile olan ilişkileri:\\n-Cinsiyet kolonunun bir negative korelasyon değeri dikkate alınacak cinstten,\\n-Ardından ikinci sıradan Pclass olan ilişkisi geliyor -0.34 ile\\n\\n-Sex ile Title arasında -0.75 bir negative corr. var ki bu en yüksek değerimiz olabilir.\\n-Diğerleri arasında Fare ve Pclass( ödenen para ve oturma sınıfı ) arasında neg. corr oranı oldukça yüksek, ki bu da beklediğimiz bi durum,para arttıkça 1.class\\'a geçiyorlar.\\n\\n\\n'"
      ]
     },
     "execution_count": 79,
     "metadata": {},
     "output_type": "execute_result"
    }
   ],
   "source": [
    "Corr(data_prepared)\n",
    "\n",
    "\n",
    "\"\"\"\"\n",
    "Korelasyon Analizi:\n",
    "\n",
    "\n",
    "POSITIVE KORELASYON :\n",
    "-İlk dikkat edilmesi gereken nokta Survived ile olan ilişkileri:\n",
    "-Title'ın 0.4 ile positive ilişkisi dikkat çekiyor.\n",
    "\n",
    "-Diğerleri arasında (Sibling-Sister) veya Parents-Child kolonları arasındaki ilişkisi de dikkat çekiyor. Gemide oldukça çok aile varmış diyebiliriz.\n",
    "\n",
    "\n",
    "\n",
    "NEGATIVE KORELASYON:\n",
    "İlk dikkat edilmesi gereken nokta Survived ile olan ilişkileri:\n",
    "-Cinsiyet kolonunun bir negative korelasyon değeri dikkate alınacak cinstten,\n",
    "-Ardından ikinci sıradan Pclass olan ilişkisi geliyor -0.34 ile\n",
    "\n",
    "-Sex ile Title arasında -0.75 bir negative corr. var ki bu en yüksek değerimiz olabilir.\n",
    "-Diğerleri arasında Fare ve Pclass( ödenen para ve oturma sınıfı ) arasında neg. corr oranı oldukça yüksek, ki bu da beklediğimiz bi durum,para arttıkça 1.class'a geçiyorlar.\n",
    "\n",
    "\n",
    "\"\"\""
   ]
  },
  {
   "cell_type": "markdown",
   "metadata": {},
   "source": [
    "### MODEL OLUŞTURMA -GELİŞTİRME"
   ]
  },
  {
   "cell_type": "code",
   "execution_count": 80,
   "metadata": {},
   "outputs": [
    {
     "name": "stdout",
     "output_type": "stream",
     "text": [
      "Veriler eşit dağıtılmıştır.\n"
     ]
    }
   ],
   "source": [
    "y=data_prepared.iloc[:,0] #Target kolonumuz\n",
    "y\n",
    "\n",
    "x=data_prepared.iloc[:,1:] #diğer Features \n",
    "\n",
    "from sklearn.model_selection import train_test_split\n",
    "\n",
    "x_train, x_test, y_train, y_test = train_test_split(x, y, test_size=0.33, random_state=42) # Why 42 The Hitchhiker's Guide to the Galaxy\n",
    "\n",
    "esit_mi=len(x_train)/len(y_train) and len(x_test)/len(y_test) # veriler de bir sorun olup olmama durumu\n",
    "if esit_mi==1:\n",
    "    print(\"Veriler eşit dağıtılmıştır.\")\n",
    "else:\n",
    "    print(\"Veriler eşit dağıtılMAmıştır.\")\n",
    "\n"
   ]
  },
  {
   "cell_type": "markdown",
   "metadata": {},
   "source": [
    "### Normalizasyon İşlemi "
   ]
  },
  {
   "cell_type": "code",
   "execution_count": 81,
   "metadata": {},
   "outputs": [],
   "source": [
    "\n",
    "# Normalizasyonun iki temel amacı vardır.\n",
    "# \n",
    "# \n",
    "# \n",
    "#  Veri tabanında veri tekrarlarını ortadan kaldırmak ve veri tutarlılığını (doğruluğunu) artırmak. \n",
    "# Normalizasyon, veri tabanlarına seviyelerle (normal formlar) uygulanır.\n",
    "\n",
    "\n",
    "x_train,x_test=Normalizasyon(x_train,x_test)\n",
    "\n",
    "#Target kolonlarımız 0-1'lerden oluştuğu için herhangi bir normalizasyon yapmamıza gerek yok. Sadece Features'lar arasında bir normalizasyon işlemi yapacağız.\n"
   ]
  },
  {
   "cell_type": "markdown",
   "metadata": {},
   "source": [
    "İlk kullanacağımız model XGBoost olacak, Fine Tuning yapabilmek içinde GridSearch kullanacağız."
   ]
  },
  {
   "cell_type": "code",
   "execution_count": 82,
   "metadata": {},
   "outputs": [
    {
     "name": "stderr",
     "output_type": "stream",
     "text": [
      "c:\\Users\\yusuf\\anaconda3\\lib\\site-packages\\sklearn\\model_selection\\_validation.py:378: FitFailedWarning:\n",
      "\n",
      "\n",
      "3000 fits failed out of a total of 6000.\n",
      "The score on these train-test partitions for these parameters will be set to nan.\n",
      "If these failures are not expected, you can try to debug them by setting error_score='raise'.\n",
      "\n",
      "Below are more details about the failures:\n",
      "--------------------------------------------------------------------------------\n",
      "1500 fits failed with the following error:\n",
      "Traceback (most recent call last):\n",
      "  File \"c:\\Users\\yusuf\\anaconda3\\lib\\site-packages\\sklearn\\model_selection\\_validation.py\", line 686, in _fit_and_score\n",
      "    estimator.fit(X_train, y_train, **fit_params)\n",
      "  File \"c:\\Users\\yusuf\\anaconda3\\lib\\site-packages\\xgboost\\core.py\", line 532, in inner_f\n",
      "    return f(**kwargs)\n",
      "  File \"c:\\Users\\yusuf\\anaconda3\\lib\\site-packages\\xgboost\\sklearn.py\", line 1400, in fit\n",
      "    self._Booster = train(\n",
      "  File \"c:\\Users\\yusuf\\anaconda3\\lib\\site-packages\\xgboost\\core.py\", line 532, in inner_f\n",
      "    return f(**kwargs)\n",
      "  File \"c:\\Users\\yusuf\\anaconda3\\lib\\site-packages\\xgboost\\training.py\", line 181, in train\n",
      "    bst.update(dtrain, i, obj)\n",
      "  File \"c:\\Users\\yusuf\\anaconda3\\lib\\site-packages\\xgboost\\core.py\", line 1733, in update\n",
      "    _check_call(_LIB.XGBoosterUpdateOneIter(self.handle,\n",
      "  File \"c:\\Users\\yusuf\\anaconda3\\lib\\site-packages\\xgboost\\core.py\", line 203, in _check_call\n",
      "    raise XGBoostError(py_str(_LIB.XGBGetLastError()))\n",
      "xgboost.core.XGBoostError: value 1.2 for Parameter subsample exceed bound [0,1]\n",
      "subsample: Row subsample ratio of training instance.\n",
      "\n",
      "--------------------------------------------------------------------------------\n",
      "1500 fits failed with the following error:\n",
      "Traceback (most recent call last):\n",
      "  File \"c:\\Users\\yusuf\\anaconda3\\lib\\site-packages\\sklearn\\model_selection\\_validation.py\", line 686, in _fit_and_score\n",
      "    estimator.fit(X_train, y_train, **fit_params)\n",
      "  File \"c:\\Users\\yusuf\\anaconda3\\lib\\site-packages\\xgboost\\core.py\", line 532, in inner_f\n",
      "    return f(**kwargs)\n",
      "  File \"c:\\Users\\yusuf\\anaconda3\\lib\\site-packages\\xgboost\\sklearn.py\", line 1400, in fit\n",
      "    self._Booster = train(\n",
      "  File \"c:\\Users\\yusuf\\anaconda3\\lib\\site-packages\\xgboost\\core.py\", line 532, in inner_f\n",
      "    return f(**kwargs)\n",
      "  File \"c:\\Users\\yusuf\\anaconda3\\lib\\site-packages\\xgboost\\training.py\", line 181, in train\n",
      "    bst.update(dtrain, i, obj)\n",
      "  File \"c:\\Users\\yusuf\\anaconda3\\lib\\site-packages\\xgboost\\core.py\", line 1733, in update\n",
      "    _check_call(_LIB.XGBoosterUpdateOneIter(self.handle,\n",
      "  File \"c:\\Users\\yusuf\\anaconda3\\lib\\site-packages\\xgboost\\core.py\", line 203, in _check_call\n",
      "    raise XGBoostError(py_str(_LIB.XGBGetLastError()))\n",
      "xgboost.core.XGBoostError: value 1.4 for Parameter subsample exceed bound [0,1]\n",
      "subsample: Row subsample ratio of training instance.\n",
      "\n",
      "\n",
      "c:\\Users\\yusuf\\anaconda3\\lib\\site-packages\\sklearn\\model_selection\\_search.py:953: UserWarning:\n",
      "\n",
      "One or more of the test scores are non-finite: [0.80201342 0.80033557        nan ... 0.80201342        nan        nan]\n",
      "\n"
     ]
    },
    {
     "name": "stdout",
     "output_type": "stream",
     "text": [
      "En iyi skor değerimiz 0.8355704697986577\n",
      "{'gamma': 0.7, 'learning_rate': 0.01, 'max_depth': 6, 'n_estimators': 500, 'subsample': 1.0}\n"
     ]
    }
   ],
   "source": [
    "\n",
    "from sklearn.model_selection import GridSearchCV\n",
    "from sklearn.metrics import accuracy_score,confusion_matrix\n",
    "from xgboost import XGBClassifier\n",
    "\n",
    "\n",
    "\n",
    "parameters = {\n",
    "        'n_estimators': [20,50,100, 200,500],#kaç ayrı kümede inceleyeceği\n",
    "        'subsample': [0.8, 1.0,1.2,1.4], \n",
    "        'gamma' : [0,1,.7,5,7], \n",
    "        'learning_rate': [0.01,0.1, 0.3] # 1e-3 oldukça çok kullanılan bir ifade Derin öğrenme'de 1e-3=0.01 anlamına gelir.\n",
    "        ,\"max_depth\":[4,5,6,7,8]}# kaç katmanlı\n",
    "\n",
    "\n",
    "\n",
    "xgboost = XGBClassifier()\n",
    "xgboost_cv = GridSearchCV(estimator=xgboost, param_grid=parameters, cv = 4, n_jobs = -1, verbose = 0,scoring=\"accuracy\")\n",
    "\n",
    "\"\"\"\n",
    "GS parametreleri\n",
    "\n",
    "estimator: sınıflandırma algoritma( neyi optimize etmek istediğimiz)\n",
    "param_grid: parametreler(p)\n",
    "scoring: örn: accurary (neye göre skorlanacak)\n",
    "cv: kaç katlamalı olacak.\n",
    "n_jobs: aynı anda çalışacak iş \n",
    "\"\"\"\n",
    "\n",
    "\n",
    "\n",
    "xgboost_cv.fit(x_train, y_train) # x_train verileriden y_train verileri ÖĞREN işlemi\n",
    "\n",
    "best_param = xgboost_cv.best_params_ #En iyi parametreleri döndürecektir.\n",
    "\n",
    "\n",
    "BestScore=xgboost_cv.best_score_ # bu bize en yüksek accuracy döndürecek.\n",
    "\n",
    "print(f\"En iyi skor değerimiz {BestScore}\")\n",
    "print(best_param) #En iyi parametreleri döndürecektir."
   ]
  },
  {
   "cell_type": "code",
   "execution_count": 83,
   "metadata": {},
   "outputs": [
    {
     "name": "stderr",
     "output_type": "stream",
     "text": [
      "c:\\Users\\yusuf\\anaconda3\\lib\\site-packages\\xgboost\\sklearn.py:793: UserWarning:\n",
      "\n",
      "`eval_metric` in `fit` method is deprecated for better compatibility with scikit-learn, use `eval_metric` in constructor or`set_params` instead.\n",
      "\n"
     ]
    }
   ],
   "source": [
    "model_best=XGBClassifier(gamma= 0.7, learning_rate =0.01, max_depth= 6, n_estimators= 500, subsample= 1.0,seed=42)\n",
    "\n",
    "\n",
    "\n",
    "\n",
    "model_best.fit(x_train,y_train,\n",
    "                verbose=False, # yapılanları göster . Bunun isterseniz True olabilir.\n",
    "                eval_metric=\"aucpr\",\n",
    "                eval_set=[(x_test,y_test)] #validation işlemleri \n",
    "\n",
    ") # en iyi optimum parametrelerle öğrenme işlemi \n",
    "y_hat_xgboost=model_best.predict(x_test) # tahmin işlemi \n",
    "\n"
   ]
  },
  {
   "cell_type": "code",
   "execution_count": 84,
   "metadata": {},
   "outputs": [
    {
     "data": {
      "image/png": "[encoded data removed]",
      "text/plain": [
       "<Figure size 1080x720 with 2 Axes>"
      ]
     },
     "metadata": {
      "needs_background": "light"
     },
     "output_type": "display_data"
    },
    {
     "data": {
      "text/plain": [
       "'\"\\n0\\'a 0 demek (DOĞRU SINIFLANDIRMA ) = 156  #bu rakamların yüksek olması modelimizin iyi olduğunu gösterir.\\n1\\'e 1 demek (DOĞRU SINIFLANDIRMA ) = 85\\n\\n1\\'e 0 demek (FP =YANLIŞ SINIFLANDIRMA) =35 \\n0\\'a 1 demek(FN= YANLIŞ SINIFLANDIRMA ) =19  #rakamların düşük olması modelimiz için iyi \\n'"
      ]
     },
     "execution_count": 84,
     "metadata": {},
     "output_type": "execute_result"
    }
   ],
   "source": [
    "matrix_confusion(y_test,y_hat_xgboost)\n",
    "\n",
    "\"\"\"\"\n",
    "0'a 0 demek (DOĞRU SINIFLANDIRMA ) = 156  #bu rakamların yüksek olması modelimizin iyi olduğunu gösterir.\n",
    "1'e 1 demek (DOĞRU SINIFLANDIRMA ) = 85\n",
    "\n",
    "1'e 0 demek (FP =YANLIŞ SINIFLANDIRMA) =35 \n",
    "0'a 1 demek(FN= YANLIŞ SINIFLANDIRMA ) =19  #rakamların düşük olması modelimiz için iyi \n",
    "\"\"\""
   ]
  },
  {
   "cell_type": "markdown",
   "metadata": {},
   "source": [
    "\n",
    "Kesinlik (Precision) ise Positive olarak tahminlediğimiz değerlerin gerçekten kaç adedinin Positive olduğunu göstermektedir.\n",
    "\n",
    "\n",
    "\n",
    "Duyarlılık (Recall) ise Positive olarak tahmin etmemiz gereken işlemlerin ne kadarını Positive olarak tahmin ettiğimizi gösteren bir metriktir.\n",
    "\n",
    "\n",
    "F1 Score değeri bize Kesinlik (Precision) ve Duyarlılık (Recall) değerlerinin harmonik ortalamasını göstermektedir.\n",
    "\n",
    "\n",
    "Support ise y_test'deki sınıf sayılarının karşılığıdır.\n",
    "\n",
    "\n",
    "\n",
    "\n"
   ]
  },
  {
   "cell_type": "code",
   "execution_count": 85,
   "metadata": {},
   "outputs": [
    {
     "data": {
      "text/html": [
       "<style  type=\"text/css\" >\n",
       "#T_28741_row0_col0,#T_28741_row0_col2,#T_28741_row1_col1{\n",
       "            background-color:  #fde725;\n",
       "            color:  #000000;\n",
       "        }#T_28741_row0_col1,#T_28741_row1_col0,#T_28741_row1_col2{\n",
       "            background-color:  #440154;\n",
       "            color:  #f1f1f1;\n",
       "        }</style><table id=\"T_28741_\" ><thead>    <tr>        <th class=\"blank level0\" ></th>        <th class=\"col_heading level0 col0\" >precision</th>        <th class=\"col_heading level0 col1\" >recall</th>        <th class=\"col_heading level0 col2\" >f1-score</th>        <th class=\"col_heading level0 col3\" >support</th>    </tr></thead><tbody>\n",
       "                <tr>\n",
       "                        <th id=\"T_28741_level0_row0\" class=\"row_heading level0 row0\" >0</th>\n",
       "                        <td id=\"T_28741_row0_col0\" class=\"data row0 col0\" >0.891429</td>\n",
       "                        <td id=\"T_28741_row0_col1\" class=\"data row0 col1\" >0.816754</td>\n",
       "                        <td id=\"T_28741_row0_col2\" class=\"data row0 col2\" >0.852459</td>\n",
       "                        <td id=\"T_28741_row0_col3\" class=\"data row0 col3\" >191</td>\n",
       "            </tr>\n",
       "            <tr>\n",
       "                        <th id=\"T_28741_level0_row1\" class=\"row_heading level0 row1\" >1</th>\n",
       "                        <td id=\"T_28741_row1_col0\" class=\"data row1 col0\" >0.708333</td>\n",
       "                        <td id=\"T_28741_row1_col1\" class=\"data row1 col1\" >0.817308</td>\n",
       "                        <td id=\"T_28741_row1_col2\" class=\"data row1 col2\" >0.758929</td>\n",
       "                        <td id=\"T_28741_row1_col3\" class=\"data row1 col3\" >104</td>\n",
       "            </tr>\n",
       "            <tr>\n",
       "                        <th id=\"T_28741_level0_row2\" class=\"row_heading level0 row2\" >accuracy</th>\n",
       "                        <td id=\"T_28741_row2_col0\" class=\"data row2 col0\" >0.816949</td>\n",
       "                        <td id=\"T_28741_row2_col1\" class=\"data row2 col1\" >0.816949</td>\n",
       "                        <td id=\"T_28741_row2_col2\" class=\"data row2 col2\" >0.816949</td>\n",
       "                        <td id=\"T_28741_row2_col3\" class=\"data row2 col3\" >0</td>\n",
       "            </tr>\n",
       "            <tr>\n",
       "                        <th id=\"T_28741_level0_row3\" class=\"row_heading level0 row3\" >macro avg</th>\n",
       "                        <td id=\"T_28741_row3_col0\" class=\"data row3 col0\" >0.799881</td>\n",
       "                        <td id=\"T_28741_row3_col1\" class=\"data row3 col1\" >0.817031</td>\n",
       "                        <td id=\"T_28741_row3_col2\" class=\"data row3 col2\" >0.805694</td>\n",
       "                        <td id=\"T_28741_row3_col3\" class=\"data row3 col3\" >295</td>\n",
       "            </tr>\n",
       "            <tr>\n",
       "                        <th id=\"T_28741_level0_row4\" class=\"row_heading level0 row4\" >weighted avg</th>\n",
       "                        <td id=\"T_28741_row4_col0\" class=\"data row4 col0\" >0.826880</td>\n",
       "                        <td id=\"T_28741_row4_col1\" class=\"data row4 col1\" >0.816949</td>\n",
       "                        <td id=\"T_28741_row4_col2\" class=\"data row4 col2\" >0.819486</td>\n",
       "                        <td id=\"T_28741_row4_col3\" class=\"data row4 col3\" >295</td>\n",
       "            </tr>\n",
       "    </tbody></table>"
      ],
      "text/plain": [
       "<pandas.io.formats.style.Styler at 0x20e0cb2ce20>"
      ]
     },
     "execution_count": 85,
     "metadata": {},
     "output_type": "execute_result"
    }
   ],
   "source": [
    "\"\"\"\"\n",
    "Precision değerimizin 0.826880 gibi yüksek olması Positive anlamında iyi bir sınıflandırma yaptığımız anlamına gelir.\n",
    "\n",
    "Recall 0.816949\tolması gayet kabul edilebilir bir skor.\n",
    "\n",
    "F1 score ise bizi bu iki değerlerin harmonik ortalamasıdır.\n",
    "\n",
    "Support ise 1(yaşayanların ) 104 , 0(yaşayamayanları ) 191 olduğunu gösterir.\n",
    "\"\"\"\n",
    "\n",
    "vis_report_classification(y_hat_xgboost,y_test)\n",
    "\n",
    "#Yani yukarıdaki tanımlamalara da bakarak şunları söylebiliriz ki :\n",
    "\n"
   ]
  },
  {
   "cell_type": "markdown",
   "metadata": {},
   "source": [
    "## K - FOLD CROSS VALIDATION "
   ]
  },
  {
   "cell_type": "code",
   "execution_count": 86,
   "metadata": {},
   "outputs": [
    {
     "name": "stdout",
     "output_type": "stream",
     "text": [
      "Modelin başarısı: 82.22 %\n",
      "Modeller arasındaki standart sapma 1.51 %\n",
      "K-Cross-Validation sonuçları: \n",
      "\n"
     ]
    },
    {
     "data": {
      "text/plain": [
       "array([0.80833333, 0.8487395 , 0.80672269, 0.82352941, 0.82352941])"
      ]
     },
     "execution_count": 86,
     "metadata": {},
     "output_type": "execute_result"
    }
   ],
   "source": [
    "Accuracy_and_k_cross_val(model_best,x_train,y_train,cv=5) \n",
    "\n",
    "\n",
    "#K-Cross Validation cv parametresine göre veri setini böler ve tüm ihtimalleri değerlendirerek bize bir sonuç verir.\n",
    "\n",
    "#Ayrıca modellerimizin arasında herhangi bir başarı oranında büyük farklar olmadığı için iyi durumda diyebiliriz. Yüksek standart sapmaya sahip değiller. Kabul edilebilir."
   ]
  },
  {
   "cell_type": "code",
   "execution_count": 87,
   "metadata": {},
   "outputs": [
    {
     "name": "stdout",
     "output_type": "stream",
     "text": [
      "Random (chance) Prediction: AUROC = 0.500\n",
      "xg_model_best: AUROC = 0.881\n"
     ]
    },
    {
     "data": {
      "image/png": "[encoded data removed]",
      "text/plain": [
       "<Figure size 432x288 with 1 Axes>"
      ]
     },
     "metadata": {
      "needs_background": "light"
     },
     "output_type": "display_data"
    }
   ],
   "source": [
    "Roc_Curve(model_best,x_test,y_test,\"xg_model_best\")   \n",
    "\n",
    "\n",
    "# Modellerimiz ROC plot'unda mükemmel olamasa da iyi bir model olduğunu gösteriyor. \n",
    "#NASIL DEĞERLENDİRİLİR : https://miro.medium.com/max/554/1*Lqkajn8HR2jybYNkKsO6Sg.png gibi bir değerlendirme yapılabilir."
   ]
  },
  {
   "cell_type": "markdown",
   "metadata": {},
   "source": [
    "#### XGBOOST MODELİMİZ HAKKINDAKİ YORUMLARIMIZ "
   ]
  },
  {
   "cell_type": "code",
   "execution_count": 88,
   "metadata": {},
   "outputs": [
    {
     "data": {
      "text/plain": [
       "\"Modelimiz Kaagle'da şampiyonların şampiyonu olan XGBoost kullandık.\\n\\n-ARTILARI :\\n\\n-GridSearch kütüphanesini kullanarak seçtiğimiz parametrelerin hangisinin en iyi kombinasyonlar olduğu gördük\\n-Normalizasyon(Standart Scaler**etc.) yapmamamıza rağmen %82.22 'lik ortalama başarı elde ettik.\\n-K-cross validation'da elde ettiğimiz sonuçlar birbirine oldukça yakın olması overfitting konusunda bi nebze içimizi ferahlattı ancak tam emin olmak için GRAFİK ŞART \\n-ROC eğrisinde de görüldüğü üzere Normalizasyon yapmamama rağmen %88.1 eğrisine ulaşmak fena olmayan bir sonuç bizim için : daha detaylı bilgiler için https://towardsdatascience.com/understanding-auc-roc-curve-68b2303cc9c5\\n\\nEKSİKLERİ : \\n-XGBOOST 0-1 değerler aldığı için bizim kendi elimizde girdiğimiz herhangi bir YENİ VERİYİ tahmin edemiyor.\\n-Bu modelimizden kaynaklanan bir sorun değil diğer tüm modellerde de aynı sorunu yaşacağız belli ki ama 1-0 arasındaki(PREVALENCE) SAYI EŞİTSİZLİĞİ modelin bu konuda elini kolunu bağlıyor.\\n-ROC eğrisindeki görüldüğü üzere Veri setlerindeki orantısızlık yüzünden modeli daha yukarıya taşıyamıyorum (Prevalance değerine göre yükseltmek istediğiniz / çizilir.)\\n\""
      ]
     },
     "execution_count": 88,
     "metadata": {},
     "output_type": "execute_result"
    }
   ],
   "source": [
    "\"\"\"Modelimiz Kaagle'da şampiyonların şampiyonu olan XGBoost kullandık.\n",
    "\n",
    "-ARTILARI :\n",
    "\n",
    "-GridSearch kütüphanesini kullanarak seçtiğimiz parametrelerin hangisinin en iyi kombinasyonlar olduğu gördük\n",
    "-Normalizasyon(Standart Scaler**etc.) yapmamamıza rağmen %82.22 'lik ortalama başarı elde ettik.\n",
    "-K-cross validation'da elde ettiğimiz sonuçlar birbirine oldukça yakın olması overfitting konusunda bi nebze içimizi ferahlattı ancak tam emin olmak için GRAFİK ŞART \n",
    "-ROC eğrisinde de görüldüğü üzere Normalizasyon yapmamama rağmen %88.1 eğrisine ulaşmak fena olmayan bir sonuç bizim için : daha detaylı bilgiler için https://towardsdatascience.com/understanding-auc-roc-curve-68b2303cc9c5\n",
    "\n",
    "EKSİKLERİ : \n",
    "-XGBOOST 0-1 değerler aldığı için bizim kendi elimizde girdiğimiz herhangi bir YENİ VERİYİ tahmin edemiyor.\n",
    "-Bu modelimizden kaynaklanan bir sorun değil diğer tüm modellerde de aynı sorunu yaşacağız belli ki ama 1-0 arasındaki(PREVALENCE) SAYI EŞİTSİZLİĞİ modelin bu konuda elini kolunu bağlıyor.\n",
    "-ROC eğrisindeki görüldüğü üzere Veri setlerindeki orantısızlık yüzünden modeli daha yukarıya taşıyamıyorum (Prevalance değerine göre yükseltmek istediğiniz / çizilir.)\n",
    "\"\"\""
   ]
  },
  {
   "cell_type": "markdown",
   "metadata": {},
   "source": [
    "### KNN ALGORİTMASI (with Normalization)"
   ]
  },
  {
   "cell_type": "markdown",
   "metadata": {},
   "source": [
    "Peki XGboost'da normalizasyon yapmadım diyebilirsiniz çünkü en iyi algoritma olarak kabul edilen bir modelin bile normalizasyon yapılmış klasik bir modeldeki başarısını kıyaslamak için yaptım."
   ]
  },
  {
   "cell_type": "code",
   "execution_count": 89,
   "metadata": {},
   "outputs": [
    {
     "name": "stdout",
     "output_type": "stream",
     "text": [
      "[22:03:34] WARNING: C:/Users/Administrator/workspace/xgboost-win64_release_1.6.0/src/learner.cc:627: \n",
      "Parameters: { \"algorithm\", \"metric\", \"n_neighbors\" } might not be used.\n",
      "\n",
      "  This could be a false alarm, with some parameters getting used by language bindings but\n",
      "  then being mistakenly passed down to XGBoost core, or some parameter actually being used\n",
      "  but getting flagged wrongly here. Please open an issue if you find any such cases.\n",
      "\n",
      "\n",
      "En iyi skor değerimiz 0.7802013422818792\n",
      "{'algorithm': 'auto', 'metric': 'euclidean', 'n_neighbors': 3}\n"
     ]
    }
   ],
   "source": [
    "from sklearn.neighbors import KNeighborsClassifier\n",
    "\n",
    "\n",
    "\n",
    "\n",
    "#Mesafesi, bir de kaç komşuya bakacağı bizim için önemli parametrelerdir.\n",
    "\n",
    "parameters2 = {\n",
    "        'n_neighbors': [3,5,7,9,11,13,15,],#kaç ayrı kümede inceleyeceği\n",
    "        'metric': [\"euclidean\", \"minkowski\",\"manhattan\"],\n",
    "        \"algorithm\":[\"auto\", \"ball_tree\", \"kd_tree\", \"brute\"]}\n",
    "\n",
    "knn = KNeighborsClassifier()\n",
    "knn_cv = GridSearchCV(estimator=xgboost, param_grid=parameters2, cv = 4, n_jobs = -1, verbose = 0,scoring=\"accuracy\")\n",
    "knn_cv.fit(x_train, y_train)\n",
    "\n",
    "\n",
    "\n",
    "knn_best_param = knn_cv.best_params_ #En iyi parametreleri döndürecektir.\n",
    "\n",
    "\n",
    "knn_BestScore=knn_cv.best_score_ # bu bize en yüksek accuracy döndürecek.\n",
    "\n",
    "print(f\"En iyi skor değerimiz {knn_BestScore}\")\n",
    "print(knn_best_param) #En iyi parametreleri döndürecektir.\n",
    "#################################################################################\n",
    "\n",
    "\n",
    "\n"
   ]
  },
  {
   "cell_type": "code",
   "execution_count": 90,
   "metadata": {},
   "outputs": [],
   "source": [
    "knn_best=KNeighborsClassifier(algorithm= 'auto', metric= \"euclidean\", n_neighbors= 3) #best parametrelerle\n",
    "knn_best.fit(x_train,y_train) # öğrenme işlemi\n",
    "y_hat_knn=knn_best.predict(x_test) #tahmin etme işlemi"
   ]
  },
  {
   "cell_type": "code",
   "execution_count": 91,
   "metadata": {},
   "outputs": [
    {
     "data": {
      "image/png": "[encoded data removed]",
      "text/plain": [
       "<Figure size 1080x720 with 2 Axes>"
      ]
     },
     "metadata": {
      "needs_background": "light"
     },
     "output_type": "display_data"
    },
    {
     "data": {
      "text/plain": [
       "'\"\\n0\\'a 0 demek (DOĞRU SINIFLANDIRMA ) = 154  #bu rakamların yüksek olması modelimizin iyi olduğunu gösterir.\\n1\\'e 1 demek (DOĞRU SINIFLANDIRMA ) = 88\\n\\n1\\'e 0 demek (FP =YANLIŞ SINIFLANDIRMA) =32 \\n0\\'a 1 demek(FN= YANLIŞ SINIFLANDIRMA ) =21  #rakamların düşük olması modelimiz için iyi ancak XGBoost kadar iyi değildir.\\n'"
      ]
     },
     "execution_count": 91,
     "metadata": {},
     "output_type": "execute_result"
    }
   ],
   "source": [
    "matrix_confusion(y_test,y_hat_knn)\n",
    "\n",
    "\n",
    "\"\"\"\"\n",
    "0'a 0 demek (DOĞRU SINIFLANDIRMA ) = 154  #bu rakamların yüksek olması modelimizin iyi olduğunu gösterir.\n",
    "1'e 1 demek (DOĞRU SINIFLANDIRMA ) = 88\n",
    "\n",
    "1'e 0 demek (FP =YANLIŞ SINIFLANDIRMA) =32 \n",
    "0'a 1 demek(FN= YANLIŞ SINIFLANDIRMA ) =21  #rakamların düşük olması modelimiz için iyi ancak XGBoost kadar iyi değildir.\n",
    "\"\"\""
   ]
  },
  {
   "cell_type": "code",
   "execution_count": 92,
   "metadata": {},
   "outputs": [
    {
     "data": {
      "text/html": [
       "<style  type=\"text/css\" >\n",
       "#T_5c338_row0_col0,#T_5c338_row0_col1,#T_5c338_row0_col2{\n",
       "            background-color:  #fde725;\n",
       "            color:  #000000;\n",
       "        }#T_5c338_row1_col0,#T_5c338_row1_col1,#T_5c338_row1_col2{\n",
       "            background-color:  #440154;\n",
       "            color:  #f1f1f1;\n",
       "        }</style><table id=\"T_5c338_\" ><thead>    <tr>        <th class=\"blank level0\" ></th>        <th class=\"col_heading level0 col0\" >precision</th>        <th class=\"col_heading level0 col1\" >recall</th>        <th class=\"col_heading level0 col2\" >f1-score</th>        <th class=\"col_heading level0 col3\" >support</th>    </tr></thead><tbody>\n",
       "                <tr>\n",
       "                        <th id=\"T_5c338_level0_row0\" class=\"row_heading level0 row0\" >0</th>\n",
       "                        <td id=\"T_5c338_row0_col0\" class=\"data row0 col0\" >0.880000</td>\n",
       "                        <td id=\"T_5c338_row0_col1\" class=\"data row0 col1\" >0.827957</td>\n",
       "                        <td id=\"T_5c338_row0_col2\" class=\"data row0 col2\" >0.853186</td>\n",
       "                        <td id=\"T_5c338_row0_col3\" class=\"data row0 col3\" >186</td>\n",
       "            </tr>\n",
       "            <tr>\n",
       "                        <th id=\"T_5c338_level0_row1\" class=\"row_heading level0 row1\" >1</th>\n",
       "                        <td id=\"T_5c338_row1_col0\" class=\"data row1 col0\" >0.733333</td>\n",
       "                        <td id=\"T_5c338_row1_col1\" class=\"data row1 col1\" >0.807339</td>\n",
       "                        <td id=\"T_5c338_row1_col2\" class=\"data row1 col2\" >0.768559</td>\n",
       "                        <td id=\"T_5c338_row1_col3\" class=\"data row1 col3\" >109</td>\n",
       "            </tr>\n",
       "            <tr>\n",
       "                        <th id=\"T_5c338_level0_row2\" class=\"row_heading level0 row2\" >accuracy</th>\n",
       "                        <td id=\"T_5c338_row2_col0\" class=\"data row2 col0\" >0.820339</td>\n",
       "                        <td id=\"T_5c338_row2_col1\" class=\"data row2 col1\" >0.820339</td>\n",
       "                        <td id=\"T_5c338_row2_col2\" class=\"data row2 col2\" >0.820339</td>\n",
       "                        <td id=\"T_5c338_row2_col3\" class=\"data row2 col3\" >0</td>\n",
       "            </tr>\n",
       "            <tr>\n",
       "                        <th id=\"T_5c338_level0_row3\" class=\"row_heading level0 row3\" >macro avg</th>\n",
       "                        <td id=\"T_5c338_row3_col0\" class=\"data row3 col0\" >0.806667</td>\n",
       "                        <td id=\"T_5c338_row3_col1\" class=\"data row3 col1\" >0.817648</td>\n",
       "                        <td id=\"T_5c338_row3_col2\" class=\"data row3 col2\" >0.810872</td>\n",
       "                        <td id=\"T_5c338_row3_col3\" class=\"data row3 col3\" >295</td>\n",
       "            </tr>\n",
       "            <tr>\n",
       "                        <th id=\"T_5c338_level0_row4\" class=\"row_heading level0 row4\" >weighted avg</th>\n",
       "                        <td id=\"T_5c338_row4_col0\" class=\"data row4 col0\" >0.825808</td>\n",
       "                        <td id=\"T_5c338_row4_col1\" class=\"data row4 col1\" >0.820339</td>\n",
       "                        <td id=\"T_5c338_row4_col2\" class=\"data row4 col2\" >0.821917</td>\n",
       "                        <td id=\"T_5c338_row4_col3\" class=\"data row4 col3\" >295</td>\n",
       "            </tr>\n",
       "    </tbody></table>"
      ],
      "text/plain": [
       "<pandas.io.formats.style.Styler at 0x20e0cb01280>"
      ]
     },
     "execution_count": 92,
     "metadata": {},
     "output_type": "execute_result"
    }
   ],
   "source": [
    "\"\"\"\"\n",
    "Precision değerimizin 0.825808 gibi yüksek olması Positive anlamında iyi bir sınıflandırma yaptığımız anlamına gelir.\n",
    "\n",
    "Recall 0.820339\tolması gayet kabul edilebilir bir skor.\n",
    "\n",
    "F1 score ise bizi bu iki değerlerin harmonik ortalamasıdır.F1 metriği bize sınıflandırma modelimizin gerçek başarısını göstermektedir. ROC eğrisindeki altında kalan alanı da büyütür.\n",
    "\n",
    "Support ise 1(yaşayanların ) 109 , 0(yaşayamayanları ) 186 veri sayısını olduğunu gösterir.\"\"\"\n",
    "\n",
    "\n",
    "vis_report_classification(y_hat_knn,y_test)\n",
    "\n",
    "\n",
    "\n"
   ]
  },
  {
   "cell_type": "code",
   "execution_count": 93,
   "metadata": {},
   "outputs": [
    {
     "name": "stdout",
     "output_type": "stream",
     "text": [
      "Modelin başarısı: 77.69 %\n",
      "Modeller arasındaki standart sapma 1.22 %\n",
      "K-Cross-Validation sonuçları: \n",
      "\n"
     ]
    },
    {
     "data": {
      "text/plain": [
       "array([0.76666667, 0.78151261, 0.76470588, 0.77310924, 0.79831933])"
      ]
     },
     "execution_count": 93,
     "metadata": {},
     "output_type": "execute_result"
    }
   ],
   "source": [
    "### XGBOOST modelinin \n",
    "\n",
    "Accuracy_and_k_cross_val(knn_best,x_train,y_train,cv=5) \n",
    "\n",
    "\n",
    "#K-Cross Validation cv parametresine göre veri setini böler ve tüm ihtimalleri değerlendirerek bize bir sonuç verir.\n",
    "\n",
    "#Ayrıca modellerimizin arasında herhangi bir başarı oranında büyük farklar olmadığı için iyi durumda diyebiliriz. Yüksek standart sapmaya sahip değiller. Kabul edilebilir."
   ]
  },
  {
   "cell_type": "code",
   "execution_count": 94,
   "metadata": {},
   "outputs": [
    {
     "name": "stdout",
     "output_type": "stream",
     "text": [
      "Random (chance) Prediction: AUROC = 0.500\n",
      "knn_best: AUROC = 0.842\n"
     ]
    },
    {
     "data": {
      "image/png": "[encoded data removed]",
      "text/plain": [
       "<Figure size 432x288 with 1 Axes>"
      ]
     },
     "metadata": {
      "needs_background": "light"
     },
     "output_type": "display_data"
    },
    {
     "data": {
      "text/plain": [
       "'\"\\n\\nXGBoost kadar iyi olmasa da iyi bir model diyebiliriz. \\n\\nF1 metriği bize sınıflandırma modelimizin gerçek başarısını göstermektedir. ROC eğrisi de bize F1 değeri arttıkça AUC altında kalan alanın arttığını göstermiştir.\\n\\n'"
      ]
     },
     "execution_count": 94,
     "metadata": {},
     "output_type": "execute_result"
    }
   ],
   "source": [
    "Roc_Curve(knn_best,x_test,y_test,\"knn_best\")  \n",
    "\n",
    "\"\"\"\"\n",
    "\n",
    "XGBoost kadar iyi olmasa da iyi bir model diyebiliriz. \n",
    "\n",
    "F1 metriği bize sınıflandırma modelimizin gerçek başarısını göstermektedir. ROC eğrisi de bize F1 değeri arttıkça AUC altında kalan alanın arttığını göstermiştir.\n",
    "\n",
    "\"\"\""
   ]
  },
  {
   "cell_type": "markdown",
   "metadata": {},
   "source": [
    "KNN modelimizle ilgili Yorumlar: "
   ]
  },
  {
   "cell_type": "code",
   "execution_count": 95,
   "metadata": {},
   "outputs": [
    {
     "data": {
      "text/plain": [
       "'\"\\nARTILARI : \\n\\n-GridSearch kullanılarak en iyi parametrelerin bulunması bizim için en iyi parametrelerin bulunması.\\n-Yorumlanabilirlik açısından kolay ve oldukça güçlü bir algoritmadır.\\n-K-Cross-Validationdaki başarı oranları birbirine yakın ve Modelin başarısı: 77.52 % mükemmel değil ancak fena de değildir.\\n\\nEKSİKLERİ :\\n\\n-Oluşan Features\\'ların sayısı kadar bir uzay oluşturup en yakın 5(bunu biz belirliyoruz) komşulara göre değerlendirir.\\n-Diğer modelimize göre FN-FP sayısı fazla.\\n-ki XGBoost da belirttiğim gibi , ROC eğrisindeki görüldüğü üzere Veri setlerindeki orantısızlık yüzünden modeli daha yukarıya taşıyamıyorum (Prevalance değerine göre yükseltmek istediğiniz / çizilir.)\\n\\n\\n\\n'"
      ]
     },
     "execution_count": 95,
     "metadata": {},
     "output_type": "execute_result"
    }
   ],
   "source": [
    "\"\"\"\"\n",
    "ARTILARI : \n",
    "\n",
    "-GridSearch kullanılarak en iyi parametrelerin bulunması bizim için en iyi parametrelerin bulunması.\n",
    "-Yorumlanabilirlik açısından kolay ve oldukça güçlü bir algoritmadır.\n",
    "-K-Cross-Validationdaki başarı oranları birbirine yakın ve Modelin başarısı: 77.52 % mükemmel değil ancak fena de değildir.\n",
    "\n",
    "EKSİKLERİ :\n",
    "\n",
    "-Oluşan Features'ların sayısı kadar bir uzay oluşturup en yakın 5(bunu biz belirliyoruz) komşulara göre değerlendirir.\n",
    "-Diğer modelimize göre FN-FP sayısı fazla.\n",
    "-ki XGBoost da belirttiğim gibi , ROC eğrisindeki görüldüğü üzere Veri setlerindeki orantısızlık yüzünden modeli daha yukarıya taşıyamıyorum (Prevalance değerine göre yükseltmek istediğiniz / çizilir.)\n",
    "\n",
    "\n",
    "\n",
    "\"\"\""
   ]
  },
  {
   "cell_type": "markdown",
   "metadata": {},
   "source": [
    "## 3.MODELİMİZ  YAPAY SİNİR AĞLARI "
   ]
  },
  {
   "cell_type": "code",
   "execution_count": 96,
   "metadata": {},
   "outputs": [
    {
     "name": "stdout",
     "output_type": "stream",
     "text": [
      "Epoch 1/300\n",
      "15/15 [==============================] - 1s 18ms/step - loss: 0.6898 - accuracy: 0.6429 - val_loss: 0.6746 - val_accuracy: 0.6833\n",
      "Epoch 2/300\n",
      "15/15 [==============================] - 0s 5ms/step - loss: 0.6735 - accuracy: 0.6513 - val_loss: 0.6607 - val_accuracy: 0.6917\n",
      "Epoch 3/300\n",
      "15/15 [==============================] - 0s 5ms/step - loss: 0.6572 - accuracy: 0.6576 - val_loss: 0.6447 - val_accuracy: 0.7083\n",
      "Epoch 4/300\n",
      "15/15 [==============================] - 0s 5ms/step - loss: 0.6408 - accuracy: 0.6702 - val_loss: 0.6278 - val_accuracy: 0.7083\n",
      "Epoch 5/300\n",
      "15/15 [==============================] - 0s 5ms/step - loss: 0.6224 - accuracy: 0.6807 - val_loss: 0.6105 - val_accuracy: 0.7000\n",
      "Epoch 6/300\n",
      "15/15 [==============================] - 0s 5ms/step - loss: 0.6045 - accuracy: 0.6954 - val_loss: 0.5910 - val_accuracy: 0.7167\n",
      "Epoch 7/300\n",
      "15/15 [==============================] - 0s 5ms/step - loss: 0.5848 - accuracy: 0.7059 - val_loss: 0.5735 - val_accuracy: 0.7333\n",
      "Epoch 8/300\n",
      "15/15 [==============================] - 0s 5ms/step - loss: 0.5654 - accuracy: 0.7185 - val_loss: 0.5553 - val_accuracy: 0.7417\n",
      "Epoch 9/300\n",
      "15/15 [==============================] - 0s 5ms/step - loss: 0.5461 - accuracy: 0.7332 - val_loss: 0.5377 - val_accuracy: 0.7583\n",
      "Epoch 10/300\n",
      "15/15 [==============================] - 0s 5ms/step - loss: 0.5274 - accuracy: 0.7521 - val_loss: 0.5224 - val_accuracy: 0.7417\n",
      "Epoch 11/300\n",
      "15/15 [==============================] - 0s 5ms/step - loss: 0.5101 - accuracy: 0.7689 - val_loss: 0.5089 - val_accuracy: 0.7333\n",
      "Epoch 12/300\n",
      "15/15 [==============================] - 0s 5ms/step - loss: 0.4943 - accuracy: 0.7878 - val_loss: 0.4986 - val_accuracy: 0.7333\n",
      "Epoch 13/300\n",
      "15/15 [==============================] - 0s 5ms/step - loss: 0.4818 - accuracy: 0.7941 - val_loss: 0.4920 - val_accuracy: 0.7583\n",
      "Epoch 14/300\n",
      "15/15 [==============================] - 0s 5ms/step - loss: 0.4745 - accuracy: 0.7962 - val_loss: 0.4870 - val_accuracy: 0.7583\n",
      "Epoch 15/300\n",
      "15/15 [==============================] - 0s 6ms/step - loss: 0.4657 - accuracy: 0.8025 - val_loss: 0.4847 - val_accuracy: 0.7583\n",
      "Epoch 16/300\n",
      "15/15 [==============================] - 0s 5ms/step - loss: 0.4601 - accuracy: 0.8046 - val_loss: 0.4829 - val_accuracy: 0.7750\n",
      "Epoch 17/300\n",
      "15/15 [==============================] - 0s 5ms/step - loss: 0.4556 - accuracy: 0.8109 - val_loss: 0.4819 - val_accuracy: 0.7750\n",
      "Epoch 18/300\n",
      "15/15 [==============================] - 0s 5ms/step - loss: 0.4519 - accuracy: 0.8130 - val_loss: 0.4809 - val_accuracy: 0.7833\n",
      "Epoch 19/300\n",
      "15/15 [==============================] - 0s 5ms/step - loss: 0.4489 - accuracy: 0.8088 - val_loss: 0.4798 - val_accuracy: 0.7833\n",
      "Epoch 20/300\n",
      "15/15 [==============================] - 0s 5ms/step - loss: 0.4460 - accuracy: 0.8109 - val_loss: 0.4814 - val_accuracy: 0.7833\n",
      "Epoch 21/300\n",
      "15/15 [==============================] - 0s 5ms/step - loss: 0.4434 - accuracy: 0.8130 - val_loss: 0.4809 - val_accuracy: 0.7833\n",
      "Epoch 22/300\n",
      "15/15 [==============================] - 0s 5ms/step - loss: 0.4415 - accuracy: 0.8130 - val_loss: 0.4819 - val_accuracy: 0.7833\n",
      "Epoch 23/300\n",
      "15/15 [==============================] - 0s 5ms/step - loss: 0.4397 - accuracy: 0.8130 - val_loss: 0.4832 - val_accuracy: 0.7667\n",
      "Epoch 24/300\n",
      "15/15 [==============================] - 0s 5ms/step - loss: 0.4380 - accuracy: 0.8151 - val_loss: 0.4826 - val_accuracy: 0.7833\n",
      "Epoch 25/300\n",
      "15/15 [==============================] - 0s 6ms/step - loss: 0.4360 - accuracy: 0.8172 - val_loss: 0.4828 - val_accuracy: 0.7750\n",
      "Epoch 26/300\n",
      "15/15 [==============================] - 0s 6ms/step - loss: 0.4348 - accuracy: 0.8151 - val_loss: 0.4829 - val_accuracy: 0.7750\n",
      "Epoch 27/300\n",
      "15/15 [==============================] - 0s 5ms/step - loss: 0.4334 - accuracy: 0.8172 - val_loss: 0.4835 - val_accuracy: 0.7750\n",
      "Epoch 28/300\n",
      "15/15 [==============================] - 0s 5ms/step - loss: 0.4320 - accuracy: 0.8172 - val_loss: 0.4833 - val_accuracy: 0.7667\n",
      "Epoch 29/300\n",
      "15/15 [==============================] - 0s 5ms/step - loss: 0.4315 - accuracy: 0.8214 - val_loss: 0.4839 - val_accuracy: 0.7750\n",
      "Epoch 29: early stopping\n"
     ]
    }
   ],
   "source": [
    "from keras.models import Sequential\n",
    "from keras.layers import Dense,Activation\n",
    "from keras.callbacks import ModelCheckpoint #çünkü modelimiz \"validation\" iyiye gidiyor onu için.\n",
    "import tensorflow as tf\n",
    "from keras.callbacks import EarlyStopping\n",
    "\n",
    "\n",
    "\n",
    "classifier= Sequential() #bir model oluşturuyoruz.\n",
    "\n",
    "classifier.add(Dense(8))\n",
    "\n",
    "# gizli katman\n",
    "classifier.add(Dense(5,activation=\"relu\")) \n",
    "\n",
    "\n",
    "#gizli katman\n",
    "classifier.add(Dense(5,activation=\"relu\"))\n",
    "\n",
    "\n",
    "#çıkış katmanı\n",
    "classifier.add(Dense(1,activation=\"sigmoid\"))  \n",
    "\n",
    "earlyStopping= EarlyStopping(monitor=\"val_loss\",mode=\"min\",verbose=1,patience=10) # Modelin belli bir sınır dahilinde (10 epochta accuracy geliştiremezsen) DURDURMA İŞLEMİ ! \n",
    "\n",
    "\n",
    "classifier.compile(loss='binary_crossentropy', optimizer='adam',metrics=[\"accuracy\"])  #derlemiş olucaz bu şekilde.\n",
    "\n",
    "#neden loss function binary_crossentropy olarak seçtik hep normal de categorical seçilir?\n",
    "#TARGET KOLON hepsi 0 ila 1 arasında olduğu için, eğer başka şeyler de olsaydı onun için categorical kullanıcaz.\n",
    "\n",
    "\n",
    "\n",
    "\n",
    "#EarlyStopping'e işin içine kattık çünkü olur da bir ıverfitting durumu ile karşılaşmamak için.\n",
    "\n",
    "\n",
    "\n",
    "x_train, x_valid, y_train, y_valid = train_test_split(x_train, y_train, test_size=0.20, shuffle= True)\n",
    "\n",
    "\n",
    "\"\"\"MODELİ ÖĞRENME İŞLEMİ \"\"\"\n",
    "history_model=classifier.fit(x_train,y_train,epochs=300,batch_size=32,callbacks=[earlyStopping],validation_data=(x_valid,y_valid))\n"
   ]
  },
  {
   "cell_type": "markdown",
   "metadata": {},
   "source": [
    "GÖRSELLEŞTİRME VE GRAFİĞİ FOTOĞRAF OLARAK KAYDETME "
   ]
  },
  {
   "cell_type": "code",
   "execution_count": 98,
   "metadata": {},
   "outputs": [],
   "source": [
    "loss_history=history_model.history[\"loss\"] #burada loss'un gidişine bakacağız.\n",
    "acc_history=history_model.history['accuracy']\n",
    "epochs=[(i+1) for i in range(29)]\n",
    "\n",
    "#çizdirme işlemleri..\n",
    "ax=plt.subplot(211)\n",
    "ax.plot(epochs,loss_history,color=\"Red\") #hatanın ne kadar düştüğü\n",
    "ax.set_xlabel('epochs') #x label'in adı\n",
    "ax.set_ylabel('Error Rate Epoch') \n",
    "\n",
    "\n",
    "\n",
    "#ikinci şekil\n",
    "\n",
    "ax2=plt.subplot(212)\n",
    "ax2.plot(epochs,acc_history,color=\"Blue\") # ax2'de olacakları seçme ve \n",
    "ax2.set_xlabel('epochs') #x label'in adı\n",
    "ax2.set_ylabel('Accuracy per  Epoch')\n",
    "\n",
    "\n",
    "plt.subplots_adjust(hspace=0.8) #boşlukları belirme\n",
    "plt.savefig(\"Accuracy_loss.png\") #sonucu kaydetme işlemi\n",
    "plt.close()\n",
    "\n",
    "#### FOTOĞRAFLARIMIZ DOSYA İÇİNE KAYDETMESİ LAZIM.\n",
    "\n",
    "\n",
    "loss_history=history_model.history[\"val_loss\"] #burada loss'un gidişine bakacağız.\n",
    "acc_history=history_model.history['val_accuracy']\n",
    "epochs=[(i+1) for i in range(29)]\n",
    "\n",
    "#çizdirme işlemleri..\n",
    "ax=plt.subplot(211)\n",
    "ax.plot(epochs,loss_history,color=\"Red\") #hatanın ne kadar düştüğü\n",
    "ax.set_xlabel('epochs') #x label'in adı\n",
    "ax.set_ylabel('Error Rate Epoch') \n",
    "\n",
    "\n",
    "\n",
    "#ikinci şekil\n",
    "\n",
    "ax2=plt.subplot(212)\n",
    "ax2.plot(epochs,acc_history,color=\"Blue\") # ax2'de olacakları seçme ve \n",
    "ax2.set_xlabel('epochs') #x label'in adı\n",
    "ax2.set_ylabel('Accuracy per  Epoch')\n",
    "\n",
    "\n",
    "plt.subplots_adjust(hspace=0.8) #boşlukları belirme\n",
    "plt.savefig(\"val_Accuracy_loss.png\") #sonucu kaydetme işlemi\n",
    "plt.close()"
   ]
  },
  {
   "cell_type": "code",
   "execution_count": 99,
   "metadata": {},
   "outputs": [
    {
     "name": "stdout",
     "output_type": "stream",
     "text": [
      "10/10 [==============================] - 0s 2ms/step\n"
     ]
    }
   ],
   "source": [
    "y_hat_ann=(classifier.predict(x_test) > 0.5)*1  # 0.5 altındaki değerleri 1 olarak diğerlerine de 0 olarak alacağız.\n",
    "\n",
    "#*1 ve int değerine çevirdiğimiz için True False olarak değil , 0 ve 1 olarak ekrana verecektir."
   ]
  },
  {
   "cell_type": "code",
   "execution_count": 100,
   "metadata": {},
   "outputs": [
    {
     "data": {
      "image/png": "[encoded data removed]",
      "text/plain": [
       "<Figure size 1080x720 with 2 Axes>"
      ]
     },
     "metadata": {
      "needs_background": "light"
     },
     "output_type": "display_data"
    }
   ],
   "source": [
    "\n",
    "\"\"\"\"\n",
    "0'a 0 demek (DOĞRU SINIFLANDIRMA ) = 153  #bu rakamların yüksek olması modelimizin iyi olduğunu gösterir.\n",
    "1'e 1 demek (DOĞRU SINIFLANDIRMA ) = 80\n",
    "\n",
    "1'e 0 demek (FP =YANLIŞ SINIFLANDIRMA) =40 \n",
    "0'a 1 demek(FN= YANLIŞ SINIFLANDIRMA ) =22  #rakamların düşük olması modelimiz için iyi ancak  \n",
    "\n",
    "\n",
    "\"\"\"\n",
    "\n",
    "matrix_confusion(y_test,y_hat_ann)\n",
    "\n"
   ]
  },
  {
   "cell_type": "code",
   "execution_count": 101,
   "metadata": {},
   "outputs": [
    {
     "data": {
      "text/html": [
       "<style  type=\"text/css\" >\n",
       "#T_ddd17_row0_col0,#T_ddd17_row0_col1,#T_ddd17_row0_col2{\n",
       "            background-color:  #fde725;\n",
       "            color:  #000000;\n",
       "        }#T_ddd17_row1_col0,#T_ddd17_row1_col1,#T_ddd17_row1_col2{\n",
       "            background-color:  #440154;\n",
       "            color:  #f1f1f1;\n",
       "        }</style><table id=\"T_ddd17_\" ><thead>    <tr>        <th class=\"blank level0\" ></th>        <th class=\"col_heading level0 col0\" >precision</th>        <th class=\"col_heading level0 col1\" >recall</th>        <th class=\"col_heading level0 col2\" >f1-score</th>        <th class=\"col_heading level0 col3\" >support</th>    </tr></thead><tbody>\n",
       "                <tr>\n",
       "                        <th id=\"T_ddd17_level0_row0\" class=\"row_heading level0 row0\" >0</th>\n",
       "                        <td id=\"T_ddd17_row0_col0\" class=\"data row0 col0\" >0.874286</td>\n",
       "                        <td id=\"T_ddd17_row0_col1\" class=\"data row0 col1\" >0.809524</td>\n",
       "                        <td id=\"T_ddd17_row0_col2\" class=\"data row0 col2\" >0.840659</td>\n",
       "                        <td id=\"T_ddd17_row0_col3\" class=\"data row0 col3\" >189</td>\n",
       "            </tr>\n",
       "            <tr>\n",
       "                        <th id=\"T_ddd17_level0_row1\" class=\"row_heading level0 row1\" >1</th>\n",
       "                        <td id=\"T_ddd17_row1_col0\" class=\"data row1 col0\" >0.700000</td>\n",
       "                        <td id=\"T_ddd17_row1_col1\" class=\"data row1 col1\" >0.792453</td>\n",
       "                        <td id=\"T_ddd17_row1_col2\" class=\"data row1 col2\" >0.743363</td>\n",
       "                        <td id=\"T_ddd17_row1_col3\" class=\"data row1 col3\" >106</td>\n",
       "            </tr>\n",
       "            <tr>\n",
       "                        <th id=\"T_ddd17_level0_row2\" class=\"row_heading level0 row2\" >accuracy</th>\n",
       "                        <td id=\"T_ddd17_row2_col0\" class=\"data row2 col0\" >0.803390</td>\n",
       "                        <td id=\"T_ddd17_row2_col1\" class=\"data row2 col1\" >0.803390</td>\n",
       "                        <td id=\"T_ddd17_row2_col2\" class=\"data row2 col2\" >0.803390</td>\n",
       "                        <td id=\"T_ddd17_row2_col3\" class=\"data row2 col3\" >0</td>\n",
       "            </tr>\n",
       "            <tr>\n",
       "                        <th id=\"T_ddd17_level0_row3\" class=\"row_heading level0 row3\" >macro avg</th>\n",
       "                        <td id=\"T_ddd17_row3_col0\" class=\"data row3 col0\" >0.787143</td>\n",
       "                        <td id=\"T_ddd17_row3_col1\" class=\"data row3 col1\" >0.800988</td>\n",
       "                        <td id=\"T_ddd17_row3_col2\" class=\"data row3 col2\" >0.792011</td>\n",
       "                        <td id=\"T_ddd17_row3_col3\" class=\"data row3 col3\" >295</td>\n",
       "            </tr>\n",
       "            <tr>\n",
       "                        <th id=\"T_ddd17_level0_row4\" class=\"row_heading level0 row4\" >weighted avg</th>\n",
       "                        <td id=\"T_ddd17_row4_col0\" class=\"data row4 col0\" >0.811661</td>\n",
       "                        <td id=\"T_ddd17_row4_col1\" class=\"data row4 col1\" >0.803390</td>\n",
       "                        <td id=\"T_ddd17_row4_col2\" class=\"data row4 col2\" >0.805699</td>\n",
       "                        <td id=\"T_ddd17_row4_col3\" class=\"data row4 col3\" >295</td>\n",
       "            </tr>\n",
       "    </tbody></table>"
      ],
      "text/plain": [
       "<pandas.io.formats.style.Styler at 0x20e0d57b190>"
      ]
     },
     "execution_count": 101,
     "metadata": {},
     "output_type": "execute_result"
    }
   ],
   "source": [
    "\n",
    "\"\"\"\"\n",
    "Precision değerimizin 0.811661 gibi yüksek olması Positive anlamında iyi bir sınıflandırma yaptığımız anlamına gelir.AMA 1 olanları 0.691667 gibi precision değeri var bu support değeri bağlı herhalde.\n",
    "\n",
    "Recall 0.803390\tolması gayet kabul edilebilir bir skor.\n",
    "\n",
    "F1 score ise bizi bu iki değerlerin harmonik ortalamasıdır.F1 metriği bize sınıflandırma modelimizin gerçek başarısını göstermektedir. \n",
    "\n",
    "Support ise 1(yaşayanların ) 101 , 0(yaşayamayanları ) 194 veri sayısını olduğunu gösterir.\"\"\"\n",
    "\n",
    "\n",
    "\n",
    "\n",
    "vis_report_classification(y_hat_ann,y_test)\n"
   ]
  },
  {
   "cell_type": "code",
   "execution_count": 103,
   "metadata": {},
   "outputs": [
    {
     "data": {
      "text/plain": [
       "<matplotlib.image.AxesImage at 0x20e0f14b880>"
      ]
     },
     "execution_count": 103,
     "metadata": {},
     "output_type": "execute_result"
    },
    {
     "data": {
      "image/png": "[encoded data removed]",
      "text/plain": [
       "<Figure size 432x288 with 1 Axes>"
      ]
     },
     "metadata": {
      "needs_background": "light"
     },
     "output_type": "display_data"
    }
   ],
   "source": [
    "import cv2\n",
    "\n",
    "resim=cv2.imread(\"Accuracy_loss.png\")\n",
    "plt.imshow(resim)\n",
    "\n",
    "\n",
    "\n",
    "#Resimde de görüldüğü üzere epoch sayım arttıkça Error Rate azalırken, accuracy (başarı) artmış ve bunda herhangi bir keskin iniş yok.\n",
    "#Bu da overfitting korkumuzu bi nebze'de olsa azaltıyor. Ama kesin sonuç için test verilerinin validation'ı da lazım bize."
   ]
  },
  {
   "cell_type": "code",
   "execution_count": 104,
   "metadata": {},
   "outputs": [
    {
     "data": {
      "text/plain": [
       "<matplotlib.image.AxesImage at 0x20e0cb61b50>"
      ]
     },
     "execution_count": 104,
     "metadata": {},
     "output_type": "execute_result"
    },
    {
     "data": {
      "image/png": "[encoded data removed]",
      "text/plain": [
       "<Figure size 432x288 with 1 Axes>"
      ]
     },
     "metadata": {
      "needs_background": "light"
     },
     "output_type": "display_data"
    }
   ],
   "source": [
    "resim=cv2.imread(\"val_Accuracy_loss.png\")\n",
    "plt.imshow(resim)"
   ]
  },
  {
   "cell_type": "code",
   "execution_count": null,
   "metadata": {},
   "outputs": [],
   "source": [
    "\"\"\"\"\n",
    "ANN MODELİNİN ;\n",
    "\n",
    "ARTILARI :\n",
    "- loss: 0.3431 - accuracy: 0.8624 olması bizim için oldukça sevindirici bir durum, Diğer modellerimizden daha yüksek çıktı.\n",
    "-Kendi kendine öğrenen bir model geliştirdik\n",
    "-Overfitting'in önüne geçmek için EarlyStopping kullandık aslında.Bu en yüksek başarıyı elde etmemizi sağladı.\n",
    "-Validasyon setiyle eğittik.\n",
    "\n",
    "EKSİKLERİ:\n",
    "k-cross Validation kullanamadık. Nasıl bir test verisiyle ayrıldığını bilmiyoruz.\n",
    "Test verilerini karşılaştırmadık.\n",
    "\"\"\"\""
   ]
  },
  {
   "cell_type": "markdown",
   "metadata": {},
   "source": [
    "That's it."
   ]
  }
 ],
 "metadata": {
  "kernelspec": {
   "display_name": "Python 3.8.8",
   "language": "python",
   "name": "python3"
  },
  "language_info": {
   "codemirror_mode": {
    "name": "ipython",
    "version": 3
   },
   "file_extension": ".py",
   "mimetype": "text/x-python",
   "name": "python",
   "nbconvert_exporter": "python",
   "pygments_lexer": "ipython3",
   "version": "3.8.8"
  },
  "orig_nbformat": 4,
  "vscode": {
   "interpreter": {
    "hash": "e26da9777431fcd98778416b583e2cb3f0c4f5515b7897587b203af2bddddd45"
   }
  }
 },
 "nbformat": 4,
 "nbformat_minor": 2
}
