{
 "cells": [
  {
   "cell_type": "markdown",
   "metadata": {},
   "source": [
    "İLK Problemimiz K-Means tamam ama Kümeleme problemleri sadece K-Means'ten ibaret değil.. \n",
    "\n",
    "Aşağıdaki Sitelere bakmakta ve o algoritmalara da göz atmakta fayda var.\n",
    "\n",
    "https://scikit-learn.org/stable/modules/clustering.html\n",
    "\n",
    "\n",
    "K-Means için daha detaylı \n",
    "\n",
    "https://scikit-learn.org/stable/modules/generated/sklearn.cluster.KMeans.html"
   ]
  },
  {
   "cell_type": "markdown",
   "metadata": {},
   "source": [
    "Parametrelerimizden bazıları şunlardır:\n",
    "\n",
    "n_clusters=8 default değeri 8.. kaç tane kümeleme yapmak istiyorsak yazmalıyız.\n",
    "\n",
    "\n",
    "init = {‘k-means++’, ‘random’} olarak geçiyor k-means++ 'ı anlamıştık.\n",
    "\n",
    "random_state= nereden başlayacağı ile ilgilii bu parametre x_test,x_train değerlerinde de vardı...\n",
    "\n"
   ]
  },
  {
   "cell_type": "markdown",
   "metadata": {},
   "source": [
    "AYRICA DİĞER ALGORİTMALARI HANGİ VERİLERİ NASIL BİR ŞEKİLDE DAĞITTIĞINI DA GÖRMEK İSTERSENİZ :\n",
    "\n",
    "\n",
    "\n",
    "\n",
    "https://huggingface.co/spaces/scikit-learn/clustering\n"
   ]
  },
  {
   "cell_type": "code",
   "execution_count": 16,
   "metadata": {},
   "outputs": [],
   "source": [
    "import numpy as np\n",
    "import pandas as pd\n",
    "import matplotlib.pyplot as plt\n",
    "\n"
   ]
  },
  {
   "cell_type": "markdown",
   "metadata": {},
   "source": [
    "# Data'nın çekilmesi\n"
   ]
  },
  {
   "cell_type": "code",
   "execution_count": 17,
   "metadata": {},
   "outputs": [
    {
     "data": {
      "text/html": [
       "<div>\n",
       "<style scoped>\n",
       "    .dataframe tbody tr th:only-of-type {\n",
       "        vertical-align: middle;\n",
       "    }\n",
       "\n",
       "    .dataframe tbody tr th {\n",
       "        vertical-align: top;\n",
       "    }\n",
       "\n",
       "    .dataframe thead th {\n",
       "        text-align: right;\n",
       "    }\n",
       "</style>\n",
       "<table border=\"1\" class=\"dataframe\">\n",
       "  <thead>\n",
       "    <tr style=\"text-align: right;\">\n",
       "      <th></th>\n",
       "      <th>No</th>\n",
       "      <th>Cinsiyet</th>\n",
       "      <th>Yas</th>\n",
       "      <th>Hacim</th>\n",
       "      <th>Maas</th>\n",
       "    </tr>\n",
       "  </thead>\n",
       "  <tbody>\n",
       "    <tr>\n",
       "      <th>0</th>\n",
       "      <td>1</td>\n",
       "      <td>K</td>\n",
       "      <td>60</td>\n",
       "      <td>69900</td>\n",
       "      <td>6325</td>\n",
       "    </tr>\n",
       "    <tr>\n",
       "      <th>1</th>\n",
       "      <td>2</td>\n",
       "      <td>K</td>\n",
       "      <td>30</td>\n",
       "      <td>79000</td>\n",
       "      <td>5200</td>\n",
       "    </tr>\n",
       "    <tr>\n",
       "      <th>2</th>\n",
       "      <td>3</td>\n",
       "      <td>E</td>\n",
       "      <td>52</td>\n",
       "      <td>85500</td>\n",
       "      <td>7825</td>\n",
       "    </tr>\n",
       "    <tr>\n",
       "      <th>3</th>\n",
       "      <td>4</td>\n",
       "      <td>E</td>\n",
       "      <td>57</td>\n",
       "      <td>17100</td>\n",
       "      <td>8375</td>\n",
       "    </tr>\n",
       "    <tr>\n",
       "      <th>4</th>\n",
       "      <td>5</td>\n",
       "      <td>E</td>\n",
       "      <td>55</td>\n",
       "      <td>5500</td>\n",
       "      <td>5450</td>\n",
       "    </tr>\n",
       "  </tbody>\n",
       "</table>\n",
       "</div>"
      ],
      "text/plain": [
       "   No Cinsiyet  Yas  Hacim  Maas\n",
       "0   1        K   60  69900  6325\n",
       "1   2        K   30  79000  5200\n",
       "2   3        E   52  85500  7825\n",
       "3   4        E   57  17100  8375\n",
       "4   5        E   55   5500  5450"
      ]
     },
     "execution_count": 17,
     "metadata": {},
     "output_type": "execute_result"
    }
   ],
   "source": [
    "veriler = pd.read_csv('C:/Users/yusuf/Desktop/GOALS/MACHINE LEARNING/Basic/kaynaklar/musteriler.csv')\n",
    "\n",
    "veriler.head()"
   ]
  },
  {
   "cell_type": "code",
   "execution_count": 18,
   "metadata": {},
   "outputs": [
    {
     "data": {
      "text/plain": [
       "array([[    60,  69900],\n",
       "       [    30,  79000],\n",
       "       [    52,  85500],\n",
       "       [    57,  17100],\n",
       "       [    55,   5500],\n",
       "       [    68,  27200],\n",
       "       [    41,  20500],\n",
       "       [    20,  69000],\n",
       "       [    33,  13200],\n",
       "       [    37,  31800],\n",
       "       [    33,  59200],\n",
       "       [    21,  95800],\n",
       "       [    48,  46200],\n",
       "       [    46,  29800],\n",
       "       [    68,  83000],\n",
       "       [    35, 143500],\n",
       "       [    72,  91300],\n",
       "       [    20,   9800],\n",
       "       [    26,  79500],\n",
       "       [    60,  66400],\n",
       "       [    49,  25900],\n",
       "       [    22,      0],\n",
       "       [    41,  90900],\n",
       "       [    30,  51800],\n",
       "       [    56, 126800],\n",
       "       [    56,  40800],\n",
       "       [    66,  26400],\n",
       "       [    45,  76100],\n",
       "       [    29,  26500],\n",
       "       [    32,  37200],\n",
       "       [    20,   4000],\n",
       "       [    32,  34500],\n",
       "       [    63,  47100],\n",
       "       [    60,  95600],\n",
       "       [    23,  35400],\n",
       "       [    29,  41100],\n",
       "       [    70,  46400],\n",
       "       [    61,  10400],\n",
       "       [    48,  50100],\n",
       "       [    66, 111300],\n",
       "       [    51, 102700],\n",
       "       [    19,  23700],\n",
       "       [    48,  84300],\n",
       "       [    74,  14800],\n",
       "       [    64,   6400],\n",
       "       [    58,  35900],\n",
       "       [    24,  41600],\n",
       "       [    35,  61000],\n",
       "       [    30,  52800],\n",
       "       [    63, 118500],\n",
       "       [    21,  21500],\n",
       "       [    25,  69200],\n",
       "       [    60, 105600],\n",
       "       [    55, 139000],\n",
       "       [    33,  76300],\n",
       "       [    60,  87600],\n",
       "       [    72,  21800],\n",
       "       [    63,  84100],\n",
       "       [    22,  35700],\n",
       "       [    50,  75400],\n",
       "       [    70, 125000],\n",
       "       [    66,  97100],\n",
       "       [    39,  45900],\n",
       "       [    29,  26600],\n",
       "       [    60,  54400],\n",
       "       [    52,  13600],\n",
       "       [    24,  58000],\n",
       "       [    63,  83700],\n",
       "       [    69,  32100],\n",
       "       [    74,  19000],\n",
       "       [    40,  85500],\n",
       "       [    52,  73600],\n",
       "       [    20,  99000],\n",
       "       [    65,  65700],\n",
       "       [    43,  23200],\n",
       "       [    37,   3700],\n",
       "       [    28, 107200],\n",
       "       [    72,  73800],\n",
       "       [    59,  38400],\n",
       "       [    53,  26500],\n",
       "       [    36,  14400],\n",
       "       [    29,  16600],\n",
       "       [    29,  37900],\n",
       "       [    28,  51900],\n",
       "       [    68, 135500],\n",
       "       [    54,  70600],\n",
       "       [    65,  78600],\n",
       "       [    53,  34500],\n",
       "       [    19,  28500],\n",
       "       [    68,  27200],\n",
       "       [    74,  80400],\n",
       "       [    52,  15600],\n",
       "       [    48, 133700],\n",
       "       [    56,  55200],\n",
       "       [    22,   6600],\n",
       "       [    33,  55700],\n",
       "       [    51,  29400],\n",
       "       [    50,  86100],\n",
       "       [    20,   2000],\n",
       "       [    29,   2900],\n",
       "       [    62,  38400],\n",
       "       [    72, 135600],\n",
       "       [    53,  78100],\n",
       "       [    40,  13600],\n",
       "       [    36,  14400],\n",
       "       [    72,  64200],\n",
       "       [    75,  83400],\n",
       "       [    59,  33600],\n",
       "       [    37,  61900],\n",
       "       [    65, 128500],\n",
       "       [    73, 116200],\n",
       "       [    66,  93000],\n",
       "       [    69,  66800],\n",
       "       [    19,  69400],\n",
       "       [    59,  98100],\n",
       "       [    64,  42000],\n",
       "       [    66,   6600],\n",
       "       [    67,  97900],\n",
       "       [    53,  34700],\n",
       "       [    64,  56800],\n",
       "       [    29,  26400],\n",
       "       [    26,  53800],\n",
       "       [    71,  93600],\n",
       "       [    46,  76200],\n",
       "       [    30,  68000],\n",
       "       [    50,  45400],\n",
       "       [    44,  24900],\n",
       "       [    68,  17100],\n",
       "       [    67, 119700],\n",
       "       [    39,      0],\n",
       "       [    29,  24300],\n",
       "       [    33,  48600],\n",
       "       [    48,  51600],\n",
       "       [    73,  59200],\n",
       "       [    31,  53500],\n",
       "       [    25,      0],\n",
       "       [    64,  44800],\n",
       "       [    32,  49200],\n",
       "       [    71,  85900],\n",
       "       [    34,  52500],\n",
       "       [    72,  94000],\n",
       "       [    58,   4400],\n",
       "       [    67,  38700],\n",
       "       [    33,  59400],\n",
       "       [    51,  75000],\n",
       "       [    41,  45800],\n",
       "       [    24,  31200],\n",
       "       [    21,  35300],\n",
       "       [    36,  38000],\n",
       "       [    57,  17100],\n",
       "       [    23,  32400],\n",
       "       [    55,  40400],\n",
       "       [    55,  70400],\n",
       "       [    25,   2500],\n",
       "       [    30,  49200],\n",
       "       [    53, 115500],\n",
       "       [    75,  18800],\n",
       "       [    34,  41800],\n",
       "       [    48, 105700],\n",
       "       [    33,  17500],\n",
       "       [    29,  46400],\n",
       "       [    24,  31200],\n",
       "       [    61,  30500],\n",
       "       [    34,  37100],\n",
       "       [    25,  20700],\n",
       "       [    41,  37400],\n",
       "       [    31,  53600],\n",
       "       [    75,  95100],\n",
       "       [    31,  12400],\n",
       "       [    26,  28500],\n",
       "       [    57,  87500],\n",
       "       [    23,  29500],\n",
       "       [    39,  17300],\n",
       "       [    30,  39000],\n",
       "       [    28,  63500],\n",
       "       [    67,  27700],\n",
       "       [    22,  23300],\n",
       "       [    32,  53600],\n",
       "       [    73, 111800],\n",
       "       [    65,  55400],\n",
       "       [    39,  44700],\n",
       "       [    57,  72900],\n",
       "       [    38,  59700],\n",
       "       [    69, 124800],\n",
       "       [    72, 100700],\n",
       "       [    66, 136200],\n",
       "       [    22,   4400],\n",
       "       [    30,   3000],\n",
       "       [    41,  33300],\n",
       "       [    23,  20600],\n",
       "       [    57,  44700],\n",
       "       [    25,  10000],\n",
       "       [    74,  39200],\n",
       "       [    44,  75600],\n",
       "       [    44,  13200],\n",
       "       [    22,  96600],\n",
       "       [    39,  83700],\n",
       "       [    25,  34000],\n",
       "       [    30,  42000],\n",
       "       [    23,  47600]], dtype=int64)"
      ]
     },
     "execution_count": 18,
     "metadata": {},
     "output_type": "execute_result"
    }
   ],
   "source": [
    "x= veriler.iloc[:,2:4].values\n",
    "x"
   ]
  },
  {
   "cell_type": "markdown",
   "metadata": {},
   "source": [
    "## K-MEANS \n",
    "\n",
    "n_clusters kaç tane küme olacağı \n",
    "\n",
    "\n",
    "init'i zaten ya random ya da k-means++ olarak yazmıştık\n",
    "\n",
    "\n",
    "random_state ise nereden başlayacağı veya rastgelilik sayısı da diyebiliriz"
   ]
  },
  {
   "cell_type": "code",
   "execution_count": 19,
   "metadata": {},
   "outputs": [
    {
     "data": {
      "text/plain": [
       "array([[4.14456522e+01, 2.35391304e+04],\n",
       "       [5.79722222e+01, 1.09905556e+05],\n",
       "       [4.62638889e+01, 6.39152778e+04]])"
      ]
     },
     "execution_count": 19,
     "metadata": {},
     "output_type": "execute_result"
    }
   ],
   "source": [
    "from sklearn.cluster import KMeans\n",
    "\n",
    "kmeans=KMeans(n_clusters=3,init=\"k-means++\")\n",
    "\n",
    "kmeans.fit(x)\n",
    "\n",
    "kmeans.cluster_centers_ #merkezlerinin nerede oluşturduğuna bakalım\n",
    "\n",
    "\n",
    "\n",
    "\n",
    "\n",
    "    "
   ]
  },
  {
   "cell_type": "markdown",
   "metadata": {},
   "source": [
    "DERSTE DE ANLATTIĞIMIZ GİBİ K İÇİN OPTİMUM DEĞER DENEYEREK BULUNUR\n"
   ]
  },
  {
   "cell_type": "markdown",
   "metadata": {},
   "source": [
    "Bir AI Uzmanı veya Veri Bilimci bunu şöyle okur..\n",
    "\n",
    "EN BÜYÜK DÜŞÜŞ Yaşayan yer bizim için ideal kümeleme değeridir."
   ]
  },
  {
   "cell_type": "code",
   "execution_count": 20,
   "metadata": {},
   "outputs": [
    {
     "name": "stderr",
     "output_type": "stream",
     "text": [
      "c:\\Users\\yusuf\\anaconda3\\lib\\site-packages\\sklearn\\cluster\\_kmeans.py:881: UserWarning: KMeans is known to have a memory leak on Windows with MKL, when there are less chunks than available threads. You can avoid it by setting the environment variable OMP_NUM_THREADS=1.\n",
      "  warnings.warn(\n"
     ]
    },
    {
     "data": {
      "text/plain": [
       "[241761426840.19498,\n",
       " 68604612132.47226,\n",
       " 36852754776.64554,\n",
       " 19205646967.399178,\n",
       " 12415064105.15978,\n",
       " 8162831945.783776,\n",
       " 6261146162.340532,\n",
       " 4805616979.938422,\n",
       " 3827880238.666803]"
      ]
     },
     "execution_count": 20,
     "metadata": {},
     "output_type": "execute_result"
    }
   ],
   "source": [
    "sonuclar=[]\n",
    "for i in range(1,10):\n",
    "    kmeans= KMeans(n_clusters=i,init=\"k-means++\",random_state=7)\n",
    "    kmeans.fit(x)\n",
    "    sonuclar.append(kmeans.inertia_) # kmeans.inertia_ aslında bizim WCSS değerlerimiz.\n",
    "\n",
    "sonuclar"
   ]
  },
  {
   "cell_type": "markdown",
   "metadata": {},
   "source": [
    "## Görselleştirme İşlemi"
   ]
  },
  {
   "cell_type": "code",
   "execution_count": 21,
   "metadata": {},
   "outputs": [
    {
     "data": {
      "text/plain": [
       "[<matplotlib.lines.Line2D at 0x1f75110a400>]"
      ]
     },
     "execution_count": 21,
     "metadata": {},
     "output_type": "execute_result"
    },
    {
     "data": {
      "image/png": "[encoded data removed]",
      "text/plain": [
       "<Figure size 432x288 with 1 Axes>"
      ]
     },
     "metadata": {
      "needs_background": "light"
     },
     "output_type": "display_data"
    }
   ],
   "source": [
    "plt.plot(range(1,10),sonuclar)"
   ]
  },
  {
   "cell_type": "code",
   "execution_count": null,
   "metadata": {},
   "outputs": [],
   "source": []
  }
 ],
 "metadata": {
  "kernelspec": {
   "display_name": "Python 3.8.8",
   "language": "python",
   "name": "python3"
  },
  "language_info": {
   "codemirror_mode": {
    "name": "ipython",
    "version": 3
   },
   "file_extension": ".py",
   "mimetype": "text/x-python",
   "name": "python",
   "nbconvert_exporter": "python",
   "pygments_lexer": "ipython3",
   "version": "3.8.8"
  },
  "orig_nbformat": 4,
  "vscode": {
   "interpreter": {
    "hash": "e26da9777431fcd98778416b583e2cb3f0c4f5515b7897587b203af2bddddd45"
   }
  }
 },
 "nbformat": 4,
 "nbformat_minor": 2
}
