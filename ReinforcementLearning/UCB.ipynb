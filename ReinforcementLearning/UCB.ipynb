{
 "cells": [
  {
   "cell_type": "markdown",
   "metadata": {},
   "source": [
    "UCB Nedir ? \n",
    "\n",
    "\n",
    "Algoritmanın kabulü, “her olayın arkasında bir dağılım vardır”. Peki bu dağılımları nasıl en avantajlı hale çevirebiliriz?\n",
    "\n",
    "\n",
    "• Kullanıcı her seferinde bir eylem yapar (event - e)\n",
    "\n",
    "• Bu eylem karşılığında bir skor döner (örneğin web tıklaması 1 ve tıklanmaması 0)\n",
    "\n",
    "\n",
    "• Amacımız tıklamaları max çıkarmak.\n",
    "\n",
    "\n",
    "Yani eski tecrübelerden yararlanıp , hangi reklam daha çok ağır basıyorsa ona ağırlık veren bir algoritmadan bahsediyoruz."
   ]
  },
  {
   "cell_type": "code",
   "execution_count": 49,
   "metadata": {},
   "outputs": [],
   "source": [
    "import numpy as np\n",
    "import pandas as pd\n",
    "import matplotlib.pyplot as plt\n",
    "import math\n"
   ]
  },
  {
   "cell_type": "code",
   "execution_count": 50,
   "metadata": {},
   "outputs": [
    {
     "data": {
      "text/html": [
       "<div>\n",
       "<style scoped>\n",
       "    .dataframe tbody tr th:only-of-type {\n",
       "        vertical-align: middle;\n",
       "    }\n",
       "\n",
       "    .dataframe tbody tr th {\n",
       "        vertical-align: top;\n",
       "    }\n",
       "\n",
       "    .dataframe thead th {\n",
       "        text-align: right;\n",
       "    }\n",
       "</style>\n",
       "<table border=\"1\" class=\"dataframe\">\n",
       "  <thead>\n",
       "    <tr style=\"text-align: right;\">\n",
       "      <th></th>\n",
       "      <th>Ad 1</th>\n",
       "      <th>Ad 2</th>\n",
       "      <th>Ad 3</th>\n",
       "      <th>Ad 4</th>\n",
       "      <th>Ad 5</th>\n",
       "      <th>Ad 6</th>\n",
       "      <th>Ad 7</th>\n",
       "      <th>Ad 8</th>\n",
       "      <th>Ad 9</th>\n",
       "      <th>Ad 10</th>\n",
       "    </tr>\n",
       "  </thead>\n",
       "  <tbody>\n",
       "    <tr>\n",
       "      <th>0</th>\n",
       "      <td>1</td>\n",
       "      <td>0</td>\n",
       "      <td>0</td>\n",
       "      <td>0</td>\n",
       "      <td>1</td>\n",
       "      <td>0</td>\n",
       "      <td>0</td>\n",
       "      <td>0</td>\n",
       "      <td>1</td>\n",
       "      <td>0</td>\n",
       "    </tr>\n",
       "    <tr>\n",
       "      <th>1</th>\n",
       "      <td>0</td>\n",
       "      <td>0</td>\n",
       "      <td>0</td>\n",
       "      <td>0</td>\n",
       "      <td>0</td>\n",
       "      <td>0</td>\n",
       "      <td>0</td>\n",
       "      <td>0</td>\n",
       "      <td>1</td>\n",
       "      <td>0</td>\n",
       "    </tr>\n",
       "    <tr>\n",
       "      <th>2</th>\n",
       "      <td>0</td>\n",
       "      <td>0</td>\n",
       "      <td>0</td>\n",
       "      <td>0</td>\n",
       "      <td>0</td>\n",
       "      <td>0</td>\n",
       "      <td>0</td>\n",
       "      <td>0</td>\n",
       "      <td>0</td>\n",
       "      <td>0</td>\n",
       "    </tr>\n",
       "    <tr>\n",
       "      <th>3</th>\n",
       "      <td>0</td>\n",
       "      <td>1</td>\n",
       "      <td>0</td>\n",
       "      <td>0</td>\n",
       "      <td>0</td>\n",
       "      <td>0</td>\n",
       "      <td>0</td>\n",
       "      <td>1</td>\n",
       "      <td>0</td>\n",
       "      <td>0</td>\n",
       "    </tr>\n",
       "    <tr>\n",
       "      <th>4</th>\n",
       "      <td>0</td>\n",
       "      <td>0</td>\n",
       "      <td>0</td>\n",
       "      <td>0</td>\n",
       "      <td>0</td>\n",
       "      <td>0</td>\n",
       "      <td>0</td>\n",
       "      <td>0</td>\n",
       "      <td>0</td>\n",
       "      <td>0</td>\n",
       "    </tr>\n",
       "  </tbody>\n",
       "</table>\n",
       "</div>"
      ],
      "text/plain": [
       "   Ad 1  Ad 2  Ad 3  Ad 4  Ad 5  Ad 6  Ad 7  Ad 8  Ad 9  Ad 10\n",
       "0     1     0     0     0     1     0     0     0     1      0\n",
       "1     0     0     0     0     0     0     0     0     1      0\n",
       "2     0     0     0     0     0     0     0     0     0      0\n",
       "3     0     1     0     0     0     0     0     1     0      0\n",
       "4     0     0     0     0     0     0     0     0     0      0"
      ]
     },
     "execution_count": 50,
     "metadata": {},
     "output_type": "execute_result"
    }
   ],
   "source": [
    "veriler = pd.read_csv('C:/Users/yusuf/Desktop/GOALS/MACHINE LEARNING/Basic/kaynaklar/Ads_CTR_Optimisation.csv')\n",
    "\n",
    "veriler.head()"
   ]
  },
  {
   "cell_type": "code",
   "execution_count": 51,
   "metadata": {},
   "outputs": [
    {
     "data": {
      "text/plain": [
       "array([[1, 0, 0, ..., 0, 1, 0],\n",
       "       [0, 0, 0, ..., 0, 1, 0],\n",
       "       [0, 0, 0, ..., 0, 0, 0],\n",
       "       ...,\n",
       "       [0, 0, 0, ..., 0, 0, 0],\n",
       "       [1, 0, 0, ..., 1, 0, 0],\n",
       "       [0, 1, 0, ..., 0, 0, 0]], dtype=int64)"
      ]
     },
     "execution_count": 51,
     "metadata": {},
     "output_type": "execute_result"
    }
   ],
   "source": [
    "veriler.values"
   ]
  },
  {
   "cell_type": "markdown",
   "metadata": {},
   "source": [
    "Yapacağımız işlemler şunlar olacaktır.\n",
    "\n",
    "1 ADIM : Her turda (tur sayısı burada n olsun) her reklam altrenatifi(i) aşağıdaki sayılarda tutulur.\n",
    "\n",
    "Ni: i sayılı reklamın o ana kadarki tıklama sayısı\n",
    "\n",
    "Ri: o ana kadar ki i reklamından gelen 1 ve 0 'ların yani ödüllerin toplamı..\n",
    "\n",
    "\n",
    "\n"
   ]
  },
  {
   "cell_type": "markdown",
   "metadata": {},
   "source": [
    "2.ADIM: Yukaruda bu iki sayıdan aşağıdaki değerler hesaplanır.\n",
    "\n",
    "O ana kadar ki her reklamın ortalama ödülü Ri/Ni\n",
    "\n",
    "GÜVEN ARALIĞI için aşağı ve yukarı oynama potansiyeli içinse √3log(n)/2Ni ifadesi hesaplanır.\n",
    "\n",
    "\n",
    "n : tur sayısı\n",
    "Ni: i sayılı reklamın o ana kadarki tıklanma sayısı\n",
    "\n",
    "\n",
    "\n",
    "3.ADIM : MAX UCB DEĞERİ SAHİP OLAN ÖNEMLİ.\n",
    "\n",
    "\n",
    "UCB= GÜVEN ARALIĞI + ORTALAMA\n"
   ]
  },
  {
   "cell_type": "code",
   "execution_count": 52,
   "metadata": {},
   "outputs": [],
   "source": [
    "N=10000\n",
    "oduller = [0] * 10 #ilk başta tüm ilanların odülü sıfır.\n",
    "#Ri için\n",
    "toplamOdul=0 # toplam odul hesaplamak ve tanımlamak.\n",
    "#Ni için\n",
    "tıklamalar=[0]*10 # o ana kadar olan tıklama sayısı.\n",
    "secilenler = []\n",
    "for n in range(0,N):\n",
    "    ilan=0  # seçilen reklam \n",
    "    maxUCB=0\n",
    "    \n",
    "    for i in range(0,10): #bu for'un amacı 10 tane reklamın içinde en yüksek olanı bul demek için kullandım.\n",
    "        if(tıklamalar[i]>0):\n",
    "\n",
    "            ortalama=oduller[i]/ tıklamalar[i]\n",
    "            guvenAralığı=math.sqrt(3/2* math.log(n)/tıklamalar[i])\n",
    "            ucb=ortalama+ guvenAralığı\n",
    "\n",
    "        else:\n",
    "            ucb=N*10\n",
    "        if maxUCB < ucb: # eğer ucb değeri diğerlerinden yüksekse yeni ucb değerim o olacak.\n",
    "            maxUCB= ucb\n",
    "            ilan= i #en yüksek ucb değere sahip olan ilana ağırlık verecez artık.\n",
    "    secilenler.append(ilan) #ilanların hepsini bir boş bir liste'de tutuyoruz.\n",
    "    tıklamalar[ilan]= tıklamalar[ilan] +1 # reklam sayısını bir artırmamız gerekiyor yoksa hep aynı değeri döndürür.\n",
    "    odul=veriler.values[n,ilan]\n",
    "    oduller[ilan]= oduller[ilan] + odul # bir ödül döndüyse ilanın ödülünü de 0 veya 1 olarak ekle.\n",
    "    toplamOdul= toplamOdul + odul"
   ]
  },
  {
   "cell_type": "code",
   "execution_count": 53,
   "metadata": {},
   "outputs": [
    {
     "data": {
      "text/plain": [
       "4"
      ]
     },
     "execution_count": 53,
     "metadata": {},
     "output_type": "execute_result"
    }
   ],
   "source": [
    "ilan"
   ]
  },
  {
   "cell_type": "code",
   "execution_count": 54,
   "metadata": {},
   "outputs": [
    {
     "data": {
      "text/plain": [
       "2211"
      ]
     },
     "execution_count": 54,
     "metadata": {},
     "output_type": "execute_result"
    }
   ],
   "source": [
    "toplamOdul"
   ]
  },
  {
   "cell_type": "code",
   "execution_count": 55,
   "metadata": {},
   "outputs": [
    {
     "data": {
      "text/plain": [
       "(array([ 502.,  364.,  278.,  317., 6434.,  147.,  326., 1130.,  331.,\n",
       "         171.]),\n",
       " array([0. , 0.9, 1.8, 2.7, 3.6, 4.5, 5.4, 6.3, 7.2, 8.1, 9. ]),\n",
       " <BarContainer object of 10 artists>)"
      ]
     },
     "execution_count": 55,
     "metadata": {},
     "output_type": "execute_result"
    },
    {
     "data": {
      "image/png": "[encoded data removed]",
      "text/plain": [
       "<Figure size 432x288 with 1 Axes>"
      ]
     },
     "metadata": {
      "needs_background": "light"
     },
     "output_type": "display_data"
    }
   ],
   "source": [
    "plt.hist(secilenler) #her bir ilandan ne kadar seçildiği "
   ]
  }
 ],
 "metadata": {
  "kernelspec": {
   "display_name": "Python 3.8.8",
   "language": "python",
   "name": "python3"
  },
  "language_info": {
   "codemirror_mode": {
    "name": "ipython",
    "version": 3
   },
   "file_extension": ".py",
   "mimetype": "text/x-python",
   "name": "python",
   "nbconvert_exporter": "python",
   "pygments_lexer": "ipython3",
   "version": "3.8.8"
  },
  "orig_nbformat": 4,
  "vscode": {
   "interpreter": {
    "hash": "e26da9777431fcd98778416b583e2cb3f0c4f5515b7897587b203af2bddddd45"
   }
  }
 },
 "nbformat": 4,
 "nbformat_minor": 2
}
