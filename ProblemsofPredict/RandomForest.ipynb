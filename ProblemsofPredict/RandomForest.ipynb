{
 "cells": [
  {
   "cell_type": "code",
   "execution_count": 1,
   "metadata": {},
   "outputs": [],
   "source": [
    "import numpy as np\n",
    "import matplotlib.pyplot as plt\n",
    "import pandas as pd"
   ]
  },
  {
   "cell_type": "code",
   "execution_count": 2,
   "metadata": {},
   "outputs": [
    {
     "data": {
      "text/html": [
       "<div>\n",
       "<style scoped>\n",
       "    .dataframe tbody tr th:only-of-type {\n",
       "        vertical-align: middle;\n",
       "    }\n",
       "\n",
       "    .dataframe tbody tr th {\n",
       "        vertical-align: top;\n",
       "    }\n",
       "\n",
       "    .dataframe thead th {\n",
       "        text-align: right;\n",
       "    }\n",
       "</style>\n",
       "<table border=\"1\" class=\"dataframe\">\n",
       "  <thead>\n",
       "    <tr style=\"text-align: right;\">\n",
       "      <th></th>\n",
       "      <th>unvan</th>\n",
       "      <th>Egitim Seviyesi</th>\n",
       "      <th>maas</th>\n",
       "    </tr>\n",
       "  </thead>\n",
       "  <tbody>\n",
       "    <tr>\n",
       "      <th>0</th>\n",
       "      <td>Cayci</td>\n",
       "      <td>1</td>\n",
       "      <td>2250</td>\n",
       "    </tr>\n",
       "    <tr>\n",
       "      <th>1</th>\n",
       "      <td>Sekreter</td>\n",
       "      <td>2</td>\n",
       "      <td>2500</td>\n",
       "    </tr>\n",
       "    <tr>\n",
       "      <th>2</th>\n",
       "      <td>Uzman Yardimcisi</td>\n",
       "      <td>3</td>\n",
       "      <td>3000</td>\n",
       "    </tr>\n",
       "    <tr>\n",
       "      <th>3</th>\n",
       "      <td>Uzman</td>\n",
       "      <td>4</td>\n",
       "      <td>4000</td>\n",
       "    </tr>\n",
       "    <tr>\n",
       "      <th>4</th>\n",
       "      <td>Proje Yoneticisi</td>\n",
       "      <td>5</td>\n",
       "      <td>5500</td>\n",
       "    </tr>\n",
       "  </tbody>\n",
       "</table>\n",
       "</div>"
      ],
      "text/plain": [
       "              unvan  Egitim Seviyesi  maas\n",
       "0             Cayci                1  2250\n",
       "1          Sekreter                2  2500\n",
       "2  Uzman Yardimcisi                3  3000\n",
       "3             Uzman                4  4000\n",
       "4  Proje Yoneticisi                5  5500"
      ]
     },
     "execution_count": 2,
     "metadata": {},
     "output_type": "execute_result"
    }
   ],
   "source": [
    "#verinin çekilmesi\n",
    "veriler=pd.read_csv(\"maaslar.csv\")\n",
    "veriler.head(5)"
   ]
  },
  {
   "cell_type": "markdown",
   "metadata": {},
   "source": [
    "POLİNOMSAL REGRESYON ŞABLONU \n"
   ]
  },
  {
   "cell_type": "code",
   "execution_count": 3,
   "metadata": {},
   "outputs": [],
   "source": [
    "#değişkenleri ayırmak.. y=a+bx^2 ifadesi..\n",
    "x=veriler.iloc[:,1:2]\n",
    "x\n",
    "y=veriler.iloc[:,-1:]\n",
    "\n",
    "#Eğer ben x.values yazarsam ben bunları np.array'lere çevirmiş olurum. "
   ]
  },
  {
   "cell_type": "code",
   "execution_count": 4,
   "metadata": {},
   "outputs": [
    {
     "data": {
      "text/plain": [
       "[<matplotlib.lines.Line2D at 0x177ac1e6ac0>]"
      ]
     },
     "execution_count": 4,
     "metadata": {},
     "output_type": "execute_result"
    },
    {
     "data": {
      "image/png": "[encoded data removed]",
      "text/plain": [
       "<Figure size 432x288 with 1 Axes>"
      ]
     },
     "metadata": {
      "needs_background": "light"
     },
     "output_type": "display_data"
    }
   ],
   "source": [
    "from sklearn.linear_model import LinearRegression\n",
    "lin_reg= LinearRegression()  #bir kapsül oluşturalım.\n",
    "lin_reg.fit(x.values,y.values) #kolonların değerlerini alalım ki aşağıdaki gösterimde sorun oluşmasın.\n",
    "\n",
    "plt.scatter(x.values,y.values,color=\"black\")\n",
    "plt.plot(x,lin_reg.predict(x.values)) #tahmin etme (predict.)"
   ]
  },
  {
   "cell_type": "code",
   "execution_count": 5,
   "metadata": {},
   "outputs": [
    {
     "name": "stdout",
     "output_type": "stream",
     "text": [
      "[[1.000e+00 1.000e+00 1.000e+00 1.000e+00 1.000e+00]\n",
      " [1.000e+00 2.000e+00 4.000e+00 8.000e+00 1.600e+01]\n",
      " [1.000e+00 3.000e+00 9.000e+00 2.700e+01 8.100e+01]\n",
      " [1.000e+00 4.000e+00 1.600e+01 6.400e+01 2.560e+02]\n",
      " [1.000e+00 5.000e+00 2.500e+01 1.250e+02 6.250e+02]\n",
      " [1.000e+00 6.000e+00 3.600e+01 2.160e+02 1.296e+03]\n",
      " [1.000e+00 7.000e+00 4.900e+01 3.430e+02 2.401e+03]\n",
      " [1.000e+00 8.000e+00 6.400e+01 5.120e+02 4.096e+03]\n",
      " [1.000e+00 9.000e+00 8.100e+01 7.290e+02 6.561e+03]\n",
      " [1.000e+00 1.000e+01 1.000e+02 1.000e+03 1.000e+04]]\n"
     ]
    },
    {
     "data": {
      "text/plain": [
       "[<matplotlib.lines.Line2D at 0x177ac2cfca0>]"
      ]
     },
     "execution_count": 5,
     "metadata": {},
     "output_type": "execute_result"
    },
    {
     "data": {
      "image/png": "[encoded data removed]",
      "text/plain": [
       "<Figure size 432x288 with 1 Axes>"
      ]
     },
     "metadata": {
      "needs_background": "light"
     },
     "output_type": "display_data"
    }
   ],
   "source": [
    "from sklearn.preprocessing import PolynomialFeatures   #bunu kullanıcaz.\n",
    "#for a in range(0,5,2): #for'a aldım..\n",
    "\n",
    "poly_reg=PolynomialFeatures(degree=4) #bir kapsül oluşturdum ve degree(Derecesini 2 yapalım buna istediğimi verebilirim ama benim problemime uygun olmalı)\n",
    "\n",
    "x_poly=poly_reg.fit_transform(x.values) #x'in değerlerini polinomal dünyaya çevirme.\n",
    "\n",
    "print(x_poly)\n",
    "\n",
    "    #şimdi yine linearRegression kapsülünü kullanarak. y=a^0+bx+cx^2 ye göre y'yi öğren dicez.\n",
    "\n",
    "lin_reg2=LinearRegression()\n",
    "lin_reg2.fit(x_poly,y)\n",
    "\n",
    "    #bunu görselleştirelim..\n",
    "plt.scatter(x.values,y.values,color=\"yellow\") #noktalasal bir gösterime sahip oluyor.\n",
    "plt.plot(x,lin_reg2.predict(poly_reg.fit_transform(x.values)),color=\"blue\") #tahmin edeceğin her durumu bu dünyada göster: Dünya ---->poly_reg.fit_transform(x.values)"
   ]
  },
  {
   "cell_type": "markdown",
   "metadata": {},
   "source": [
    "Linear ve Polinomsal Regresyonun Tahmininlerinin karşılaştırması\n"
   ]
  },
  {
   "cell_type": "code",
   "execution_count": 6,
   "metadata": {},
   "outputs": [
    {
     "name": "stdout",
     "output_type": "stream",
     "text": [
      "[[34716.66666667]]\n",
      "[[16923.33333333]]\n"
     ]
    }
   ],
   "source": [
    "print(lin_reg.predict([[11]]))# Eğer eğitim seviyesi 11 ise ne kadar maaş verir. Makine öğrenmesinin cevabı\n",
    "\n",
    "print(lin_reg.predict([[6.6]]))"
   ]
  },
  {
   "cell_type": "code",
   "execution_count": 7,
   "metadata": {},
   "outputs": [
    {
     "name": "stdout",
     "output_type": "stream",
     "text": [
      "[[89041.66666667]]\n",
      "[[8146.9948718]]\n"
     ]
    }
   ],
   "source": [
    "#print(lin_reg2.predict([[11]])) bu şekilde çalıştırırsan bu hatayı alırsın ---> matmul: Input operand 1 has a mismatch in its core dimension 0, with gufunc signature (n?,k),(k,m?)->(n?,m?) (size 5 is different from 1)\n",
    "\n",
    "\"\"\"Bunu polinomsal dünyaya çevirmen gerekiyor.\"\"\"\n",
    "\n",
    "print(lin_reg2.predict(poly_reg.fit_transform([[11]])))\n",
    "print(lin_reg2.predict(poly_reg.fit_transform([[6.6]])))"
   ]
  },
  {
   "cell_type": "markdown",
   "metadata": {},
   "source": [
    "SUPPORT VECTOR MACHINE"
   ]
  },
  {
   "cell_type": "code",
   "execution_count": 8,
   "metadata": {},
   "outputs": [
    {
     "name": "stderr",
     "output_type": "stream",
     "text": [
      "c:\\Users\\yusuf\\anaconda3\\lib\\site-packages\\sklearn\\utils\\validation.py:63: DataConversionWarning: A column-vector y was passed when a 1d array was expected. Please change the shape of y to (n_samples, ), for example using ravel().\n",
      "  return f(*args, **kwargs)\n"
     ]
    },
    {
     "data": {
      "text/plain": [
       "[<matplotlib.lines.Line2D at 0x177ac353c70>]"
      ]
     },
     "execution_count": 8,
     "metadata": {},
     "output_type": "execute_result"
    },
    {
     "data": {
      "image/png": "[encoded data removed]",
      "text/plain": [
       "<Figure size 432x288 with 1 Axes>"
      ]
     },
     "metadata": {
      "needs_background": "light"
     },
     "output_type": "display_data"
    }
   ],
   "source": [
    "#şimdi StandarScaler çağıralım.BU ÖNEMLİ BİR NOKTA.\n",
    "#Normalization (Normalleştirme İşlemleri)\n",
    "\n",
    "from sklearn.preprocessing import StandardScaler\n",
    "\n",
    "sc1=StandardScaler()\n",
    "x_olcekli=sc1.fit_transform(x.values)\n",
    "sc2=StandardScaler()\n",
    "y_olcekli=sc2.fit_transform(y.values)\n",
    "\n",
    "\n",
    "\n",
    "from sklearn.svm import SVR\n",
    "\n",
    "svr_reg=SVR(kernel='rbf') #bu ikisi arasındaki ilişkiyi kurmasını istiyoruz.\n",
    "svr_reg.fit(x_olcekli,y_olcekli) \n",
    "\n",
    "plt.scatter(x_olcekli,y_olcekli,color='black')\n",
    "plt.plot(x_olcekli,svr_reg.predict(x_olcekli),color=\"yellow\") #çizgimizde x_olcekli ekseninde bir çizgi çizecek"
   ]
  },
  {
   "cell_type": "markdown",
   "metadata": {},
   "source": [
    "Support Machine Predict"
   ]
  },
  {
   "cell_type": "markdown",
   "metadata": {},
   "source": []
  },
  {
   "cell_type": "code",
   "execution_count": 9,
   "metadata": {},
   "outputs": [
    {
     "name": "stdout",
     "output_type": "stream",
     "text": [
      "[0.01150915]\n"
     ]
    }
   ],
   "source": [
    "#peki listenin dışında olan bazı değerleri rbf ile tahmin ettirmeye çalışalım..\n",
    "\n",
    "print(svr_reg.predict([[6.6]]))"
   ]
  },
  {
   "cell_type": "markdown",
   "metadata": {},
   "source": [
    "Decision TREE"
   ]
  },
  {
   "cell_type": "code",
   "execution_count": 10,
   "metadata": {},
   "outputs": [
    {
     "data": {
      "text/plain": [
       "[<matplotlib.lines.Line2D at 0x177ac51ff40>]"
      ]
     },
     "execution_count": 10,
     "metadata": {},
     "output_type": "execute_result"
    },
    {
     "data": {
      "image/png": "[encoded data removed]",
      "text/plain": [
       "<Figure size 432x288 with 1 Axes>"
      ]
     },
     "metadata": {
      "needs_background": "light"
     },
     "output_type": "display_data"
    }
   ],
   "source": [
    "from sklearn.tree import DecisionTreeRegressor\n",
    "\n",
    "r_dt=DecisionTreeRegressor(random_state=0) #bir kapsül oluşturalım\n",
    "\n",
    "r_dt.fit(x.values,y.values) #x'ten y'leri öğren diyoruz.\n",
    "\n",
    "plt.scatter(x.values,y.values,color=\"red\")#bize bu uzayı çiz diyoruz.\n",
    "\n",
    "plt.plot(x.values,r_dt.predict(x.values))"
   ]
  },
  {
   "cell_type": "markdown",
   "metadata": {},
   "source": [
    "Decision TREE PREDICT"
   ]
  },
  {
   "cell_type": "code",
   "execution_count": 11,
   "metadata": {},
   "outputs": [
    {
     "name": "stdout",
     "output_type": "stream",
     "text": [
      "[50000.]\n",
      "[10000.]\n"
     ]
    }
   ],
   "source": [
    "#başka tahminler yapılması..\n",
    "\n",
    "print(r_dt.predict([[16]]))\n",
    "print(r_dt.predict([[6.6]])) \n",
    "\n",
    "#Outputlaradan da anlaşılacağı üzere belli kısımda kaldığı sürece hep aynı değerlere söz konusu oluyor.."
   ]
  },
  {
   "cell_type": "markdown",
   "metadata": {},
   "source": [
    "## RANDOM FOREST BAŞLANGICI "
   ]
  },
  {
   "cell_type": "markdown",
   "metadata": {},
   "source": [
    " ravel()  fonksiyonu diziyi düzleştirmek yani yassılaştırmak için kullanılır.\n",
    "\n",
    " print(dizi.ravel())\n",
    "\n",
    " output: [23, 23, 23, 23, 23, 23]\n",
    "\n",
    " print(dizi.ravel().ndim)\n",
    " \n",
    " output: 1  \n",
    "\n",
    "  ndim()  fonksiyonu bir dizinin boyutunu öğrenmemizi sağlar"
   ]
  },
  {
   "cell_type": "code",
   "execution_count": 12,
   "metadata": {},
   "outputs": [
    {
     "data": {
      "text/plain": [
       "RandomForestRegressor(n_estimators=10, random_state=0)"
      ]
     },
     "execution_count": 12,
     "metadata": {},
     "output_type": "execute_result"
    }
   ],
   "source": [
    "from sklearn.ensemble import RandomForestRegressor\n",
    "\n",
    "randomfor_reg= RandomForestRegressor(random_state=0,n_estimators=10) #hemen bir kapsül oluşturalım. Ve bu kapsülün içine iki tane parametre vericem.\n",
    "#bunlardan biri DecisionTree'de de olduğu gibi random_state=0, diğeri ise kaç tane decision tree çizeleceği olan (n_estimators=10)\n",
    "randomfor_reg.fit(x.values,y.values.ravel())"
   ]
  },
  {
   "cell_type": "markdown",
   "metadata": {},
   "source": [
    "Random Forest'in Tahmini"
   ]
  },
  {
   "cell_type": "code",
   "execution_count": 13,
   "metadata": {},
   "outputs": [
    {
     "data": {
      "text/plain": [
       "array([10500.])"
      ]
     },
     "execution_count": 13,
     "metadata": {},
     "output_type": "execute_result"
    }
   ],
   "source": [
    "\n",
    "randomfor_reg.predict([[6.6]]) #random_forest'ın 6.6. statüdeki bir kişiye vereceği maaş tahmini"
   ]
  },
  {
   "cell_type": "code",
   "execution_count": 14,
   "metadata": {},
   "outputs": [
    {
     "data": {
      "text/plain": [
       "array([42500.])"
      ]
     },
     "execution_count": 14,
     "metadata": {},
     "output_type": "execute_result"
    }
   ],
   "source": [
    "randomfor_reg.predict([[19]]) #random_forest'ın 11. statüdeki bir kişiye vereceği maaş tahmini"
   ]
  },
  {
   "cell_type": "markdown",
   "metadata": {},
   "source": [
    "Görselleştirme İşlemleri\n",
    "\n"
   ]
  },
  {
   "cell_type": "code",
   "execution_count": 15,
   "metadata": {},
   "outputs": [
    {
     "data": {
      "text/plain": [
       "[<matplotlib.lines.Line2D at 0x177ac614580>]"
      ]
     },
     "execution_count": 15,
     "metadata": {},
     "output_type": "execute_result"
    },
    {
     "data": {
      "image/png": "[encoded data removed]",
      "text/plain": [
       "<Figure size 432x288 with 1 Axes>"
      ]
     },
     "metadata": {
      "needs_background": "light"
     },
     "output_type": "display_data"
    }
   ],
   "source": [
    "\n",
    "\n",
    "\n",
    "plt.scatter(x.values,y.values,color=\"yellow\") #bana bu uzayı yarat diyorum.\n",
    "plt.plot(x.values,randomfor_reg.predict(x.values))"
   ]
  },
  {
   "cell_type": "markdown",
   "metadata": {},
   "source": [
    "Random Forest ile Decision Tree Genel Farkı şu aslında. \n",
    "\n",
    "Random forest arka bahçede decision Tree kullanıyor ancak aynı değiller. ÖRNEĞİN: \n",
    "\n",
    "\n",
    "Decision Tree ne olursa olsun min-max arasında bir değer vermek zorunda. Ancak Random Forest böyle bir zorunluluğu yok.\n"
   ]
  },
  {
   "cell_type": "code",
   "execution_count": 16,
   "metadata": {},
   "outputs": [
    {
     "data": {
      "text/plain": [
       "[<matplotlib.lines.Line2D at 0x177ac66ed90>]"
      ]
     },
     "execution_count": 16,
     "metadata": {},
     "output_type": "execute_result"
    },
    {
     "data": {
      "image/png": "[encoded data removed]",
      "text/plain": [
       "<Figure size 432x288 with 1 Axes>"
      ]
     },
     "metadata": {
      "needs_background": "light"
     },
     "output_type": "display_data"
    }
   ],
   "source": [
    "\n",
    "Z= x.values + 0.5\n",
    "K= x.values + 0.4\n",
    "\n",
    "\n",
    "\n",
    "\n",
    "plt.scatter(x.values,y.values,color=\"yellow\") #bana bu uzayı yarat diyorum.\n",
    "plt.plot(x.values,randomfor_reg.predict(x.values))\n",
    "plt.plot(x.values,randomfor_reg.predict(Z),color= \"black\")\n",
    "plt.plot(x.values,randomfor_reg.predict(K),color=\"green\")\n",
    "\n"
   ]
  },
  {
   "cell_type": "markdown",
   "metadata": {},
   "source": [
    "## R2 YÖNTEMİ \n",
    "\n",
    "R^2= 1- (Target- Predict)^2 / (Target - Predict(average))^2\n",
    "\n",
    "0 altına düşerse durumunuz çok vahim. Hiç bişey yapmasanız sadece target ortalamayı alsanız 0 çıkar öyle bi durum.\n",
    "\n",
    "Değerimiz 1'e yaklaşırsa o kadar iyi durumdayız demektir.\n",
    "\n",
    "\n",
    "Gerçek ve tahmin arasındaki bağlantıyı bulur.\n"
   ]
  },
  {
   "cell_type": "markdown",
   "metadata": {},
   "source": []
  },
  {
   "cell_type": "code",
   "execution_count": 17,
   "metadata": {},
   "outputs": [
    {
     "name": "stdout",
     "output_type": "stream",
     "text": [
      "# Random forest algoritmasını kullanarak R2 değerimizi  0.9704434230386582 verdi.. Mükemmel değerimiz r2 göre 1  zaten \n"
     ]
    }
   ],
   "source": [
    "from sklearn.metrics import r2_score\n",
    "\n",
    "a=r2_score(y.values,randomfor_reg.predict(x.values)) #ilk parametrem target(Y), ikincisi ise ise tahminlerimiz.\n",
    "b=r2_score(y.values,r_dt.predict(x.values)) #Decision Tree\n",
    "c=r2_score(y_olcekli,svr_reg.predict(x_olcekli)) #support vector Regression \n",
    "d=r2_score(y.values,lin_reg.predict(x.values)) #Lineer Regresyon\n",
    "e=r2_score(y.values,lin_reg2.predict(poly_reg.fit_transform(x.values))) #Polinamsal Regresyon\n",
    "\n",
    "\n",
    "\n",
    "# output olarak 0.97 verdi.. Mükemmel değerimiz r2 göre \n",
    "\n",
    "print(f\"# Random forest algoritmasını kullanarak R2 değerimizi  {a} verdi.. Mükemmel değerimiz r2 göre 1  zaten \")\n",
    "\n"
   ]
  },
  {
   "cell_type": "markdown",
   "metadata": {},
   "source": [
    " "
   ]
  },
  {
   "cell_type": "code",
   "execution_count": 18,
   "metadata": {},
   "outputs": [
    {
     "name": "stdout",
     "output_type": "stream",
     "text": [
      "# Decision Tree algoritmasını kullanarak R2 değerimizi  1.0 verdi.. Mükemmel değerimiz r2 göre  1 zaten \n"
     ]
    }
   ],
   "source": [
    "print(f\"# Decision Tree algoritmasını kullanarak R2 değerimizi  {b} verdi.. Mükemmel değerimiz r2 göre  1 zaten \") #Aslında sanıldığı kadar mükemmel değil. Farklı veri seti gelince patlıcak"
   ]
  },
  {
   "cell_type": "code",
   "execution_count": 19,
   "metadata": {},
   "outputs": [
    {
     "name": "stdout",
     "output_type": "stream",
     "text": [
      "# support vector Regression  algoritmasını kullanarak R2 değerimizi  0.7513836788854973 verdi.. Mükemmel değerimiz r2 göre 1 zaten \n"
     ]
    }
   ],
   "source": [
    "\n",
    "print(f\"# support vector Regression  algoritmasını kullanarak R2 değerimizi  {c} verdi.. Mükemmel değerimiz r2 göre 1 zaten \") \n"
   ]
  },
  {
   "cell_type": "code",
   "execution_count": 20,
   "metadata": {},
   "outputs": [
    {
     "name": "stdout",
     "output_type": "stream",
     "text": [
      "# Random forest algoritmasını kullanarak R2 değerimizi  0.6690412331929894 verdi.. Mükemmel değerimiz r2 göre 1  zaten \n"
     ]
    }
   ],
   "source": [
    "print(f\"# Random forest algoritmasını kullanarak R2 değerimizi  {d} verdi.. Mükemmel değerimiz r2 göre 1  zaten \")"
   ]
  },
  {
   "cell_type": "code",
   "execution_count": 21,
   "metadata": {},
   "outputs": [
    {
     "name": "stdout",
     "output_type": "stream",
     "text": [
      "# Polinomsal Regresyon algoritmasını kullanarak R2 değerimizi  0.9973922891706613 verdi.. Mükemmel değerimiz r2 göre 1  zaten \n"
     ]
    }
   ],
   "source": [
    "print(f\"# Polinomsal Regresyon algoritmasını kullanarak R2 değerimizi  {e} verdi.. Mükemmel değerimiz r2 göre 1  zaten \")"
   ]
  },
  {
   "cell_type": "code",
   "execution_count": null,
   "metadata": {},
   "outputs": [],
   "source": []
  }
 ],
 "metadata": {
  "kernelspec": {
   "display_name": "Python 3.8.8",
   "language": "python",
   "name": "python3"
  },
  "language_info": {
   "codemirror_mode": {
    "name": "ipython",
    "version": 3
   },
   "file_extension": ".py",
   "mimetype": "text/x-python",
   "name": "python",
   "nbconvert_exporter": "python",
   "pygments_lexer": "ipython3",
   "version": "3.8.8"
  },
  "orig_nbformat": 4,
  "vscode": {
   "interpreter": {
    "hash": "e26da9777431fcd98778416b583e2cb3f0c4f5515b7897587b203af2bddddd45"
   }
  }
 },
 "nbformat": 4,
 "nbformat_minor": 2
}
