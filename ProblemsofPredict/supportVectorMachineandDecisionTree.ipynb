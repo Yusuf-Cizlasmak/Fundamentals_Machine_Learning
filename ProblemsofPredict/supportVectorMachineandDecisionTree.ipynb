{
 "cells": [
  {
   "cell_type": "code",
   "execution_count": 1,
   "metadata": {},
   "outputs": [
    {
     "data": {
      "text/plain": [
       "'\\nhttps://scikit-learn.org/0.18/auto_examples/svm/plot_svm_regression.html\\n\\nhttps://medium.com/@yigitsener/destek-vektör-makineleri-support-vector-machine-svm-çalışma-mantığı-ve-python-uygulaması-992163ff3eec\\n\\n'"
      ]
     },
     "execution_count": 1,
     "metadata": {},
     "output_type": "execute_result"
    }
   ],
   "source": [
    "#konuyla ilgili daha çok tanım ve grafik bulabileceğimiz kaynak ve siteler:\n",
    "\n",
    "\"\"\"\n",
    "https://scikit-learn.org/0.18/auto_examples/svm/plot_svm_regression.html\n",
    "\n",
    "https://medium.com/@yigitsener/destek-vektör-makineleri-support-vector-machine-svm-çalışma-mantığı-ve-python-uygulaması-992163ff3eec\n",
    "\n",
    "\"\"\""
   ]
  },
  {
   "cell_type": "code",
   "execution_count": 2,
   "metadata": {},
   "outputs": [],
   "source": [
    "import numpy as np\n",
    "import matplotlib.pyplot as plt\n",
    "import pandas as pd"
   ]
  },
  {
   "cell_type": "code",
   "execution_count": 3,
   "metadata": {},
   "outputs": [
    {
     "data": {
      "text/html": [
       "<div>\n",
       "<style scoped>\n",
       "    .dataframe tbody tr th:only-of-type {\n",
       "        vertical-align: middle;\n",
       "    }\n",
       "\n",
       "    .dataframe tbody tr th {\n",
       "        vertical-align: top;\n",
       "    }\n",
       "\n",
       "    .dataframe thead th {\n",
       "        text-align: right;\n",
       "    }\n",
       "</style>\n",
       "<table border=\"1\" class=\"dataframe\">\n",
       "  <thead>\n",
       "    <tr style=\"text-align: right;\">\n",
       "      <th></th>\n",
       "      <th>unvan</th>\n",
       "      <th>Egitim Seviyesi</th>\n",
       "      <th>maas</th>\n",
       "    </tr>\n",
       "  </thead>\n",
       "  <tbody>\n",
       "    <tr>\n",
       "      <th>0</th>\n",
       "      <td>Cayci</td>\n",
       "      <td>1</td>\n",
       "      <td>2250</td>\n",
       "    </tr>\n",
       "    <tr>\n",
       "      <th>1</th>\n",
       "      <td>Sekreter</td>\n",
       "      <td>2</td>\n",
       "      <td>2500</td>\n",
       "    </tr>\n",
       "    <tr>\n",
       "      <th>2</th>\n",
       "      <td>Uzman Yardimcisi</td>\n",
       "      <td>3</td>\n",
       "      <td>3000</td>\n",
       "    </tr>\n",
       "    <tr>\n",
       "      <th>3</th>\n",
       "      <td>Uzman</td>\n",
       "      <td>4</td>\n",
       "      <td>4000</td>\n",
       "    </tr>\n",
       "    <tr>\n",
       "      <th>4</th>\n",
       "      <td>Proje Yoneticisi</td>\n",
       "      <td>5</td>\n",
       "      <td>5500</td>\n",
       "    </tr>\n",
       "  </tbody>\n",
       "</table>\n",
       "</div>"
      ],
      "text/plain": [
       "              unvan  Egitim Seviyesi  maas\n",
       "0             Cayci                1  2250\n",
       "1          Sekreter                2  2500\n",
       "2  Uzman Yardimcisi                3  3000\n",
       "3             Uzman                4  4000\n",
       "4  Proje Yoneticisi                5  5500"
      ]
     },
     "execution_count": 3,
     "metadata": {},
     "output_type": "execute_result"
    }
   ],
   "source": [
    "#verinin çekilmesi\n",
    "veriler=pd.read_csv(\"maaslar.csv\")\n",
    "veriler.head(5)"
   ]
  },
  {
   "cell_type": "markdown",
   "metadata": {},
   "source": [
    "POLİNOMSAL REGRESYON ŞABLONU "
   ]
  },
  {
   "cell_type": "code",
   "execution_count": 4,
   "metadata": {},
   "outputs": [],
   "source": [
    "#değişkenleri ayırmak.. y=a+bx^2 ifadesi..\n",
    "x=veriler.iloc[:,1:2]\n",
    "x\n",
    "y=veriler.iloc[:,-1:]\n",
    "\n",
    "\n",
    "#Eğer ben x.values yazarsam ben bunları np.array'lere çevirmiş olurum. \n",
    "\n"
   ]
  },
  {
   "cell_type": "code",
   "execution_count": 5,
   "metadata": {},
   "outputs": [
    {
     "data": {
      "text/plain": [
       "[<matplotlib.lines.Line2D at 0x1432acc1fa0>]"
      ]
     },
     "execution_count": 5,
     "metadata": {},
     "output_type": "execute_result"
    },
    {
     "data": {
      "image/png": "[encoded data removed]",
      "text/plain": [
       "<Figure size 432x288 with 1 Axes>"
      ]
     },
     "metadata": {
      "needs_background": "light"
     },
     "output_type": "display_data"
    }
   ],
   "source": [
    "from sklearn.linear_model import LinearRegression\n",
    "lin_reg= LinearRegression()  #bir kapsül oluşturalım.\n",
    "lin_reg.fit(x.values,y.values) #kolonların değerlerini alalım ki aşağıdaki gösterimde sorun oluşmasın.\n",
    "\n",
    "plt.scatter(x.values,y.values,color=\"black\")\n",
    "plt.plot(x,lin_reg.predict(x.values)) #tahmin etme (predict.)"
   ]
  },
  {
   "cell_type": "code",
   "execution_count": 6,
   "metadata": {},
   "outputs": [
    {
     "name": "stdout",
     "output_type": "stream",
     "text": [
      "[[1.]\n",
      " [1.]\n",
      " [1.]\n",
      " [1.]\n",
      " [1.]\n",
      " [1.]\n",
      " [1.]\n",
      " [1.]\n",
      " [1.]\n",
      " [1.]]\n",
      "[[  1.   1.   1.]\n",
      " [  1.   2.   4.]\n",
      " [  1.   3.   9.]\n",
      " [  1.   4.  16.]\n",
      " [  1.   5.  25.]\n",
      " [  1.   6.  36.]\n",
      " [  1.   7.  49.]\n",
      " [  1.   8.  64.]\n",
      " [  1.   9.  81.]\n",
      " [  1.  10. 100.]]\n",
      "[[1.000e+00 1.000e+00 1.000e+00 1.000e+00 1.000e+00]\n",
      " [1.000e+00 2.000e+00 4.000e+00 8.000e+00 1.600e+01]\n",
      " [1.000e+00 3.000e+00 9.000e+00 2.700e+01 8.100e+01]\n",
      " [1.000e+00 4.000e+00 1.600e+01 6.400e+01 2.560e+02]\n",
      " [1.000e+00 5.000e+00 2.500e+01 1.250e+02 6.250e+02]\n",
      " [1.000e+00 6.000e+00 3.600e+01 2.160e+02 1.296e+03]\n",
      " [1.000e+00 7.000e+00 4.900e+01 3.430e+02 2.401e+03]\n",
      " [1.000e+00 8.000e+00 6.400e+01 5.120e+02 4.096e+03]\n",
      " [1.000e+00 9.000e+00 8.100e+01 7.290e+02 6.561e+03]\n",
      " [1.000e+00 1.000e+01 1.000e+02 1.000e+03 1.000e+04]]\n"
     ]
    },
    {
     "data": {
      "image/png": "[encoded data removed]",
      "text/plain": [
       "<Figure size 432x288 with 1 Axes>"
      ]
     },
     "metadata": {
      "needs_background": "light"
     },
     "output_type": "display_data"
    }
   ],
   "source": [
    "from sklearn.preprocessing import PolynomialFeatures   #bunu kullanıcaz.\n",
    "for a in range(0,5,2): #for'a aldım..\n",
    "\n",
    "    poly_reg=PolynomialFeatures(a) #bir kapsül oluşturdum ve degree(Derecesini 2 yapalım buna istediğimi verebilirim ama benim problemime uygun olmalı)\n",
    "\n",
    "    x_poly=poly_reg.fit_transform(x.values) #x'in değerlerini polinomal dünyaya çevirme.\n",
    "\n",
    "    print(x_poly)\n",
    "\n",
    "    #şimdi yine linearRegression kapsülünü kullanarak. y=a^0+bx+cx^2 ye göre y'yi öğren dicez.\n",
    "\n",
    "    lin_reg2=LinearRegression()\n",
    "    lin_reg2.fit(x_poly,y)\n",
    "\n",
    "    #bunu görselleştirelim..\n",
    "    plt.scatter(x.values,y.values,color=\"yellow\") #noktalasal bir gösterime sahip oluyor.\n",
    "    plt.plot(x,lin_reg2.predict(poly_reg.fit_transform(x.values)),color=\"blue\") #tahmin edeceğin her durumu bu dünyada göster: Dünya ---->poly_reg.fit_transform(x.values)"
   ]
  },
  {
   "cell_type": "code",
   "execution_count": 7,
   "metadata": {},
   "outputs": [
    {
     "name": "stdout",
     "output_type": "stream",
     "text": [
      "[[34716.66666667]]\n",
      "[[16923.33333333]]\n"
     ]
    }
   ],
   "source": [
    "print(lin_reg.predict([[11]]))# Eğer eğitim seviyesi 11 ise ne kadar maaş verir. Makine öğrenmesinin cevabı\n",
    "\n",
    "print(lin_reg.predict([[6.6]]))\n"
   ]
  },
  {
   "cell_type": "code",
   "execution_count": 8,
   "metadata": {},
   "outputs": [
    {
     "name": "stdout",
     "output_type": "stream",
     "text": [
      "[[89041.66666667]]\n",
      "[[8146.9948718]]\n"
     ]
    }
   ],
   "source": [
    "#print(lin_reg2.predict([[11]])) bu şekilde çalıştırırsan bu hatayı alırsın ---> matmul: Input operand 1 has a mismatch in its core dimension 0, with gufunc signature (n?,k),(k,m?)->(n?,m?) (size 5 is different from 1)\n",
    "\n",
    "\"\"\"Bunu polinomsal dünyaya çevirmen gerekiyor.\"\"\"\n",
    "\n",
    "print(lin_reg2.predict(poly_reg.fit_transform([[11]])))\n",
    "print(lin_reg2.predict(poly_reg.fit_transform([[6.6]])))"
   ]
  },
  {
   "cell_type": "markdown",
   "metadata": {},
   "source": [
    "SUPPORT VECTOR MACHINE"
   ]
  },
  {
   "cell_type": "code",
   "execution_count": 9,
   "metadata": {},
   "outputs": [
    {
     "name": "stderr",
     "output_type": "stream",
     "text": [
      "c:\\Users\\yusuf\\anaconda3\\lib\\site-packages\\sklearn\\utils\\validation.py:63: DataConversionWarning: A column-vector y was passed when a 1d array was expected. Please change the shape of y to (n_samples, ), for example using ravel().\n",
      "  return f(*args, **kwargs)\n"
     ]
    },
    {
     "data": {
      "text/plain": [
       "[<matplotlib.lines.Line2D at 0x1432ae32cd0>]"
      ]
     },
     "execution_count": 9,
     "metadata": {},
     "output_type": "execute_result"
    },
    {
     "data": {
      "image/png": "[encoded data removed]",
      "text/plain": [
       "<Figure size 432x288 with 1 Axes>"
      ]
     },
     "metadata": {
      "needs_background": "light"
     },
     "output_type": "display_data"
    }
   ],
   "source": [
    "#şimdi StandarScaler çağıralım.BU ÖNEMLİ BİR NOKTA.\n",
    "#Normalization (Normalleştirme İşlemleri)\n",
    "\n",
    "from sklearn.preprocessing import StandardScaler\n",
    "\n",
    "sc1=StandardScaler()\n",
    "x_olcekli=sc1.fit_transform(x.values)\n",
    "sc2=StandardScaler()\n",
    "y_olcekli=sc2.fit_transform(y.values)\n",
    "\n",
    "\n",
    "\n",
    "from sklearn.svm import SVR\n",
    "\n",
    "svr_reg=SVR(kernel='rbf') #bu ikisi arasındaki ilişkiyi kurmasını istiyoruz.\n",
    "svr_reg.fit(x_olcekli,y_olcekli) \n",
    "\n",
    "plt.scatter(x_olcekli,y_olcekli,color='black')\n",
    "plt.plot(x_olcekli,svr_reg.predict(x_olcekli),color=\"yellow\") #çizgimizde x_olcekli ekseninde bir çizgi çizecek"
   ]
  },
  {
   "cell_type": "code",
   "execution_count": 10,
   "metadata": {},
   "outputs": [
    {
     "name": "stdout",
     "output_type": "stream",
     "text": [
      "[0.01150915]\n"
     ]
    }
   ],
   "source": [
    "#peki listenin dışında olan bazı değerleri rbf ile tahmin ettirmeye çalışalım..\n",
    "\n",
    "print(svr_reg.predict([[6.6]]))"
   ]
  },
  {
   "cell_type": "markdown",
   "metadata": {},
   "source": [
    "DECISION TREE"
   ]
  },
  {
   "cell_type": "code",
   "execution_count": 16,
   "metadata": {},
   "outputs": [
    {
     "data": {
      "text/plain": [
       "[<matplotlib.lines.Line2D at 0x1432b0704c0>]"
      ]
     },
     "execution_count": 16,
     "metadata": {},
     "output_type": "execute_result"
    },
    {
     "data": {
      "image/png": "[encoded data removed]",
      "text/plain": [
       "<Figure size 432x288 with 1 Axes>"
      ]
     },
     "metadata": {
      "needs_background": "light"
     },
     "output_type": "display_data"
    }
   ],
   "source": [
    "from sklearn.tree import DecisionTreeRegressor\n",
    "\n",
    "r_dt=DecisionTreeRegressor(random_state=0) #bir kapsül oluşturalım\n",
    "\n",
    "r_dt.fit(x.values,y.values) #x'ten y'leri öğren diyoruz.\n",
    "\n",
    "plt.scatter(x.values,y.values,color=\"red\")#bize bu uzayı çiz diyoruz.\n",
    "\n",
    "plt.plot(x.values,r_dt.predict(x.values))\n"
   ]
  },
  {
   "cell_type": "code",
   "execution_count": 15,
   "metadata": {},
   "outputs": [
    {
     "name": "stdout",
     "output_type": "stream",
     "text": [
      "[50000.]\n",
      "[10000.]\n"
     ]
    }
   ],
   "source": [
    "#başka tahminler yapılması..\n",
    "\n",
    "print(r_dt.predict([[16]]))\n",
    "print(r_dt.predict([[6.6]])) \n",
    "\n",
    "#Outputlaradan da anlaşılacağı üzere belli kısımda kaldığı sürece hep aynı değerlere söz konusu oluyor..\n"
   ]
  },
  {
   "cell_type": "code",
   "execution_count": null,
   "metadata": {},
   "outputs": [],
   "source": []
  }
 ],
 "metadata": {
  "kernelspec": {
   "display_name": "Python 3.8.8",
   "language": "python",
   "name": "python3"
  },
  "language_info": {
   "codemirror_mode": {
    "name": "ipython",
    "version": 3
   },
   "file_extension": ".py",
   "mimetype": "text/x-python",
   "name": "python",
   "nbconvert_exporter": "python",
   "pygments_lexer": "ipython3",
   "version": "3.8.8"
  },
  "orig_nbformat": 4,
  "vscode": {
   "interpreter": {
    "hash": "e26da9777431fcd98778416b583e2cb3f0c4f5515b7897587b203af2bddddd45"
   }
  }
 },
 "nbformat": 4,
 "nbformat_minor": 2
}
